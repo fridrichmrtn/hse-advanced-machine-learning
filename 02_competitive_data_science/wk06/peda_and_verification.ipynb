{
 "cells": [
  {
   "cell_type": "markdown",
   "metadata": {},
   "source": [
    "# Preliminary exploratory data analysis and verification design\n",
    "\n",
    "You are provided with daily historical sales data. The task is to forecast the total amount of products sold in every shop for the test set. Note that the list of shops and products slightly changes every month. Creating a robust model that can handle such situations is part of the challenge.\n",
    "\n",
    "**File descriptions**  \n",
    " * sales_train.csv - the training set. Daily historical data from January 2013 to October 2015.\n",
    " * test.csv - the test set. You need to forecast the sales for these shops and products for November 2015.\n",
    " * sample_submission.csv - a sample submission file in the correct format.\n",
    " * items.csv - supplemental information about the items/products.\n",
    " * item_categories.csv  - supplemental information about the items categories.\n",
    " * shops.csv- supplemental information about the shops.\n",
    "\n",
    " **Selected data fields**  \n",
    " * ID - an Id that represents a (Shop, Item) tuple within the test set\n",
    " * shop_id - unique identifier of a shop\n",
    " * item_id - unique identifier of a product\n",
    " * item_category_id - unique identifier of item category\n",
    " * item_cnt_day - number of products sold. You are predicting a monthly amount of this measure\n",
    " * item_price - current price of an item\n",
    " * date - date in format dd/mm/yyyy\n",
    " * date_block_num - a consecutive month number, used for convenience. January 2013 is 0, February 2013 is 1,..., October 2015 is 33\n",
    " * item_name - name of item\n",
    " * shop_name - name of shop\n",
    " * item_category_name - name of item category"
   ]
  },
  {
   "cell_type": "code",
   "execution_count": 2,
   "metadata": {},
   "outputs": [],
   "source": [
    "import numpy as np\n",
    "import pandas as pd\n",
    "import matplotlib.pyplot as plt"
   ]
  },
  {
   "cell_type": "markdown",
   "metadata": {},
   "source": [
    "## Data loading"
   ]
  },
  {
   "cell_type": "code",
   "execution_count": 3,
   "metadata": {},
   "outputs": [],
   "source": [
    "DATA_DIR = \"../data/final_project/\"\n",
    "# sales\n",
    "sales_train = pd.read_csv(DATA_DIR+\"sales_train.csv\")\n",
    "sales_test = pd.read_csv(DATA_DIR+\"test.csv\")\n",
    "\n",
    "# addional info\n",
    "items = pd.read_csv(DATA_DIR+\"items.csv\")\n",
    "item_categories = pd.read_csv(DATA_DIR+\"item_categories.csv\")\n",
    "shops = pd.read_csv(DATA_DIR+\"shops.csv\")"
   ]
  },
  {
   "cell_type": "code",
   "execution_count": null,
   "metadata": {},
   "outputs": [],
   "source": []
  },
  {
   "cell_type": "markdown",
   "metadata": {},
   "source": [
    "## Data packaging"
   ]
  },
  {
   "cell_type": "code",
   "execution_count": 4,
   "metadata": {},
   "outputs": [
    {
     "name": "stdout",
     "output_type": "stream",
     "text": [
      "Sales train shape: (2935849, 6)\n",
      "Sales test shape: (214200, 3)\n",
      "Items: (22170, 3)\n",
      "Item categories: (84, 2)\n",
      "Shops: (60, 2)\n"
     ]
    }
   ],
   "source": [
    "# lets check shapes\n",
    "print(\"Sales train shape: {}\".format(sales_train.shape))\n",
    "print(\"Sales test shape: {}\".format(sales_test.shape))\n",
    "print(\"Items: {}\".format(items.shape))\n",
    "print(\"Item categories: {}\".format(item_categories.shape))\n",
    "print(\"Shops: {}\".format(shops.shape))"
   ]
  },
  {
   "cell_type": "code",
   "execution_count": 5,
   "metadata": {},
   "outputs": [
    {
     "name": "stdout",
     "output_type": "stream",
     "text": [
      "Sales train\n"
     ]
    },
    {
     "data": {
      "text/html": [
       "<div>\n",
       "<style scoped>\n",
       "    .dataframe tbody tr th:only-of-type {\n",
       "        vertical-align: middle;\n",
       "    }\n",
       "\n",
       "    .dataframe tbody tr th {\n",
       "        vertical-align: top;\n",
       "    }\n",
       "\n",
       "    .dataframe thead th {\n",
       "        text-align: right;\n",
       "    }\n",
       "</style>\n",
       "<table border=\"1\" class=\"dataframe\">\n",
       "  <thead>\n",
       "    <tr style=\"text-align: right;\">\n",
       "      <th></th>\n",
       "      <th>date</th>\n",
       "      <th>date_block_num</th>\n",
       "      <th>shop_id</th>\n",
       "      <th>item_id</th>\n",
       "      <th>item_price</th>\n",
       "      <th>item_cnt_day</th>\n",
       "    </tr>\n",
       "  </thead>\n",
       "  <tbody>\n",
       "    <tr>\n",
       "      <th>0</th>\n",
       "      <td>02.01.2013</td>\n",
       "      <td>0</td>\n",
       "      <td>59</td>\n",
       "      <td>22154</td>\n",
       "      <td>999.0</td>\n",
       "      <td>1.0</td>\n",
       "    </tr>\n",
       "    <tr>\n",
       "      <th>1</th>\n",
       "      <td>03.01.2013</td>\n",
       "      <td>0</td>\n",
       "      <td>25</td>\n",
       "      <td>2552</td>\n",
       "      <td>899.0</td>\n",
       "      <td>1.0</td>\n",
       "    </tr>\n",
       "    <tr>\n",
       "      <th>2</th>\n",
       "      <td>05.01.2013</td>\n",
       "      <td>0</td>\n",
       "      <td>25</td>\n",
       "      <td>2552</td>\n",
       "      <td>899.0</td>\n",
       "      <td>-1.0</td>\n",
       "    </tr>\n",
       "  </tbody>\n",
       "</table>\n",
       "</div>"
      ],
      "text/plain": [
       "         date  date_block_num  shop_id  item_id  item_price  item_cnt_day\n",
       "0  02.01.2013               0       59    22154       999.0           1.0\n",
       "1  03.01.2013               0       25     2552       899.0           1.0\n",
       "2  05.01.2013               0       25     2552       899.0          -1.0"
      ]
     },
     "metadata": {},
     "output_type": "display_data"
    },
    {
     "name": "stdout",
     "output_type": "stream",
     "text": [
      "Sales test\n"
     ]
    },
    {
     "data": {
      "text/html": [
       "<div>\n",
       "<style scoped>\n",
       "    .dataframe tbody tr th:only-of-type {\n",
       "        vertical-align: middle;\n",
       "    }\n",
       "\n",
       "    .dataframe tbody tr th {\n",
       "        vertical-align: top;\n",
       "    }\n",
       "\n",
       "    .dataframe thead th {\n",
       "        text-align: right;\n",
       "    }\n",
       "</style>\n",
       "<table border=\"1\" class=\"dataframe\">\n",
       "  <thead>\n",
       "    <tr style=\"text-align: right;\">\n",
       "      <th></th>\n",
       "      <th>ID</th>\n",
       "      <th>shop_id</th>\n",
       "      <th>item_id</th>\n",
       "    </tr>\n",
       "  </thead>\n",
       "  <tbody>\n",
       "    <tr>\n",
       "      <th>0</th>\n",
       "      <td>0</td>\n",
       "      <td>5</td>\n",
       "      <td>5037</td>\n",
       "    </tr>\n",
       "    <tr>\n",
       "      <th>1</th>\n",
       "      <td>1</td>\n",
       "      <td>5</td>\n",
       "      <td>5320</td>\n",
       "    </tr>\n",
       "    <tr>\n",
       "      <th>2</th>\n",
       "      <td>2</td>\n",
       "      <td>5</td>\n",
       "      <td>5233</td>\n",
       "    </tr>\n",
       "  </tbody>\n",
       "</table>\n",
       "</div>"
      ],
      "text/plain": [
       "   ID  shop_id  item_id\n",
       "0   0        5     5037\n",
       "1   1        5     5320\n",
       "2   2        5     5233"
      ]
     },
     "metadata": {},
     "output_type": "display_data"
    },
    {
     "name": "stdout",
     "output_type": "stream",
     "text": [
      "Items\n"
     ]
    },
    {
     "data": {
      "text/html": [
       "<div>\n",
       "<style scoped>\n",
       "    .dataframe tbody tr th:only-of-type {\n",
       "        vertical-align: middle;\n",
       "    }\n",
       "\n",
       "    .dataframe tbody tr th {\n",
       "        vertical-align: top;\n",
       "    }\n",
       "\n",
       "    .dataframe thead th {\n",
       "        text-align: right;\n",
       "    }\n",
       "</style>\n",
       "<table border=\"1\" class=\"dataframe\">\n",
       "  <thead>\n",
       "    <tr style=\"text-align: right;\">\n",
       "      <th></th>\n",
       "      <th>item_name</th>\n",
       "      <th>item_id</th>\n",
       "      <th>item_category_id</th>\n",
       "    </tr>\n",
       "  </thead>\n",
       "  <tbody>\n",
       "    <tr>\n",
       "      <th>0</th>\n",
       "      <td>! ВО ВЛАСТИ НАВАЖДЕНИЯ (ПЛАСТ.)         D</td>\n",
       "      <td>0</td>\n",
       "      <td>40</td>\n",
       "    </tr>\n",
       "    <tr>\n",
       "      <th>1</th>\n",
       "      <td>!ABBYY FineReader 12 Professional Edition Full...</td>\n",
       "      <td>1</td>\n",
       "      <td>76</td>\n",
       "    </tr>\n",
       "    <tr>\n",
       "      <th>2</th>\n",
       "      <td>***В ЛУЧАХ СЛАВЫ   (UNV)                    D</td>\n",
       "      <td>2</td>\n",
       "      <td>40</td>\n",
       "    </tr>\n",
       "  </tbody>\n",
       "</table>\n",
       "</div>"
      ],
      "text/plain": [
       "                                           item_name  item_id  \\\n",
       "0          ! ВО ВЛАСТИ НАВАЖДЕНИЯ (ПЛАСТ.)         D        0   \n",
       "1  !ABBYY FineReader 12 Professional Edition Full...        1   \n",
       "2      ***В ЛУЧАХ СЛАВЫ   (UNV)                    D        2   \n",
       "\n",
       "   item_category_id  \n",
       "0                40  \n",
       "1                76  \n",
       "2                40  "
      ]
     },
     "metadata": {},
     "output_type": "display_data"
    },
    {
     "name": "stdout",
     "output_type": "stream",
     "text": [
      "Item categories\n"
     ]
    },
    {
     "data": {
      "text/html": [
       "<div>\n",
       "<style scoped>\n",
       "    .dataframe tbody tr th:only-of-type {\n",
       "        vertical-align: middle;\n",
       "    }\n",
       "\n",
       "    .dataframe tbody tr th {\n",
       "        vertical-align: top;\n",
       "    }\n",
       "\n",
       "    .dataframe thead th {\n",
       "        text-align: right;\n",
       "    }\n",
       "</style>\n",
       "<table border=\"1\" class=\"dataframe\">\n",
       "  <thead>\n",
       "    <tr style=\"text-align: right;\">\n",
       "      <th></th>\n",
       "      <th>item_category_name</th>\n",
       "      <th>item_category_id</th>\n",
       "    </tr>\n",
       "  </thead>\n",
       "  <tbody>\n",
       "    <tr>\n",
       "      <th>0</th>\n",
       "      <td>PC - Гарнитуры/Наушники</td>\n",
       "      <td>0</td>\n",
       "    </tr>\n",
       "    <tr>\n",
       "      <th>1</th>\n",
       "      <td>Аксессуары - PS2</td>\n",
       "      <td>1</td>\n",
       "    </tr>\n",
       "    <tr>\n",
       "      <th>2</th>\n",
       "      <td>Аксессуары - PS3</td>\n",
       "      <td>2</td>\n",
       "    </tr>\n",
       "  </tbody>\n",
       "</table>\n",
       "</div>"
      ],
      "text/plain": [
       "        item_category_name  item_category_id\n",
       "0  PC - Гарнитуры/Наушники                 0\n",
       "1         Аксессуары - PS2                 1\n",
       "2         Аксессуары - PS3                 2"
      ]
     },
     "metadata": {},
     "output_type": "display_data"
    },
    {
     "name": "stdout",
     "output_type": "stream",
     "text": [
      "Shops\n"
     ]
    },
    {
     "data": {
      "text/html": [
       "<div>\n",
       "<style scoped>\n",
       "    .dataframe tbody tr th:only-of-type {\n",
       "        vertical-align: middle;\n",
       "    }\n",
       "\n",
       "    .dataframe tbody tr th {\n",
       "        vertical-align: top;\n",
       "    }\n",
       "\n",
       "    .dataframe thead th {\n",
       "        text-align: right;\n",
       "    }\n",
       "</style>\n",
       "<table border=\"1\" class=\"dataframe\">\n",
       "  <thead>\n",
       "    <tr style=\"text-align: right;\">\n",
       "      <th></th>\n",
       "      <th>shop_name</th>\n",
       "      <th>shop_id</th>\n",
       "    </tr>\n",
       "  </thead>\n",
       "  <tbody>\n",
       "    <tr>\n",
       "      <th>0</th>\n",
       "      <td>!Якутск Орджоникидзе, 56 фран</td>\n",
       "      <td>0</td>\n",
       "    </tr>\n",
       "    <tr>\n",
       "      <th>1</th>\n",
       "      <td>!Якутск ТЦ \"Центральный\" фран</td>\n",
       "      <td>1</td>\n",
       "    </tr>\n",
       "    <tr>\n",
       "      <th>2</th>\n",
       "      <td>Адыгея ТЦ \"Мега\"</td>\n",
       "      <td>2</td>\n",
       "    </tr>\n",
       "  </tbody>\n",
       "</table>\n",
       "</div>"
      ],
      "text/plain": [
       "                       shop_name  shop_id\n",
       "0  !Якутск Орджоникидзе, 56 фран        0\n",
       "1  !Якутск ТЦ \"Центральный\" фран        1\n",
       "2               Адыгея ТЦ \"Мега\"        2"
      ]
     },
     "metadata": {},
     "output_type": "display_data"
    }
   ],
   "source": [
    "# lets check heads\n",
    "print(\"Sales train\")\n",
    "display(sales_train.head(3))\n",
    "print(\"Sales test\")\n",
    "display(sales_test.head(3))\n",
    "print(\"Items\")\n",
    "display(items.head(3))\n",
    "print(\"Item categories\")\n",
    "display(item_categories.head(3))\n",
    "print(\"Shops\")\n",
    "display(shops.head(3))"
   ]
  },
  {
   "cell_type": "code",
   "execution_count": 6,
   "metadata": {},
   "outputs": [
    {
     "name": "stdout",
     "output_type": "stream",
     "text": [
      "Sales train\n"
     ]
    },
    {
     "data": {
      "text/plain": [
       "date              0\n",
       "date_block_num    0\n",
       "shop_id           0\n",
       "item_id           0\n",
       "item_price        0\n",
       "item_cnt_day      0\n",
       "dtype: int64"
      ]
     },
     "metadata": {},
     "output_type": "display_data"
    },
    {
     "name": "stdout",
     "output_type": "stream",
     "text": [
      "Sales test\n"
     ]
    },
    {
     "data": {
      "text/plain": [
       "ID         0\n",
       "shop_id    0\n",
       "item_id    0\n",
       "dtype: int64"
      ]
     },
     "metadata": {},
     "output_type": "display_data"
    },
    {
     "name": "stdout",
     "output_type": "stream",
     "text": [
      "Items\n"
     ]
    },
    {
     "data": {
      "text/plain": [
       "item_name           0\n",
       "item_id             0\n",
       "item_category_id    0\n",
       "dtype: int64"
      ]
     },
     "metadata": {},
     "output_type": "display_data"
    },
    {
     "name": "stdout",
     "output_type": "stream",
     "text": [
      "Item categories\n"
     ]
    },
    {
     "data": {
      "text/plain": [
       "item_category_name    0\n",
       "item_category_id      0\n",
       "dtype: int64"
      ]
     },
     "metadata": {},
     "output_type": "display_data"
    },
    {
     "name": "stdout",
     "output_type": "stream",
     "text": [
      "Shops\n"
     ]
    },
    {
     "data": {
      "text/plain": [
       "shop_name    0\n",
       "shop_id      0\n",
       "dtype: int64"
      ]
     },
     "metadata": {},
     "output_type": "display_data"
    }
   ],
   "source": [
    "# missing values\n",
    "print(\"Sales train\")\n",
    "display(sales_train.isnull().sum())\n",
    "print(\"Sales test\")\n",
    "display(sales_test.isnull().sum())\n",
    "print(\"Items\")\n",
    "display(items.isnull().sum())\n",
    "print(\"Item categories\")\n",
    "display(item_categories.isnull().sum())\n",
    "print(\"Shops\")\n",
    "display(shops.isnull().sum())"
   ]
  },
  {
   "cell_type": "code",
   "execution_count": 7,
   "metadata": {},
   "outputs": [
    {
     "name": "stdout",
     "output_type": "stream",
     "text": [
      "Sales train\n"
     ]
    },
    {
     "data": {
      "text/plain": [
       "date               object\n",
       "date_block_num      int64\n",
       "shop_id             int64\n",
       "item_id             int64\n",
       "item_price        float64\n",
       "item_cnt_day      float64\n",
       "dtype: object"
      ]
     },
     "metadata": {},
     "output_type": "display_data"
    },
    {
     "name": "stdout",
     "output_type": "stream",
     "text": [
      "Sales test\n"
     ]
    },
    {
     "data": {
      "text/plain": [
       "ID         int64\n",
       "shop_id    int64\n",
       "item_id    int64\n",
       "dtype: object"
      ]
     },
     "metadata": {},
     "output_type": "display_data"
    },
    {
     "name": "stdout",
     "output_type": "stream",
     "text": [
      "Items\n"
     ]
    },
    {
     "data": {
      "text/plain": [
       "item_name           object\n",
       "item_id              int64\n",
       "item_category_id     int64\n",
       "dtype: object"
      ]
     },
     "metadata": {},
     "output_type": "display_data"
    },
    {
     "name": "stdout",
     "output_type": "stream",
     "text": [
      "Item categories\n"
     ]
    },
    {
     "data": {
      "text/plain": [
       "item_category_name    object\n",
       "item_category_id       int64\n",
       "dtype: object"
      ]
     },
     "metadata": {},
     "output_type": "display_data"
    },
    {
     "name": "stdout",
     "output_type": "stream",
     "text": [
      "Shops\n"
     ]
    },
    {
     "data": {
      "text/plain": [
       "shop_name    object\n",
       "shop_id       int64\n",
       "dtype: object"
      ]
     },
     "metadata": {},
     "output_type": "display_data"
    }
   ],
   "source": [
    "# data types\n",
    "print(\"Sales train\")\n",
    "display(sales_train.dtypes)\n",
    "print(\"Sales test\")\n",
    "display(sales_test.dtypes)\n",
    "print(\"Items\")\n",
    "display(items.dtypes)\n",
    "print(\"Item categories\")\n",
    "display(item_categories.dtypes)\n",
    "print(\"Shops\")\n",
    "display(shops.dtypes)"
   ]
  },
  {
   "cell_type": "code",
   "execution_count": 8,
   "metadata": {},
   "outputs": [
    {
     "name": "stdout",
     "output_type": "stream",
     "text": [
      "Shop coverage on test 1.0\n",
      "Item coverage on test 0.9288235294117647\n"
     ]
    }
   ],
   "source": [
    "# test coverage\n",
    "print(\"Shop coverage on test {}\".format(sales_test.shop_id.isin(sales_train.shop_id).sum()/sales_test.shape[0]))\n",
    "print(\"Item coverage on test {}\".format(sales_test.item_id.isin(sales_train.item_id).sum()/sales_test.shape[0]))"
   ]
  },
  {
   "cell_type": "code",
   "execution_count": 9,
   "metadata": {},
   "outputs": [
    {
     "data": {
      "text/html": [
       "<div>\n",
       "<style scoped>\n",
       "    .dataframe tbody tr th:only-of-type {\n",
       "        vertical-align: middle;\n",
       "    }\n",
       "\n",
       "    .dataframe tbody tr th {\n",
       "        vertical-align: top;\n",
       "    }\n",
       "\n",
       "    .dataframe thead th {\n",
       "        text-align: right;\n",
       "    }\n",
       "</style>\n",
       "<table border=\"1\" class=\"dataframe\">\n",
       "  <thead>\n",
       "    <tr style=\"text-align: right;\">\n",
       "      <th></th>\n",
       "      <th>item_name</th>\n",
       "      <th>item_id</th>\n",
       "      <th>item_category_id</th>\n",
       "    </tr>\n",
       "  </thead>\n",
       "  <tbody>\n",
       "    <tr>\n",
       "      <th>83</th>\n",
       "      <td>12/ДВЕНАДЦАТЬ (СР) (Регион)</td>\n",
       "      <td>83</td>\n",
       "      <td>40</td>\n",
       "    </tr>\n",
       "    <tr>\n",
       "      <th>140</th>\n",
       "      <td>1С:Аудиокниги. Аладдин и другие восточные сказ...</td>\n",
       "      <td>140</td>\n",
       "      <td>45</td>\n",
       "    </tr>\n",
       "    <tr>\n",
       "      <th>168</th>\n",
       "      <td>1С:Аудиокниги. Аудиокурсы по географии. 6 клас...</td>\n",
       "      <td>168</td>\n",
       "      <td>44</td>\n",
       "    </tr>\n",
       "    <tr>\n",
       "      <th>173</th>\n",
       "      <td>1С:Аудиокниги. Аудиоэнциклопедия для самых мал...</td>\n",
       "      <td>173</td>\n",
       "      <td>45</td>\n",
       "    </tr>\n",
       "    <tr>\n",
       "      <th>204</th>\n",
       "      <td>1С:Аудиокниги. Г.Р. Хаггард. Клеопатра [PC, Ци...</td>\n",
       "      <td>204</td>\n",
       "      <td>44</td>\n",
       "    </tr>\n",
       "    <tr>\n",
       "      <th>...</th>\n",
       "      <td>...</td>\n",
       "      <td>...</td>\n",
       "      <td>...</td>\n",
       "    </tr>\n",
       "    <tr>\n",
       "      <th>21974</th>\n",
       "      <td>Шарф Doctor Who Tardis синий 1,6м</td>\n",
       "      <td>21974</td>\n",
       "      <td>61</td>\n",
       "    </tr>\n",
       "    <tr>\n",
       "      <th>21975</th>\n",
       "      <td>Шарф Doctor Who цветной 2м</td>\n",
       "      <td>21975</td>\n",
       "      <td>61</td>\n",
       "    </tr>\n",
       "    <tr>\n",
       "      <th>22022</th>\n",
       "      <td>ЭКИПАЖ (rem)</td>\n",
       "      <td>22022</td>\n",
       "      <td>40</td>\n",
       "    </tr>\n",
       "    <tr>\n",
       "      <th>22035</th>\n",
       "      <td>ЭЛВИН И БУРУНДУКИ 2</td>\n",
       "      <td>22035</td>\n",
       "      <td>40</td>\n",
       "    </tr>\n",
       "    <tr>\n",
       "      <th>22137</th>\n",
       "      <td>Я, РОБОТ</td>\n",
       "      <td>22137</td>\n",
       "      <td>40</td>\n",
       "    </tr>\n",
       "  </tbody>\n",
       "</table>\n",
       "<p>363 rows × 3 columns</p>\n",
       "</div>"
      ],
      "text/plain": [
       "                                               item_name  item_id  \\\n",
       "83                           12/ДВЕНАДЦАТЬ (СР) (Регион)       83   \n",
       "140    1С:Аудиокниги. Аладдин и другие восточные сказ...      140   \n",
       "168    1С:Аудиокниги. Аудиокурсы по географии. 6 клас...      168   \n",
       "173    1С:Аудиокниги. Аудиоэнциклопедия для самых мал...      173   \n",
       "204    1С:Аудиокниги. Г.Р. Хаггард. Клеопатра [PC, Ци...      204   \n",
       "...                                                  ...      ...   \n",
       "21974                  Шарф Doctor Who Tardis синий 1,6м    21974   \n",
       "21975                         Шарф Doctor Who цветной 2м    21975   \n",
       "22022                                       ЭКИПАЖ (rem)    22022   \n",
       "22035                                ЭЛВИН И БУРУНДУКИ 2    22035   \n",
       "22137                                           Я, РОБОТ    22137   \n",
       "\n",
       "       item_category_id  \n",
       "83                   40  \n",
       "140                  45  \n",
       "168                  44  \n",
       "173                  45  \n",
       "204                  44  \n",
       "...                 ...  \n",
       "21974                61  \n",
       "21975                61  \n",
       "22022                40  \n",
       "22035                40  \n",
       "22137                40  \n",
       "\n",
       "[363 rows x 3 columns]"
      ]
     },
     "execution_count": 9,
     "metadata": {},
     "output_type": "execute_result"
    }
   ],
   "source": [
    "missing_items = sales_test.item_id[np.logical_not(sales_test.item_id.isin(sales_train.item_id))]\n",
    "items[items.item_id.isin(missing_items)]"
   ]
  },
  {
   "cell_type": "code",
   "execution_count": 10,
   "metadata": {},
   "outputs": [
    {
     "data": {
      "text/plain": [
       "40    71\n",
       "55    38\n",
       "72    28\n",
       "31    25\n",
       "47    22\n",
       "58    21\n",
       "20    18\n",
       "65    12\n",
       "25    12\n",
       "61    11\n",
       "Name: item_category_id, dtype: int64"
      ]
     },
     "execution_count": 10,
     "metadata": {},
     "output_type": "execute_result"
    }
   ],
   "source": [
    "items[items.item_id.isin(missing_items)].item_category_id.value_counts().head(10)"
   ]
  },
  {
   "cell_type": "markdown",
   "metadata": {},
   "source": [
    "## Data conversion & transformations"
   ]
  },
  {
   "cell_type": "code",
   "execution_count": 11,
   "metadata": {},
   "outputs": [],
   "source": [
    "# time feats\n",
    "sales_train[\"date\"] = pd.to_datetime(sales_train.date, format=\"%d.%m.%Y\")\n",
    "sales_train[\"month\"] = sales_train.date.dt.month\n",
    "sales_train[\"year\"] = sales_train.date.dt.year\n",
    "sales_train[\"revenue\"] = sales_train.item_price*sales_train.item_cnt_day\n",
    "\n",
    "sales_test[\"date\"] = pd.to_datetime(\"2015/11/01\")\n",
    "sales_test[\"month\"] = sales_test.date.dt.month\n",
    "sales_test[\"year\"] = sales_test.date.dt.year\n",
    "sales_test[\"date_block_num\"] = 34"
   ]
  },
  {
   "cell_type": "code",
   "execution_count": 12,
   "metadata": {},
   "outputs": [
    {
     "name": "stderr",
     "output_type": "stream",
     "text": [
      "/tmp/ipykernel_18249/1575197040.py:5: SettingWithCopyWarning: \n",
      "A value is trying to be set on a copy of a slice from a DataFrame\n",
      "\n",
      "See the caveats in the documentation: https://pandas.pydata.org/pandas-docs/stable/user_guide/indexing.html#returning-a-view-versus-a-copy\n",
      "  item_categories[\"child\"][cats.apply(len)>1] = cats[cats.apply(len)>1].apply(lambda x: x[1])\n"
     ]
    }
   ],
   "source": [
    "# build category hierarchy\n",
    "cats = item_categories.item_category_name.str.split(\"-\")\n",
    "item_categories[\"parent\"] = cats.apply(lambda x: x[0])\n",
    "item_categories[\"child\"] = np.nan\n",
    "item_categories[\"child\"][cats.apply(len)>1] = cats[cats.apply(len)>1].apply(lambda x: x[1])\n",
    "# possibly vector encoding?\n",
    "\n",
    "# add city\n",
    "shops[\"city\"] = shops['shop_name'].apply(lambda x: x.split()[0].replace(\"!\",\"\"))"
   ]
  },
  {
   "cell_type": "markdown",
   "metadata": {},
   "source": [
    "## Preliminary exploration"
   ]
  },
  {
   "cell_type": "code",
   "execution_count": 13,
   "metadata": {},
   "outputs": [
    {
     "data": {
      "image/png": "[encoded data removed]",
      "text/plain": [
       "<Figure size 1440x360 with 2 Axes>"
      ]
     },
     "metadata": {
      "needs_background": "light"
     },
     "output_type": "display_data"
    }
   ],
   "source": [
    "# day changes over index and time\n",
    "fig, axs = plt.subplots(1,2, figsize=(20,5))\n",
    "axs[0].set_title(\"daily sales over index\")\n",
    "axs[0].scatter(x=sales_train.index, y=sales_train.item_cnt_day);\n",
    "axs[1].set_title(\"daily sales over time buckets\")\n",
    "sales_train.plot(kind=\"scatter\", x=\"date_block_num\", y=\"item_cnt_day\", ax=axs[1]);"
   ]
  },
  {
   "cell_type": "code",
   "execution_count": 14,
   "metadata": {},
   "outputs": [
    {
     "data": {
      "text/html": [
       "<div>\n",
       "<style scoped>\n",
       "    .dataframe tbody tr th:only-of-type {\n",
       "        vertical-align: middle;\n",
       "    }\n",
       "\n",
       "    .dataframe tbody tr th {\n",
       "        vertical-align: top;\n",
       "    }\n",
       "\n",
       "    .dataframe thead th {\n",
       "        text-align: right;\n",
       "    }\n",
       "</style>\n",
       "<table border=\"1\" class=\"dataframe\">\n",
       "  <thead>\n",
       "    <tr style=\"text-align: right;\">\n",
       "      <th></th>\n",
       "      <th>count</th>\n",
       "      <th>mean</th>\n",
       "      <th>std</th>\n",
       "      <th>min</th>\n",
       "      <th>0.1%</th>\n",
       "      <th>50%</th>\n",
       "      <th>75%</th>\n",
       "      <th>99.9%</th>\n",
       "      <th>max</th>\n",
       "    </tr>\n",
       "  </thead>\n",
       "  <tbody>\n",
       "    <tr>\n",
       "      <th>year</th>\n",
       "      <td>1323795.0</td>\n",
       "      <td>2013.836890</td>\n",
       "      <td>0.790685</td>\n",
       "      <td>2013.00</td>\n",
       "      <td>2013.00</td>\n",
       "      <td>2014.0</td>\n",
       "      <td>2014.0</td>\n",
       "      <td>2.015000e+03</td>\n",
       "      <td>2.015000e+03</td>\n",
       "    </tr>\n",
       "    <tr>\n",
       "      <th>month</th>\n",
       "      <td>1323795.0</td>\n",
       "      <td>6.223134</td>\n",
       "      <td>3.419644</td>\n",
       "      <td>1.00</td>\n",
       "      <td>1.00</td>\n",
       "      <td>6.0</td>\n",
       "      <td>9.0</td>\n",
       "      <td>1.200000e+01</td>\n",
       "      <td>1.200000e+01</td>\n",
       "    </tr>\n",
       "    <tr>\n",
       "      <th>shop_id</th>\n",
       "      <td>1323795.0</td>\n",
       "      <td>32.128938</td>\n",
       "      <td>16.787155</td>\n",
       "      <td>2.00</td>\n",
       "      <td>2.00</td>\n",
       "      <td>31.0</td>\n",
       "      <td>46.0</td>\n",
       "      <td>5.900000e+01</td>\n",
       "      <td>5.900000e+01</td>\n",
       "    </tr>\n",
       "    <tr>\n",
       "      <th>item_id</th>\n",
       "      <td>1323795.0</td>\n",
       "      <td>10617.296492</td>\n",
       "      <td>6242.701713</td>\n",
       "      <td>1.00</td>\n",
       "      <td>32.00</td>\n",
       "      <td>10393.0</td>\n",
       "      <td>16031.0</td>\n",
       "      <td>2.214300e+04</td>\n",
       "      <td>2.216900e+04</td>\n",
       "    </tr>\n",
       "    <tr>\n",
       "      <th>item_category_id</th>\n",
       "      <td>1323795.0</td>\n",
       "      <td>41.369747</td>\n",
       "      <td>16.409094</td>\n",
       "      <td>0.00</td>\n",
       "      <td>2.00</td>\n",
       "      <td>40.0</td>\n",
       "      <td>55.0</td>\n",
       "      <td>8.300000e+01</td>\n",
       "      <td>8.300000e+01</td>\n",
       "    </tr>\n",
       "    <tr>\n",
       "      <th>date_block_num</th>\n",
       "      <td>1323795.0</td>\n",
       "      <td>15.265816</td>\n",
       "      <td>9.662895</td>\n",
       "      <td>0.00</td>\n",
       "      <td>0.00</td>\n",
       "      <td>15.0</td>\n",
       "      <td>23.0</td>\n",
       "      <td>3.300000e+01</td>\n",
       "      <td>3.300000e+01</td>\n",
       "    </tr>\n",
       "    <tr>\n",
       "      <th>cnt_item</th>\n",
       "      <td>1323795.0</td>\n",
       "      <td>2.258968</td>\n",
       "      <td>8.756585</td>\n",
       "      <td>-22.00</td>\n",
       "      <td>0.00</td>\n",
       "      <td>1.0</td>\n",
       "      <td>2.0</td>\n",
       "      <td>7.500000e+01</td>\n",
       "      <td>2.253000e+03</td>\n",
       "    </tr>\n",
       "    <tr>\n",
       "      <th>avg_price</th>\n",
       "      <td>1323795.0</td>\n",
       "      <td>808.109842</td>\n",
       "      <td>1589.724987</td>\n",
       "      <td>0.09</td>\n",
       "      <td>0.99</td>\n",
       "      <td>399.0</td>\n",
       "      <td>899.0</td>\n",
       "      <td>2.299000e+04</td>\n",
       "      <td>3.079800e+05</td>\n",
       "    </tr>\n",
       "    <tr>\n",
       "      <th>min_price</th>\n",
       "      <td>1323795.0</td>\n",
       "      <td>800.299799</td>\n",
       "      <td>1571.241861</td>\n",
       "      <td>0.07</td>\n",
       "      <td>0.50</td>\n",
       "      <td>399.0</td>\n",
       "      <td>899.0</td>\n",
       "      <td>2.299000e+04</td>\n",
       "      <td>3.079800e+05</td>\n",
       "    </tr>\n",
       "    <tr>\n",
       "      <th>max_price</th>\n",
       "      <td>1323795.0</td>\n",
       "      <td>816.840738</td>\n",
       "      <td>1612.097451</td>\n",
       "      <td>0.09</td>\n",
       "      <td>0.99</td>\n",
       "      <td>399.0</td>\n",
       "      <td>899.0</td>\n",
       "      <td>2.299000e+04</td>\n",
       "      <td>3.079800e+05</td>\n",
       "    </tr>\n",
       "    <tr>\n",
       "      <th>var_price</th>\n",
       "      <td>437322.0</td>\n",
       "      <td>17532.543628</td>\n",
       "      <td>529377.898884</td>\n",
       "      <td>0.00</td>\n",
       "      <td>0.00</td>\n",
       "      <td>0.0</td>\n",
       "      <td>0.0</td>\n",
       "      <td>2.310907e+06</td>\n",
       "      <td>2.871679e+08</td>\n",
       "    </tr>\n",
       "    <tr>\n",
       "      <th>sum_revenue</th>\n",
       "      <td>1323795.0</td>\n",
       "      <td>2141.971554</td>\n",
       "      <td>15754.047761</td>\n",
       "      <td>-33787.00</td>\n",
       "      <td>0.00</td>\n",
       "      <td>549.0</td>\n",
       "      <td>1497.0</td>\n",
       "      <td>1.268781e+05</td>\n",
       "      <td>6.264230e+06</td>\n",
       "    </tr>\n",
       "  </tbody>\n",
       "</table>\n",
       "</div>"
      ],
      "text/plain": [
       "                      count          mean            std       min     0.1%  \\\n",
       "year              1323795.0   2013.836890       0.790685   2013.00  2013.00   \n",
       "month             1323795.0      6.223134       3.419644      1.00     1.00   \n",
       "shop_id           1323795.0     32.128938      16.787155      2.00     2.00   \n",
       "item_id           1323795.0  10617.296492    6242.701713      1.00    32.00   \n",
       "item_category_id  1323795.0     41.369747      16.409094      0.00     2.00   \n",
       "date_block_num    1323795.0     15.265816       9.662895      0.00     0.00   \n",
       "cnt_item          1323795.0      2.258968       8.756585    -22.00     0.00   \n",
       "avg_price         1323795.0    808.109842    1589.724987      0.09     0.99   \n",
       "min_price         1323795.0    800.299799    1571.241861      0.07     0.50   \n",
       "max_price         1323795.0    816.840738    1612.097451      0.09     0.99   \n",
       "var_price          437322.0  17532.543628  529377.898884      0.00     0.00   \n",
       "sum_revenue       1323795.0   2141.971554   15754.047761 -33787.00     0.00   \n",
       "\n",
       "                      50%      75%         99.9%           max  \n",
       "year               2014.0   2014.0  2.015000e+03  2.015000e+03  \n",
       "month                 6.0      9.0  1.200000e+01  1.200000e+01  \n",
       "shop_id              31.0     46.0  5.900000e+01  5.900000e+01  \n",
       "item_id           10393.0  16031.0  2.214300e+04  2.216900e+04  \n",
       "item_category_id     40.0     55.0  8.300000e+01  8.300000e+01  \n",
       "date_block_num       15.0     23.0  3.300000e+01  3.300000e+01  \n",
       "cnt_item              1.0      2.0  7.500000e+01  2.253000e+03  \n",
       "avg_price           399.0    899.0  2.299000e+04  3.079800e+05  \n",
       "min_price           399.0    899.0  2.299000e+04  3.079800e+05  \n",
       "max_price           399.0    899.0  2.299000e+04  3.079800e+05  \n",
       "var_price             0.0      0.0  2.310907e+06  2.871679e+08  \n",
       "sum_revenue         549.0   1497.0  1.268781e+05  6.264230e+06  "
      ]
     },
     "execution_count": 14,
     "metadata": {},
     "output_type": "execute_result"
    }
   ],
   "source": [
    "sales_wide = sales_train.merge(items, left_on=\"item_id\", right_on=\"item_id\").\\\n",
    "    merge(item_categories, left_on=\"item_category_id\", right_on=\"item_category_id\").\\\n",
    "        merge(shops, left_on=\"shop_id\", right_on=\"shop_id\")\n",
    "\n",
    "# construct aggregated sales\n",
    "agg_sales = sales_wide[sales_wide.shop_id.isin(sales_test.shop_id)].\\\n",
    "    groupby([\"year\", \"month\", \"shop_id\", \"item_id\", \"item_category_id\", \"city\"], as_index=False).agg(\n",
    "    date_block_num=(\"date_block_num\", np.mean),\n",
    "    cnt_item=(\"item_cnt_day\",sum),\n",
    "    avg_price=(\"item_price\",np.mean),\n",
    "    min_price=(\"item_price\",np.min),\n",
    "    max_price=(\"item_price\",np.max),\n",
    "    var_price=(\"item_price\",np.var),\n",
    "    sum_revenue=(\"revenue\",sum))\n",
    "\n",
    "# check the distributions\n",
    "agg_sales.describe(percentiles=[.001,.5,.75,.999]).T    "
   ]
  },
  {
   "cell_type": "code",
   "execution_count": 15,
   "metadata": {},
   "outputs": [
    {
     "data": {
      "image/png": "[encoded data removed]",
      "text/plain": [
       "<Figure size 936x360 with 2 Axes>"
      ]
     },
     "metadata": {
      "needs_background": "light"
     },
     "output_type": "display_data"
    }
   ],
   "source": [
    "fig, axs = plt.subplots(1,2, figsize=(13,5))\n",
    "\n",
    "axs[0].set_title(\"target distribution\");\n",
    "agg_sales.cnt_item.plot(kind=\"hist\", bins=75, logy=True, ax=axs[0]);\n",
    "axs[0].set_ylabel(\"frequency\");axs[0].set_xlabel(\"target - item count\");\n",
    "\n",
    "axs[1].set_title(\"target over time\");\n",
    "agg_sales.plot(kind=\"scatter\", x=\"date_block_num\", y=\"cnt_item\", ax=axs[1]);\n",
    "axs[1].set_ylabel(\"target - item count\");axs[1].set_xlabel(\"month bucket\");"
   ]
  },
  {
   "cell_type": "code",
   "execution_count": 16,
   "metadata": {},
   "outputs": [
    {
     "data": {
      "text/html": [
       "<div>\n",
       "<style scoped>\n",
       "    .dataframe tbody tr th:only-of-type {\n",
       "        vertical-align: middle;\n",
       "    }\n",
       "\n",
       "    .dataframe tbody tr th {\n",
       "        vertical-align: top;\n",
       "    }\n",
       "\n",
       "    .dataframe thead th {\n",
       "        text-align: right;\n",
       "    }\n",
       "</style>\n",
       "<table border=\"1\" class=\"dataframe\">\n",
       "  <thead>\n",
       "    <tr style=\"text-align: right;\">\n",
       "      <th></th>\n",
       "      <th>shop_id</th>\n",
       "      <th>cnt_item</th>\n",
       "      <th>dcnt_item</th>\n",
       "      <th>dcnt_cat</th>\n",
       "      <th>avg_cnt_item</th>\n",
       "    </tr>\n",
       "  </thead>\n",
       "  <tbody>\n",
       "    <tr>\n",
       "      <th>19</th>\n",
       "      <td>31</td>\n",
       "      <td>310777.0</td>\n",
       "      <td>14416</td>\n",
       "      <td>62</td>\n",
       "      <td>5012.532258</td>\n",
       "    </tr>\n",
       "    <tr>\n",
       "      <th>16</th>\n",
       "      <td>25</td>\n",
       "      <td>241920.0</td>\n",
       "      <td>15367</td>\n",
       "      <td>65</td>\n",
       "      <td>3721.846154</td>\n",
       "    </tr>\n",
       "    <tr>\n",
       "      <th>18</th>\n",
       "      <td>28</td>\n",
       "      <td>184557.0</td>\n",
       "      <td>12572</td>\n",
       "      <td>60</td>\n",
       "      <td>3075.950000</td>\n",
       "    </tr>\n",
       "    <tr>\n",
       "      <th>27</th>\n",
       "      <td>42</td>\n",
       "      <td>144934.0</td>\n",
       "      <td>12034</td>\n",
       "      <td>62</td>\n",
       "      <td>2337.645161</td>\n",
       "    </tr>\n",
       "    <tr>\n",
       "      <th>39</th>\n",
       "      <td>57</td>\n",
       "      <td>141107.0</td>\n",
       "      <td>12281</td>\n",
       "      <td>61</td>\n",
       "      <td>2313.229508</td>\n",
       "    </tr>\n",
       "  </tbody>\n",
       "</table>\n",
       "</div>"
      ],
      "text/plain": [
       "    shop_id  cnt_item  dcnt_item  dcnt_cat  avg_cnt_item\n",
       "19       31  310777.0      14416        62   5012.532258\n",
       "16       25  241920.0      15367        65   3721.846154\n",
       "18       28  184557.0      12572        60   3075.950000\n",
       "27       42  144934.0      12034        62   2337.645161\n",
       "39       57  141107.0      12281        61   2313.229508"
      ]
     },
     "execution_count": 16,
     "metadata": {},
     "output_type": "execute_result"
    }
   ],
   "source": [
    "# shops\n",
    "agg_shops = agg_sales.groupby([\"shop_id\"], as_index=False).agg(\n",
    "    cnt_item=(\"cnt_item\",sum),\n",
    "    dcnt_item=(\"item_id\", pd.Series.nunique),\n",
    "    dcnt_cat=(\"item_category_id\", pd.Series.nunique))\n",
    "agg_shops[\"avg_cnt_item\"] = agg_shops.cnt_item/agg_shops.dcnt_item\n",
    "agg_shops[\"avg_cnt_item\"] = agg_shops.cnt_item/agg_shops.dcnt_cat\n",
    "agg_shops.sort_values(\"cnt_item\", ascending=False).head(5)"
   ]
  },
  {
   "cell_type": "code",
   "execution_count": 17,
   "metadata": {},
   "outputs": [
    {
     "data": {
      "image/png": "[encoded data removed]",
      "text/plain": [
       "<Figure size 1440x360 with 3 Axes>"
      ]
     },
     "metadata": {
      "needs_background": "light"
     },
     "output_type": "display_data"
    }
   ],
   "source": [
    "fig, axs = plt.subplots(1,3, figsize=(20,5))\n",
    "\n",
    "axs[0].set_title(\"items sold vs shop index\");\n",
    "agg_shops.plot(kind=\"scatter\", x=\"shop_id\",y=\"cnt_item\", ax=axs[0]);\n",
    "axs[0].set_ylabel(\"items sold\");axs[0].set_xlabel(\"shop id\");\n",
    "\n",
    "axs[1].set_title(\"items sold by shop vs item portfolio\");\n",
    "agg_shops.plot(kind=\"scatter\", x=\"dcnt_item\",y=\"cnt_item\", ax=axs[1]);\n",
    "axs[1].set_ylabel(\"items sold\");axs[1].set_xlabel(\"no of items\");\n",
    "\n",
    "axs[2].set_title(\"items sold by shop vs cat portfolio\");\n",
    "agg_shops.plot(x=\"dcnt_cat\",y=\"cnt_item\",kind=\"scatter\", ax=axs[2]);\n",
    "axs[2].set_ylabel(\"items sold\");axs[2].set_xlabel(\"no of categories\");"
   ]
  },
  {
   "cell_type": "code",
   "execution_count": 18,
   "metadata": {},
   "outputs": [
    {
     "data": {
      "text/html": [
       "<div>\n",
       "<style scoped>\n",
       "    .dataframe tbody tr th:only-of-type {\n",
       "        vertical-align: middle;\n",
       "    }\n",
       "\n",
       "    .dataframe tbody tr th {\n",
       "        vertical-align: top;\n",
       "    }\n",
       "\n",
       "    .dataframe thead th {\n",
       "        text-align: right;\n",
       "    }\n",
       "</style>\n",
       "<table border=\"1\" class=\"dataframe\">\n",
       "  <thead>\n",
       "    <tr style=\"text-align: right;\">\n",
       "      <th></th>\n",
       "      <th>item_id</th>\n",
       "      <th>cnt_item</th>\n",
       "      <th>ncnt_item</th>\n",
       "      <th>avg_month_item</th>\n",
       "      <th>dcnt_shop</th>\n",
       "    </tr>\n",
       "  </thead>\n",
       "  <tbody>\n",
       "    <tr>\n",
       "      <th>19981</th>\n",
       "      <td>20949</td>\n",
       "      <td>154077.0</td>\n",
       "      <td>1125</td>\n",
       "      <td>136.957333</td>\n",
       "      <td>41</td>\n",
       "    </tr>\n",
       "    <tr>\n",
       "      <th>2637</th>\n",
       "      <td>2808</td>\n",
       "      <td>13955.0</td>\n",
       "      <td>1127</td>\n",
       "      <td>12.382431</td>\n",
       "      <td>41</td>\n",
       "    </tr>\n",
       "    <tr>\n",
       "      <th>3524</th>\n",
       "      <td>3732</td>\n",
       "      <td>13582.0</td>\n",
       "      <td>882</td>\n",
       "      <td>15.399093</td>\n",
       "      <td>41</td>\n",
       "    </tr>\n",
       "    <tr>\n",
       "      <th>16906</th>\n",
       "      <td>17717</td>\n",
       "      <td>13553.0</td>\n",
       "      <td>943</td>\n",
       "      <td>14.372216</td>\n",
       "      <td>39</td>\n",
       "    </tr>\n",
       "    <tr>\n",
       "      <th>5518</th>\n",
       "      <td>5822</td>\n",
       "      <td>12268.0</td>\n",
       "      <td>1236</td>\n",
       "      <td>9.925566</td>\n",
       "      <td>41</td>\n",
       "    </tr>\n",
       "  </tbody>\n",
       "</table>\n",
       "</div>"
      ],
      "text/plain": [
       "       item_id  cnt_item  ncnt_item  avg_month_item  dcnt_shop\n",
       "19981    20949  154077.0       1125      136.957333         41\n",
       "2637      2808   13955.0       1127       12.382431         41\n",
       "3524      3732   13582.0        882       15.399093         41\n",
       "16906    17717   13553.0        943       14.372216         39\n",
       "5518      5822   12268.0       1236        9.925566         41"
      ]
     },
     "metadata": {},
     "output_type": "display_data"
    },
    {
     "data": {
      "text/html": [
       "<div>\n",
       "<style scoped>\n",
       "    .dataframe tbody tr th:only-of-type {\n",
       "        vertical-align: middle;\n",
       "    }\n",
       "\n",
       "    .dataframe tbody tr th {\n",
       "        vertical-align: top;\n",
       "    }\n",
       "\n",
       "    .dataframe thead th {\n",
       "        text-align: right;\n",
       "    }\n",
       "</style>\n",
       "<table border=\"1\" class=\"dataframe\">\n",
       "  <thead>\n",
       "    <tr style=\"text-align: right;\">\n",
       "      <th></th>\n",
       "      <th>item_id</th>\n",
       "      <th>cnt_item</th>\n",
       "      <th>ncnt_item</th>\n",
       "      <th>avg_month_item</th>\n",
       "      <th>dcnt_shop</th>\n",
       "    </tr>\n",
       "  </thead>\n",
       "  <tbody>\n",
       "    <tr>\n",
       "      <th>8095</th>\n",
       "      <td>8515</td>\n",
       "      <td>-1.0</td>\n",
       "      <td>1</td>\n",
       "      <td>-1.0</td>\n",
       "      <td>1</td>\n",
       "    </tr>\n",
       "    <tr>\n",
       "      <th>17240</th>\n",
       "      <td>18062</td>\n",
       "      <td>-1.0</td>\n",
       "      <td>1</td>\n",
       "      <td>-1.0</td>\n",
       "      <td>1</td>\n",
       "    </tr>\n",
       "    <tr>\n",
       "      <th>11318</th>\n",
       "      <td>11871</td>\n",
       "      <td>-1.0</td>\n",
       "      <td>1</td>\n",
       "      <td>-1.0</td>\n",
       "      <td>1</td>\n",
       "    </tr>\n",
       "    <tr>\n",
       "      <th>12831</th>\n",
       "      <td>13474</td>\n",
       "      <td>-1.0</td>\n",
       "      <td>1</td>\n",
       "      <td>-1.0</td>\n",
       "      <td>1</td>\n",
       "    </tr>\n",
       "    <tr>\n",
       "      <th>1476</th>\n",
       "      <td>1590</td>\n",
       "      <td>-12.0</td>\n",
       "      <td>4</td>\n",
       "      <td>-3.0</td>\n",
       "      <td>1</td>\n",
       "    </tr>\n",
       "  </tbody>\n",
       "</table>\n",
       "</div>"
      ],
      "text/plain": [
       "       item_id  cnt_item  ncnt_item  avg_month_item  dcnt_shop\n",
       "8095      8515      -1.0          1            -1.0          1\n",
       "17240    18062      -1.0          1            -1.0          1\n",
       "11318    11871      -1.0          1            -1.0          1\n",
       "12831    13474      -1.0          1            -1.0          1\n",
       "1476      1590     -12.0          4            -3.0          1"
      ]
     },
     "metadata": {},
     "output_type": "display_data"
    }
   ],
   "source": [
    "# best and worst products\n",
    "agg_products = agg_sales.groupby(\"item_id\", as_index=False).agg(\n",
    "    cnt_item=(\"cnt_item\", sum),\n",
    "    ncnt_item=(\"cnt_item\",\"count\"),\n",
    "    avg_month_item=(\"cnt_item\", np.mean),\n",
    "    dcnt_shop=(\"shop_id\", pd.Series.nunique)).\\\n",
    "        sort_values(\"cnt_item\", ascending=False)\n",
    "\n",
    "display(agg_products.head(5))\n",
    "display(agg_products.tail(5))"
   ]
  },
  {
   "cell_type": "code",
   "execution_count": 19,
   "metadata": {},
   "outputs": [
    {
     "data": {
      "image/png": "[encoded data removed]",
      "text/plain": [
       "<Figure size 936x720 with 4 Axes>"
      ]
     },
     "metadata": {
      "needs_background": "light"
     },
     "output_type": "display_data"
    }
   ],
   "source": [
    "fig, axs = plt.subplots(2,2, figsize=(13,10))\n",
    "\n",
    "axs[0,0].set_title(\"items sold vs item id\");\n",
    "agg_products.plot(kind=\"scatter\", x=\"item_id\",y=\"cnt_item\", ylim=(-5,17500), ax=axs[0,0]);\n",
    "axs[0,0].set_ylabel(\"items sold\");axs[0,0].set_xlabel(\"item id\");\n",
    "\n",
    "axs[0,1].set_title(\"no of items sold vs no of observations\");\n",
    "agg_products.plot(kind=\"scatter\", x=\"ncnt_item\",y=\"cnt_item\", ylim=(-5,17500), ax=axs[0,1]);\n",
    "axs[0,1].set_ylabel(\"items sold\");axs[0,1].set_xlabel(\"no of observations\");\n",
    "\n",
    "axs[1,0].set_title(\"no of items sold vs avg monthly sale\");\n",
    "agg_products.plot(kind=\"scatter\", x=\"avg_month_item\",y=\"cnt_item\", ylim=(-5,17500), ax=axs[1,0]);\n",
    "axs[1,0].set_ylabel(\"items sold\");axs[1,0].set_xlabel(\"monthly average sold\");\n",
    "\n",
    "axs[1,1].set_title(\"no of items sold vs no of distinct sellers\");\n",
    "agg_products.plot(kind=\"scatter\", x=\"dcnt_shop\",y=\"cnt_item\", ylim=(-5,17500), ax=axs[1,1]);\n",
    "axs[1,1].set_ylabel(\"items sold\");axs[1,1].set_xlabel(\"no of items\");\n"
   ]
  },
  {
   "cell_type": "code",
   "execution_count": 20,
   "metadata": {},
   "outputs": [
    {
     "data": {
      "text/html": [
       "<div>\n",
       "<style scoped>\n",
       "    .dataframe tbody tr th:only-of-type {\n",
       "        vertical-align: middle;\n",
       "    }\n",
       "\n",
       "    .dataframe tbody tr th {\n",
       "        vertical-align: top;\n",
       "    }\n",
       "\n",
       "    .dataframe thead th {\n",
       "        text-align: right;\n",
       "    }\n",
       "</style>\n",
       "<table border=\"1\" class=\"dataframe\">\n",
       "  <thead>\n",
       "    <tr style=\"text-align: right;\">\n",
       "      <th></th>\n",
       "      <th>item_category_id</th>\n",
       "      <th>cnt_item</th>\n",
       "      <th>ncnt_item</th>\n",
       "      <th>dcnt_item</th>\n",
       "      <th>rev_item</th>\n",
       "      <th>dcnt_shop</th>\n",
       "      <th>avg_price</th>\n",
       "    </tr>\n",
       "  </thead>\n",
       "  <tbody>\n",
       "    <tr>\n",
       "      <th>1</th>\n",
       "      <td>1</td>\n",
       "      <td>1.0</td>\n",
       "      <td>1</td>\n",
       "      <td>1</td>\n",
       "      <td>148.0</td>\n",
       "      <td>1</td>\n",
       "      <td>148.000000</td>\n",
       "    </tr>\n",
       "    <tr>\n",
       "      <th>51</th>\n",
       "      <td>51</td>\n",
       "      <td>1.0</td>\n",
       "      <td>1</td>\n",
       "      <td>1</td>\n",
       "      <td>129.0</td>\n",
       "      <td>1</td>\n",
       "      <td>129.000000</td>\n",
       "    </tr>\n",
       "    <tr>\n",
       "      <th>10</th>\n",
       "      <td>10</td>\n",
       "      <td>1.0</td>\n",
       "      <td>1</td>\n",
       "      <td>1</td>\n",
       "      <td>1998.0</td>\n",
       "      <td>1</td>\n",
       "      <td>1998.000000</td>\n",
       "    </tr>\n",
       "    <tr>\n",
       "      <th>0</th>\n",
       "      <td>0</td>\n",
       "      <td>2.0</td>\n",
       "      <td>2</td>\n",
       "      <td>2</td>\n",
       "      <td>170.4</td>\n",
       "      <td>2</td>\n",
       "      <td>85.200000</td>\n",
       "    </tr>\n",
       "    <tr>\n",
       "      <th>50</th>\n",
       "      <td>50</td>\n",
       "      <td>3.0</td>\n",
       "      <td>2</td>\n",
       "      <td>2</td>\n",
       "      <td>58.0</td>\n",
       "      <td>1</td>\n",
       "      <td>19.333333</td>\n",
       "    </tr>\n",
       "  </tbody>\n",
       "</table>\n",
       "</div>"
      ],
      "text/plain": [
       "    item_category_id  cnt_item  ncnt_item  dcnt_item  rev_item  dcnt_shop  \\\n",
       "1                  1       1.0          1          1     148.0          1   \n",
       "51                51       1.0          1          1     129.0          1   \n",
       "10                10       1.0          1          1    1998.0          1   \n",
       "0                  0       2.0          2          2     170.4          2   \n",
       "50                50       3.0          2          2      58.0          1   \n",
       "\n",
       "      avg_price  \n",
       "1    148.000000  \n",
       "51   129.000000  \n",
       "10  1998.000000  \n",
       "0     85.200000  \n",
       "50    19.333333  "
      ]
     },
     "metadata": {},
     "output_type": "display_data"
    },
    {
     "data": {
      "text/html": [
       "<div>\n",
       "<style scoped>\n",
       "    .dataframe tbody tr th:only-of-type {\n",
       "        vertical-align: middle;\n",
       "    }\n",
       "\n",
       "    .dataframe tbody tr th {\n",
       "        vertical-align: top;\n",
       "    }\n",
       "\n",
       "    .dataframe thead th {\n",
       "        text-align: right;\n",
       "    }\n",
       "</style>\n",
       "<table border=\"1\" class=\"dataframe\">\n",
       "  <thead>\n",
       "    <tr style=\"text-align: right;\">\n",
       "      <th></th>\n",
       "      <th>item_category_id</th>\n",
       "      <th>cnt_item</th>\n",
       "      <th>ncnt_item</th>\n",
       "      <th>dcnt_item</th>\n",
       "      <th>rev_item</th>\n",
       "      <th>dcnt_shop</th>\n",
       "      <th>avg_price</th>\n",
       "    </tr>\n",
       "  </thead>\n",
       "  <tbody>\n",
       "    <tr>\n",
       "      <th>37</th>\n",
       "      <td>37</td>\n",
       "      <td>166495.0</td>\n",
       "      <td>111221</td>\n",
       "      <td>1758</td>\n",
       "      <td>7.379375e+07</td>\n",
       "      <td>41</td>\n",
       "      <td>443.219024</td>\n",
       "    </tr>\n",
       "    <tr>\n",
       "      <th>19</th>\n",
       "      <td>19</td>\n",
       "      <td>209797.0</td>\n",
       "      <td>80406</td>\n",
       "      <td>615</td>\n",
       "      <td>3.383028e+08</td>\n",
       "      <td>41</td>\n",
       "      <td>1612.524330</td>\n",
       "    </tr>\n",
       "    <tr>\n",
       "      <th>55</th>\n",
       "      <td>55</td>\n",
       "      <td>285622.0</td>\n",
       "      <td>203998</td>\n",
       "      <td>2220</td>\n",
       "      <td>8.315538e+07</td>\n",
       "      <td>41</td>\n",
       "      <td>291.137880</td>\n",
       "    </tr>\n",
       "    <tr>\n",
       "      <th>30</th>\n",
       "      <td>30</td>\n",
       "      <td>380392.0</td>\n",
       "      <td>109629</td>\n",
       "      <td>726</td>\n",
       "      <td>2.171324e+08</td>\n",
       "      <td>41</td>\n",
       "      <td>570.812188</td>\n",
       "    </tr>\n",
       "    <tr>\n",
       "      <th>40</th>\n",
       "      <td>40</td>\n",
       "      <td>504517.0</td>\n",
       "      <td>269196</td>\n",
       "      <td>4827</td>\n",
       "      <td>1.366167e+08</td>\n",
       "      <td>41</td>\n",
       "      <td>270.787047</td>\n",
       "    </tr>\n",
       "  </tbody>\n",
       "</table>\n",
       "</div>"
      ],
      "text/plain": [
       "    item_category_id  cnt_item  ncnt_item  dcnt_item      rev_item  dcnt_shop  \\\n",
       "37                37  166495.0     111221       1758  7.379375e+07         41   \n",
       "19                19  209797.0      80406        615  3.383028e+08         41   \n",
       "55                55  285622.0     203998       2220  8.315538e+07         41   \n",
       "30                30  380392.0     109629        726  2.171324e+08         41   \n",
       "40                40  504517.0     269196       4827  1.366167e+08         41   \n",
       "\n",
       "      avg_price  \n",
       "37   443.219024  \n",
       "19  1612.524330  \n",
       "55   291.137880  \n",
       "30   570.812188  \n",
       "40   270.787047  "
      ]
     },
     "metadata": {},
     "output_type": "display_data"
    }
   ],
   "source": [
    "# categories\n",
    "agg_cats = agg_sales.groupby([\"item_category_id\"], as_index=False).agg(\n",
    "    cnt_item=(\"cnt_item\",sum),\n",
    "    ncnt_item=(\"cnt_item\",\"count\"),\n",
    "    dcnt_item=(\"item_id\", pd.Series.nunique),\n",
    "    rev_item=(\"sum_revenue\",sum),\n",
    "    dcnt_shop=(\"shop_id\", pd.Series.nunique)).\\\n",
    "        sort_values(\"cnt_item\")\n",
    "agg_cats[\"avg_price\"] = agg_cats.rev_item/agg_cats.cnt_item\n",
    "display(agg_cats.head(5))\n",
    "display(agg_cats.tail(5))"
   ]
  },
  {
   "cell_type": "code",
   "execution_count": 21,
   "metadata": {},
   "outputs": [
    {
     "data": {
      "image/png": "[encoded data removed]",
      "text/plain": [
       "<Figure size 936x720 with 4 Axes>"
      ]
     },
     "metadata": {
      "needs_background": "light"
     },
     "output_type": "display_data"
    }
   ],
   "source": [
    "fig, axs = plt.subplots(2,2, figsize=(13,10))\n",
    "\n",
    "axs[0,0].set_title(\"items sold vs category id\");\n",
    "agg_cats.plot(kind=\"scatter\", x=\"item_category_id\",y=\"cnt_item\", ax=axs[0,0]);\n",
    "axs[0,0].set_ylabel(\"items sold\");axs[0,0].set_xlabel(\"category id\");\n",
    "\n",
    "axs[0,1].set_title(\"items sold vs no of observations\");\n",
    "agg_cats.plot(kind=\"scatter\", x=\"ncnt_item\",y=\"cnt_item\", ax=axs[0,1]);\n",
    "axs[0,1].set_ylabel(\"items sold\");axs[0,1].set_xlabel(\"no of observations\");\n",
    "\n",
    "axs[1,0].set_title(\"items sold vs distinct items\");\n",
    "agg_cats.plot(kind=\"scatter\", x=\"dcnt_item\",y=\"cnt_item\", ylim=(-5,17500), ax=axs[1,0]);\n",
    "axs[1,0].set_ylabel(\"items sold\");axs[1,0].set_xlabel(\"no of items\");\n",
    "\n",
    "axs[1,1].set_title(\"items sold vs avg price\");\n",
    "agg_cats.plot(kind=\"scatter\", x=\"avg_price\",y=\"cnt_item\", ylim=(-5,17500), ax=axs[1,1]);\n",
    "axs[1,1].set_ylabel(\"items sold\");axs[1,1].set_xlabel(\"avg price\");"
   ]
  },
  {
   "cell_type": "code",
   "execution_count": 22,
   "metadata": {},
   "outputs": [
    {
     "data": {
      "text/html": [
       "<div>\n",
       "<style scoped>\n",
       "    .dataframe tbody tr th:only-of-type {\n",
       "        vertical-align: middle;\n",
       "    }\n",
       "\n",
       "    .dataframe tbody tr th {\n",
       "        vertical-align: top;\n",
       "    }\n",
       "\n",
       "    .dataframe thead th {\n",
       "        text-align: right;\n",
       "    }\n",
       "</style>\n",
       "<table border=\"1\" class=\"dataframe\">\n",
       "  <thead>\n",
       "    <tr style=\"text-align: right;\">\n",
       "      <th></th>\n",
       "      <th>city</th>\n",
       "      <th>cnt_item</th>\n",
       "      <th>ncnt_item</th>\n",
       "      <th>dcnt_item</th>\n",
       "      <th>rev_item</th>\n",
       "      <th>dcnt_cat</th>\n",
       "      <th>avg_price</th>\n",
       "    </tr>\n",
       "  </thead>\n",
       "  <tbody>\n",
       "    <tr>\n",
       "      <th>5</th>\n",
       "      <td>Жуковский</td>\n",
       "      <td>24523.0</td>\n",
       "      <td>14917</td>\n",
       "      <td>6002</td>\n",
       "      <td>1.941028e+07</td>\n",
       "      <td>57</td>\n",
       "      <td>791.513411</td>\n",
       "    </tr>\n",
       "    <tr>\n",
       "      <th>21</th>\n",
       "      <td>Томск</td>\n",
       "      <td>24909.0</td>\n",
       "      <td>13580</td>\n",
       "      <td>4063</td>\n",
       "      <td>2.771411e+07</td>\n",
       "      <td>52</td>\n",
       "      <td>1112.614317</td>\n",
       "    </tr>\n",
       "    <tr>\n",
       "      <th>1</th>\n",
       "      <td>Балашиха</td>\n",
       "      <td>28355.0</td>\n",
       "      <td>16827</td>\n",
       "      <td>5261</td>\n",
       "      <td>3.014085e+07</td>\n",
       "      <td>58</td>\n",
       "      <td>1062.981974</td>\n",
       "    </tr>\n",
       "    <tr>\n",
       "      <th>0</th>\n",
       "      <td>Адыгея</td>\n",
       "      <td>30620.0</td>\n",
       "      <td>15553</td>\n",
       "      <td>4849</td>\n",
       "      <td>4.404964e+07</td>\n",
       "      <td>59</td>\n",
       "      <td>1438.590425</td>\n",
       "    </tr>\n",
       "    <tr>\n",
       "      <th>3</th>\n",
       "      <td>Вологда</td>\n",
       "      <td>42762.0</td>\n",
       "      <td>24108</td>\n",
       "      <td>7084</td>\n",
       "      <td>3.816043e+07</td>\n",
       "      <td>60</td>\n",
       "      <td>892.391119</td>\n",
       "    </tr>\n",
       "  </tbody>\n",
       "</table>\n",
       "</div>"
      ],
      "text/plain": [
       "         city  cnt_item  ncnt_item  dcnt_item      rev_item  dcnt_cat  \\\n",
       "5   Жуковский   24523.0      14917       6002  1.941028e+07        57   \n",
       "21      Томск   24909.0      13580       4063  2.771411e+07        52   \n",
       "1    Балашиха   28355.0      16827       5261  3.014085e+07        58   \n",
       "0      Адыгея   30620.0      15553       4849  4.404964e+07        59   \n",
       "3     Вологда   42762.0      24108       7084  3.816043e+07        60   \n",
       "\n",
       "      avg_price  \n",
       "5    791.513411  \n",
       "21  1112.614317  \n",
       "1   1062.981974  \n",
       "0   1438.590425  \n",
       "3    892.391119  "
      ]
     },
     "metadata": {},
     "output_type": "display_data"
    },
    {
     "data": {
      "text/html": [
       "<div>\n",
       "<style scoped>\n",
       "    .dataframe tbody tr th:only-of-type {\n",
       "        vertical-align: middle;\n",
       "    }\n",
       "\n",
       "    .dataframe tbody tr th {\n",
       "        vertical-align: top;\n",
       "    }\n",
       "\n",
       "    .dataframe thead th {\n",
       "        text-align: right;\n",
       "    }\n",
       "</style>\n",
       "<table border=\"1\" class=\"dataframe\">\n",
       "  <thead>\n",
       "    <tr style=\"text-align: right;\">\n",
       "      <th></th>\n",
       "      <th>city</th>\n",
       "      <th>cnt_item</th>\n",
       "      <th>ncnt_item</th>\n",
       "      <th>dcnt_item</th>\n",
       "      <th>rev_item</th>\n",
       "      <th>dcnt_cat</th>\n",
       "      <th>avg_price</th>\n",
       "    </tr>\n",
       "  </thead>\n",
       "  <tbody>\n",
       "    <tr>\n",
       "      <th>23</th>\n",
       "      <td>Уфа</td>\n",
       "      <td>111401.0</td>\n",
       "      <td>58021</td>\n",
       "      <td>9995</td>\n",
       "      <td>1.015653e+08</td>\n",
       "      <td>62</td>\n",
       "      <td>911.708902</td>\n",
       "    </tr>\n",
       "    <tr>\n",
       "      <th>17</th>\n",
       "      <td>СПб</td>\n",
       "      <td>144934.0</td>\n",
       "      <td>56861</td>\n",
       "      <td>12034</td>\n",
       "      <td>1.519170e+08</td>\n",
       "      <td>62</td>\n",
       "      <td>1048.180776</td>\n",
       "    </tr>\n",
       "    <tr>\n",
       "      <th>4</th>\n",
       "      <td>Воронеж</td>\n",
       "      <td>167547.0</td>\n",
       "      <td>79950</td>\n",
       "      <td>12756</td>\n",
       "      <td>1.650251e+08</td>\n",
       "      <td>63</td>\n",
       "      <td>984.948178</td>\n",
       "    </tr>\n",
       "    <tr>\n",
       "      <th>26</th>\n",
       "      <td>Якутск</td>\n",
       "      <td>222841.0</td>\n",
       "      <td>97926</td>\n",
       "      <td>12736</td>\n",
       "      <td>1.817374e+08</td>\n",
       "      <td>61</td>\n",
       "      <td>815.547414</td>\n",
       "    </tr>\n",
       "    <tr>\n",
       "      <th>12</th>\n",
       "      <td>Москва</td>\n",
       "      <td>997820.0</td>\n",
       "      <td>374934</td>\n",
       "      <td>17361</td>\n",
       "      <td>8.708270e+08</td>\n",
       "      <td>67</td>\n",
       "      <td>872.729539</td>\n",
       "    </tr>\n",
       "  </tbody>\n",
       "</table>\n",
       "</div>"
      ],
      "text/plain": [
       "       city  cnt_item  ncnt_item  dcnt_item      rev_item  dcnt_cat  \\\n",
       "23      Уфа  111401.0      58021       9995  1.015653e+08        62   \n",
       "17      СПб  144934.0      56861      12034  1.519170e+08        62   \n",
       "4   Воронеж  167547.0      79950      12756  1.650251e+08        63   \n",
       "26   Якутск  222841.0      97926      12736  1.817374e+08        61   \n",
       "12   Москва  997820.0     374934      17361  8.708270e+08        67   \n",
       "\n",
       "      avg_price  \n",
       "23   911.708902  \n",
       "17  1048.180776  \n",
       "4    984.948178  \n",
       "26   815.547414  \n",
       "12   872.729539  "
      ]
     },
     "metadata": {},
     "output_type": "display_data"
    }
   ],
   "source": [
    "# cities\n",
    "agg_cities = agg_sales.groupby([\"city\"], as_index=False).agg(\n",
    "    cnt_item=(\"cnt_item\",sum),\n",
    "    ncnt_item=(\"cnt_item\",\"count\"),\n",
    "    dcnt_item=(\"item_id\", pd.Series.nunique),\n",
    "    rev_item=(\"sum_revenue\",sum),\n",
    "    dcnt_cat=(\"item_category_id\", pd.Series.nunique)).\\\n",
    "        sort_values(\"cnt_item\")\n",
    "agg_cities[\"avg_price\"] = agg_cities.rev_item/agg_cities.cnt_item        \n",
    "display(agg_cities.head(5))\n",
    "display(agg_cities.tail(5))"
   ]
  },
  {
   "cell_type": "code",
   "execution_count": 23,
   "metadata": {},
   "outputs": [
    {
     "data": {
      "image/png": "[encoded data removed]",
      "text/plain": [
       "<Figure size 720x504 with 1 Axes>"
      ]
     },
     "metadata": {
      "needs_background": "light"
     },
     "output_type": "display_data"
    }
   ],
   "source": [
    "# auto correlation with lags \n",
    "im_sales = agg_sales.groupby([\"date_block_num\",\"shop_id\",\"item_id\"], as_index=False)\\\n",
    "    .agg(sold=(\"cnt_item\", sum))\\\n",
    "        .sort_values(\"date_block_num\")\n",
    "lags = range(1,26)\n",
    "lag_series = []\n",
    "for l in lags:\n",
    "    lag_series.append(im_sales.groupby([\"shop_id\",\"item_id\"], as_index=False).sold.shift(l))\n",
    "lag_sales = pd.concat(lag_series, axis=1).fillna(0)\n",
    "lag_sales.columns = [\"lag\"+str(l) for l in lags]\n",
    "lag_sales = pd.concat([im_sales, lag_sales], axis=1)\n",
    "fig, ax = plt.subplots(1,1, figsize=(10,7))\n",
    "lag_sales.loc[:,\"sold\":\"lag25\"].corr()[\"sold\"].head(26).plot(kind=\"barh\", ax=ax);"
   ]
  },
  {
   "cell_type": "markdown",
   "metadata": {},
   "source": [
    "## Verification design\n",
    "\n",
    "Benchmark based on tree naive strategies - (1) sales on target same as the last month, (2) median target over observation period and (3) gbm on base dataset."
   ]
  },
  {
   "cell_type": "code",
   "execution_count": 24,
   "metadata": {},
   "outputs": [
    {
     "name": "stdout",
     "output_type": "stream",
     "text": [
      "Avg RMSE for the first strategy: 6.5925871900088975\n",
      "Std RMSE for the first strategy: 3.216837897941121\n"
     ]
    },
    {
     "data": {
      "image/png": "[encoded data removed]",
      "text/plain": [
       "<Figure size 504x360 with 1 Axes>"
      ]
     },
     "metadata": {
      "needs_background": "light"
     },
     "output_type": "display_data"
    }
   ],
   "source": [
    "rmse_list = []\n",
    "for target_block in range(1,33):\n",
    "    # get prediction for target block\n",
    "    predicted_values = agg_sales[agg_sales.date_block_num==(target_block-1)][[\"shop_id\", \"item_id\",\"cnt_item\"]]\n",
    "    observed_values = agg_sales[agg_sales.date_block_num==target_block][[\"shop_id\",\"item_id\",\"cnt_item\"]]\n",
    "    bench = observed_values.merge(predicted_values, on=[\"shop_id\",\"item_id\"],\n",
    "        how=\"left\", suffixes=[\"_obs\",\"_pred\"]).fillna(1) # hack \n",
    "    bench[\"se\"] = (bench.cnt_item_pred-bench.cnt_item_obs)**2\n",
    "    rmse_list.append(bench[\"se\"].mean()**(1/2))\n",
    "\n",
    "fig, ax = plt.subplots(1,1, figsize=(7,5))\n",
    "plt.scatter(x=range(1,33),y=rmse_list);\n",
    "ax.set_title(\"rmse over mnth blocks\");ax.set_xlabel(\"months\");ax.set_ylabel(\"rmse\");\n",
    "print(\"Avg RMSE for the first strategy: {}\".format(np.mean(rmse_list)))\n",
    "print(\"Std RMSE for the first strategy: {}\".format(np.std(rmse_list)))"
   ]
  },
  {
   "cell_type": "code",
   "execution_count": 25,
   "metadata": {},
   "outputs": [
    {
     "data": {
      "text/html": [
       "<div>\n",
       "<style scoped>\n",
       "    .dataframe tbody tr th:only-of-type {\n",
       "        vertical-align: middle;\n",
       "    }\n",
       "\n",
       "    .dataframe tbody tr th {\n",
       "        vertical-align: top;\n",
       "    }\n",
       "\n",
       "    .dataframe thead th {\n",
       "        text-align: right;\n",
       "    }\n",
       "</style>\n",
       "<table border=\"1\" class=\"dataframe\">\n",
       "  <thead>\n",
       "    <tr style=\"text-align: right;\">\n",
       "      <th></th>\n",
       "      <th>shop_id</th>\n",
       "      <th>item_id</th>\n",
       "      <th>cnt_item_obs</th>\n",
       "      <th>cnt_item_pred</th>\n",
       "      <th>se</th>\n",
       "    </tr>\n",
       "  </thead>\n",
       "  <tbody>\n",
       "    <tr>\n",
       "      <th>10459</th>\n",
       "      <td>25</td>\n",
       "      <td>9250</td>\n",
       "      <td>208.0</td>\n",
       "      <td>28.0</td>\n",
       "      <td>32400.0</td>\n",
       "    </tr>\n",
       "    <tr>\n",
       "      <th>26049</th>\n",
       "      <td>55</td>\n",
       "      <td>9255</td>\n",
       "      <td>539.0</td>\n",
       "      <td>71.0</td>\n",
       "      <td>219024.0</td>\n",
       "    </tr>\n",
       "    <tr>\n",
       "      <th>4106</th>\n",
       "      <td>12</td>\n",
       "      <td>9252</td>\n",
       "      <td>516.0</td>\n",
       "      <td>14.0</td>\n",
       "      <td>252004.0</td>\n",
       "    </tr>\n",
       "    <tr>\n",
       "      <th>26048</th>\n",
       "      <td>55</td>\n",
       "      <td>9253</td>\n",
       "      <td>516.0</td>\n",
       "      <td>14.0</td>\n",
       "      <td>252004.0</td>\n",
       "    </tr>\n",
       "    <tr>\n",
       "      <th>26045</th>\n",
       "      <td>55</td>\n",
       "      <td>9247</td>\n",
       "      <td>716.0</td>\n",
       "      <td>157.0</td>\n",
       "      <td>312481.0</td>\n",
       "    </tr>\n",
       "    <tr>\n",
       "      <th>26044</th>\n",
       "      <td>55</td>\n",
       "      <td>9245</td>\n",
       "      <td>597.0</td>\n",
       "      <td>29.0</td>\n",
       "      <td>322624.0</td>\n",
       "    </tr>\n",
       "    <tr>\n",
       "      <th>4104</th>\n",
       "      <td>12</td>\n",
       "      <td>9244</td>\n",
       "      <td>597.0</td>\n",
       "      <td>29.0</td>\n",
       "      <td>322624.0</td>\n",
       "    </tr>\n",
       "    <tr>\n",
       "      <th>26047</th>\n",
       "      <td>55</td>\n",
       "      <td>9251</td>\n",
       "      <td>1117.0</td>\n",
       "      <td>193.0</td>\n",
       "      <td>853776.0</td>\n",
       "    </tr>\n",
       "    <tr>\n",
       "      <th>4105</th>\n",
       "      <td>12</td>\n",
       "      <td>9248</td>\n",
       "      <td>1644.0</td>\n",
       "      <td>19.0</td>\n",
       "      <td>2640625.0</td>\n",
       "    </tr>\n",
       "    <tr>\n",
       "      <th>26046</th>\n",
       "      <td>55</td>\n",
       "      <td>9249</td>\n",
       "      <td>1644.0</td>\n",
       "      <td>19.0</td>\n",
       "      <td>2640625.0</td>\n",
       "    </tr>\n",
       "  </tbody>\n",
       "</table>\n",
       "</div>"
      ],
      "text/plain": [
       "       shop_id  item_id  cnt_item_obs  cnt_item_pred         se\n",
       "10459       25     9250         208.0           28.0    32400.0\n",
       "26049       55     9255         539.0           71.0   219024.0\n",
       "4106        12     9252         516.0           14.0   252004.0\n",
       "26048       55     9253         516.0           14.0   252004.0\n",
       "26045       55     9247         716.0          157.0   312481.0\n",
       "26044       55     9245         597.0           29.0   322624.0\n",
       "4104        12     9244         597.0           29.0   322624.0\n",
       "26047       55     9251        1117.0          193.0   853776.0\n",
       "4105        12     9248        1644.0           19.0  2640625.0\n",
       "26046       55     9249        1644.0           19.0  2640625.0"
      ]
     },
     "execution_count": 25,
     "metadata": {},
     "output_type": "execute_result"
    }
   ],
   "source": [
    "# the biggest fails\n",
    "bench.sort_values(\"se\").tail(10)"
   ]
  },
  {
   "cell_type": "code",
   "execution_count": 26,
   "metadata": {},
   "outputs": [
    {
     "name": "stdout",
     "output_type": "stream",
     "text": [
      "Avg RMSE for the second strategy: 6.984793849810235\n",
      "Std RMSE for the second strategy: 3.073450957317647\n"
     ]
    },
    {
     "data": {
      "image/png": "[encoded data removed]",
      "text/plain": [
       "<Figure size 504x360 with 1 Axes>"
      ]
     },
     "metadata": {
      "needs_background": "light"
     },
     "output_type": "display_data"
    }
   ],
   "source": [
    "rmse_list = []\n",
    "for target_block in range(1,33):\n",
    "    # get prediction for target block\n",
    "    predicted_values = agg_sales[agg_sales.date_block_num<target_block].groupby([\"shop_id\", \"item_id\"],\n",
    "        as_index=False).cnt_item.median()\n",
    "\n",
    "    observed_values = agg_sales[agg_sales.date_block_num==target_block][[\"shop_id\",\"item_id\",\"cnt_item\"]]\n",
    "    bench = observed_values.merge(predicted_values, on=[\"shop_id\",\"item_id\"],\n",
    "        how=\"left\", suffixes=[\"_obs\",\"_pred\"]).fillna(1) #hack\n",
    "    bench[\"se\"] = (bench.cnt_item_pred-bench.cnt_item_obs)**2\n",
    "    rmse_list.append(bench[\"se\"].mean()**(1/2))\n",
    "\n",
    "fig, ax = plt.subplots(1,1, figsize=(7,5))\n",
    "plt.scatter(x=range(1,33),y=rmse_list);\n",
    "ax.set_title(\"rmse over mnth blocks\");ax.set_xlabel(\"months\");ax.set_ylabel(\"rmse\");\n",
    "print(\"Avg RMSE for the second strategy: {}\".format(np.mean(rmse_list)))\n",
    "print(\"Std RMSE for the second strategy: {}\".format(np.std(rmse_list)))"
   ]
  },
  {
   "cell_type": "code",
   "execution_count": 27,
   "metadata": {},
   "outputs": [
    {
     "data": {
      "text/html": [
       "<div>\n",
       "<style scoped>\n",
       "    .dataframe tbody tr th:only-of-type {\n",
       "        vertical-align: middle;\n",
       "    }\n",
       "\n",
       "    .dataframe tbody tr th {\n",
       "        vertical-align: top;\n",
       "    }\n",
       "\n",
       "    .dataframe thead th {\n",
       "        text-align: right;\n",
       "    }\n",
       "</style>\n",
       "<table border=\"1\" class=\"dataframe\">\n",
       "  <thead>\n",
       "    <tr style=\"text-align: right;\">\n",
       "      <th></th>\n",
       "      <th>shop_id</th>\n",
       "      <th>item_id</th>\n",
       "      <th>cnt_item_obs</th>\n",
       "      <th>cnt_item_pred</th>\n",
       "      <th>se</th>\n",
       "    </tr>\n",
       "  </thead>\n",
       "  <tbody>\n",
       "    <tr>\n",
       "      <th>13467</th>\n",
       "      <td>28</td>\n",
       "      <td>20949</td>\n",
       "      <td>237.0</td>\n",
       "      <td>493.0</td>\n",
       "      <td>65536.0</td>\n",
       "    </tr>\n",
       "    <tr>\n",
       "      <th>4106</th>\n",
       "      <td>12</td>\n",
       "      <td>9252</td>\n",
       "      <td>516.0</td>\n",
       "      <td>3.0</td>\n",
       "      <td>263169.0</td>\n",
       "    </tr>\n",
       "    <tr>\n",
       "      <th>26048</th>\n",
       "      <td>55</td>\n",
       "      <td>9253</td>\n",
       "      <td>516.0</td>\n",
       "      <td>3.0</td>\n",
       "      <td>263169.0</td>\n",
       "    </tr>\n",
       "    <tr>\n",
       "      <th>26049</th>\n",
       "      <td>55</td>\n",
       "      <td>9255</td>\n",
       "      <td>539.0</td>\n",
       "      <td>16.0</td>\n",
       "      <td>273529.0</td>\n",
       "    </tr>\n",
       "    <tr>\n",
       "      <th>4104</th>\n",
       "      <td>12</td>\n",
       "      <td>9244</td>\n",
       "      <td>597.0</td>\n",
       "      <td>6.0</td>\n",
       "      <td>349281.0</td>\n",
       "    </tr>\n",
       "    <tr>\n",
       "      <th>26044</th>\n",
       "      <td>55</td>\n",
       "      <td>9245</td>\n",
       "      <td>597.0</td>\n",
       "      <td>6.0</td>\n",
       "      <td>349281.0</td>\n",
       "    </tr>\n",
       "    <tr>\n",
       "      <th>26045</th>\n",
       "      <td>55</td>\n",
       "      <td>9247</td>\n",
       "      <td>716.0</td>\n",
       "      <td>47.0</td>\n",
       "      <td>447561.0</td>\n",
       "    </tr>\n",
       "    <tr>\n",
       "      <th>26047</th>\n",
       "      <td>55</td>\n",
       "      <td>9251</td>\n",
       "      <td>1117.0</td>\n",
       "      <td>50.0</td>\n",
       "      <td>1138489.0</td>\n",
       "    </tr>\n",
       "    <tr>\n",
       "      <th>26046</th>\n",
       "      <td>55</td>\n",
       "      <td>9249</td>\n",
       "      <td>1644.0</td>\n",
       "      <td>13.0</td>\n",
       "      <td>2660161.0</td>\n",
       "    </tr>\n",
       "    <tr>\n",
       "      <th>4105</th>\n",
       "      <td>12</td>\n",
       "      <td>9248</td>\n",
       "      <td>1644.0</td>\n",
       "      <td>12.0</td>\n",
       "      <td>2663424.0</td>\n",
       "    </tr>\n",
       "  </tbody>\n",
       "</table>\n",
       "</div>"
      ],
      "text/plain": [
       "       shop_id  item_id  cnt_item_obs  cnt_item_pred         se\n",
       "13467       28    20949         237.0          493.0    65536.0\n",
       "4106        12     9252         516.0            3.0   263169.0\n",
       "26048       55     9253         516.0            3.0   263169.0\n",
       "26049       55     9255         539.0           16.0   273529.0\n",
       "4104        12     9244         597.0            6.0   349281.0\n",
       "26044       55     9245         597.0            6.0   349281.0\n",
       "26045       55     9247         716.0           47.0   447561.0\n",
       "26047       55     9251        1117.0           50.0  1138489.0\n",
       "26046       55     9249        1644.0           13.0  2660161.0\n",
       "4105        12     9248        1644.0           12.0  2663424.0"
      ]
     },
     "execution_count": 27,
     "metadata": {},
     "output_type": "execute_result"
    }
   ],
   "source": [
    "# the biggest fails\n",
    "bench.sort_values(\"se\").tail(10)"
   ]
  },
  {
   "cell_type": "code",
   "execution_count": 28,
   "metadata": {},
   "outputs": [
    {
     "name": "stdout",
     "output_type": "stream",
     "text": [
      "Avg RMSE for the second strategy: 6.984793849810235\n",
      "Std RMSE for the second strategy: 3.073450957317647\n"
     ]
    },
    {
     "data": {
      "image/png": "[encoded data removed]",
      "text/plain": [
       "<Figure size 504x360 with 1 Axes>"
      ]
     },
     "metadata": {
      "needs_background": "light"
     },
     "output_type": "display_data"
    }
   ],
   "source": [
    "rmse_list = []\n",
    "for target_block in range(1,33):\n",
    "    # get prediction for target block\n",
    "    predicted_values = agg_sales[agg_sales.date_block_num<target_block].groupby([\"shop_id\", \"item_id\"],\n",
    "        as_index=False).cnt_item.median()\n",
    "\n",
    "    observed_values = agg_sales[agg_sales.date_block_num==target_block][[\"shop_id\",\"item_id\",\"cnt_item\"]]\n",
    "    bench = observed_values.merge(predicted_values, on=[\"shop_id\",\"item_id\"],\n",
    "        how=\"left\", suffixes=[\"_obs\",\"_pred\"]).fillna(1) #hack\n",
    "    bench[\"se\"] = (bench.cnt_item_pred-bench.cnt_item_obs)**2\n",
    "    rmse_list.append(bench[\"se\"].mean()**(1/2))\n",
    "\n",
    "fig, ax = plt.subplots(1,1, figsize=(7,5))\n",
    "plt.scatter(x=range(1,33),y=rmse_list);\n",
    "ax.set_title(\"rmse over mnth blocks\");ax.set_xlabel(\"months\");ax.set_ylabel(\"rmse\");\n",
    "print(\"Avg RMSE for the second strategy: {}\".format(np.mean(rmse_list)))\n",
    "print(\"Std RMSE for the second strategy: {}\".format(np.std(rmse_list)))"
   ]
  },
  {
   "cell_type": "code",
   "execution_count": 38,
   "metadata": {},
   "outputs": [
    {
     "name": "stdout",
     "output_type": "stream",
     "text": [
      "Avg RMSE for the third strategy: 6.123145700211758\n",
      "Std RMSE for the third strategy: 3.0262873391367533\n"
     ]
    },
    {
     "data": {
      "image/png": "[encoded data removed]",
      "text/plain": [
       "<Figure size 504x360 with 1 Axes>"
      ]
     },
     "metadata": {
      "needs_background": "light"
     },
     "output_type": "display_data"
    }
   ],
   "source": [
    "from lightgbm import LGBMRegressor\n",
    "rmse_list = []\n",
    "for target_block in range(1,33):\n",
    "    train_values = agg_sales[agg_sales.date_block_num<target_block]\\\n",
    "        [[\"year\",\"month\",\"date_block_num\",\"shop_id\",\"item_id\",\"item_category_id\", \"cnt_item\"]].copy()\n",
    "    train_values.rename(columns={\"cnt_item\":\"target\"}, inplace=True)\n",
    "    test_values = agg_sales[agg_sales.date_block_num==target_block]\\\n",
    "        [[\"year\",\"month\",\"date_block_num\",\"shop_id\",\"item_id\",\"item_category_id\",\"cnt_item\"]].copy()\n",
    "    test_values.rename(columns={\"cnt_item\":\"target\"}, inplace=True)    \n",
    "\n",
    "    gbm = LGBMRegressor()\n",
    "    ff = [c != \"target\" for c in train_values.columns]\n",
    "    gbm.fit(train_values.loc[:,ff], train_values.target)\n",
    "    target_pred=gbm.predict(test_values.loc[:,ff])\n",
    "    se = (test_values.target-target_pred)**2\n",
    "    rmse_list.append(se.mean()**(1/2))\n",
    "\n",
    "fig, ax = plt.subplots(1,1, figsize=(7,5))\n",
    "plt.scatter(x=range(1,33),y=rmse_list);\n",
    "ax.set_title(\"rmse over mnth blocks\");ax.set_xlabel(\"months\");ax.set_ylabel(\"rmse\");\n",
    "print(\"Avg RMSE for the third strategy: {}\".format(np.mean(rmse_list)))\n",
    "print(\"Std RMSE for the third strategy: {}\".format(np.std(rmse_list)))"
   ]
  }
 ],
 "metadata": {
  "interpreter": {
   "hash": "784c6dd3cbfcf0711cddca1645945c7b88d2fc7e42cefc6edf7633e7987ba2cf"
  },
  "kernelspec": {
   "display_name": "Python 3.8.10 64-bit ('py-env': venv)",
   "language": "python",
   "name": "python3"
  },
  "language_info": {
   "codemirror_mode": {
    "name": "ipython",
    "version": 3
   },
   "file_extension": ".py",
   "mimetype": "text/x-python",
   "name": "python",
   "nbconvert_exporter": "python",
   "pygments_lexer": "ipython3",
   "version": "3.8.10"
  },
  "orig_nbformat": 4
 },
 "nbformat": 4,
 "nbformat_minor": 2
}
