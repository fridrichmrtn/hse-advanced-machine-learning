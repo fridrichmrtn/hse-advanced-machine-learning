{
  "cells": [
    {
      "cell_type": "markdown",
      "metadata": {
        "id": "qsJYyCBtuT0m"
      },
      "source": [
        "> Martin Fridrich, 03/2022 \n",
        "\n",
        "# Final project\n"
      ]
    },
    {
      "cell_type": "code",
      "source": [
        "# lgbm on gpu\n",
        "def check_lgbm_gpu():\n",
        "  import numpy\n",
        "  import lightgbm\n",
        "  lightgbm.LGBMClassifier(device=\"gpu\").fit(numpy.array([0,1]).reshape(-1,1),[1,0])\n",
        "  print(\"Success!\")\n",
        "try:\n",
        "  print(\"Testing LGBM & GPU compliance...\")\n",
        "  check_lgbm_gpu()\n",
        "except:\n",
        "  print(\"Resolving the issues...\")\n",
        "  !pip uninstall -y lightgbm\n",
        "  !pip install lightgbm --install-option=--gpu\n",
        "  check_lgbm_gpu()"
      ],
      "metadata": {
        "colab": {
          "base_uri": "https://localhost:8080/"
        },
        "id": "Kd9_IIwlQhrw",
        "outputId": "c0bd00c1-8fc0-4725-e07c-c6811d20a985"
      },
      "execution_count": 2,
      "outputs": [
        {
          "output_type": "stream",
          "name": "stdout",
          "text": [
            "Testing LGBM & GPU compliance...\n",
            "Success!\n"
          ]
        }
      ]
    },
    {
      "cell_type": "code",
      "source": [
        "# mount project dir\n",
        "from google.colab import drive\n",
        "drive.mount(\"/content/gdrive\",  force_remount=True)\n",
        "%cd gdrive/My Drive/Colab/\n",
        "#!git clone  https://github.com/fridrichmrtn/hse-advanced-machine-learning\n",
        "%cd hse-advanced-machine-learning\n",
        "!git pull\n",
        "%cd 02_competitive_data_science \n",
        "!pip install -r requirements.txt"
      ],
      "metadata": {
        "id": "bqfDuEAEuqgN",
        "outputId": "f0d6c059-8f84-4215-82e6-2105d0daaeaa",
        "colab": {
          "base_uri": "https://localhost:8080/"
        }
      },
      "execution_count": 3,
      "outputs": [
        {
          "output_type": "stream",
          "name": "stdout",
          "text": [
            "Mounted at /content/gdrive\n",
            "/content/gdrive/My Drive/Colab\n",
            "/content/gdrive/My Drive/Colab/hse-advanced-machine-learning\n",
            "Updating 2a2e58f..ff5ccce\n",
            "error: Your local changes to the following files would be overwritten by merge:\n",
            "\t02_competitive_data_science/requirements.txt\n",
            "\t02_competitive_data_science/wk06/final_project.ipynb\n",
            "Please commit your changes or stash them before you merge.\n",
            "Aborting\n",
            "/content/gdrive/My Drive/Colab/hse-advanced-machine-learning/02_competitive_data_science\n",
            "Requirement already satisfied: jupyter in /usr/local/lib/python3.7/dist-packages (from -r requirements.txt (line 1)) (1.0.0)\n",
            "Requirement already satisfied: numpy in /usr/local/lib/python3.7/dist-packages (from -r requirements.txt (line 2)) (1.21.5)\n",
            "Requirement already satisfied: pandas in /usr/local/lib/python3.7/dist-packages (from -r requirements.txt (line 3)) (1.3.5)\n",
            "Requirement already satisfied: matplotlib in /usr/local/lib/python3.7/dist-packages (from -r requirements.txt (line 4)) (3.2.2)\n",
            "Requirement already satisfied: seaborn in /usr/local/lib/python3.7/dist-packages (from -r requirements.txt (line 5)) (0.11.2)\n",
            "Requirement already satisfied: scipy in /usr/local/lib/python3.7/dist-packages (from -r requirements.txt (line 6)) (1.4.1)\n",
            "Requirement already satisfied: sklearn in /usr/local/lib/python3.7/dist-packages (from -r requirements.txt (line 7)) (0.0)\n",
            "Requirement already satisfied: category_encoders in /usr/local/lib/python3.7/dist-packages (from -r requirements.txt (line 8)) (2.4.0)\n",
            "Requirement already satisfied: lightgbm in /usr/local/lib/python3.7/dist-packages (from -r requirements.txt (line 9)) (3.3.2)\n",
            "Requirement already satisfied: catboost in /usr/local/lib/python3.7/dist-packages (from -r requirements.txt (line 10)) (1.0.4)\n",
            "Requirement already satisfied: fuzzywuzzy in /usr/local/lib/python3.7/dist-packages (from -r requirements.txt (line 11)) (0.18.0)\n",
            "Requirement already satisfied: python-Levenshtein in /usr/local/lib/python3.7/dist-packages (from -r requirements.txt (line 12)) (0.12.2)\n",
            "Requirement already satisfied: kaggle in /usr/local/lib/python3.7/dist-packages (from -r requirements.txt (line 13)) (1.5.12)\n",
            "Requirement already satisfied: xgboost in /usr/local/lib/python3.7/dist-packages (from -r requirements.txt (line 14)) (0.90)\n",
            "Requirement already satisfied: qtconsole in /usr/local/lib/python3.7/dist-packages (from jupyter->-r requirements.txt (line 1)) (5.2.2)\n",
            "Requirement already satisfied: ipywidgets in /usr/local/lib/python3.7/dist-packages (from jupyter->-r requirements.txt (line 1)) (7.6.5)\n",
            "Requirement already satisfied: nbconvert in /usr/local/lib/python3.7/dist-packages (from jupyter->-r requirements.txt (line 1)) (5.6.1)\n",
            "Requirement already satisfied: ipykernel in /usr/local/lib/python3.7/dist-packages (from jupyter->-r requirements.txt (line 1)) (4.10.1)\n",
            "Requirement already satisfied: notebook in /usr/local/lib/python3.7/dist-packages (from jupyter->-r requirements.txt (line 1)) (5.3.1)\n",
            "Requirement already satisfied: jupyter-console in /usr/local/lib/python3.7/dist-packages (from jupyter->-r requirements.txt (line 1)) (5.2.0)\n",
            "Requirement already satisfied: python-dateutil>=2.7.3 in /usr/local/lib/python3.7/dist-packages (from pandas->-r requirements.txt (line 3)) (2.8.2)\n",
            "Requirement already satisfied: pytz>=2017.3 in /usr/local/lib/python3.7/dist-packages (from pandas->-r requirements.txt (line 3)) (2018.9)\n",
            "Requirement already satisfied: six>=1.5 in /usr/local/lib/python3.7/dist-packages (from python-dateutil>=2.7.3->pandas->-r requirements.txt (line 3)) (1.15.0)\n",
            "Requirement already satisfied: cycler>=0.10 in /usr/local/lib/python3.7/dist-packages (from matplotlib->-r requirements.txt (line 4)) (0.11.0)\n",
            "Requirement already satisfied: kiwisolver>=1.0.1 in /usr/local/lib/python3.7/dist-packages (from matplotlib->-r requirements.txt (line 4)) (1.3.2)\n",
            "Requirement already satisfied: pyparsing!=2.0.4,!=2.1.2,!=2.1.6,>=2.0.1 in /usr/local/lib/python3.7/dist-packages (from matplotlib->-r requirements.txt (line 4)) (3.0.7)\n",
            "Requirement already satisfied: scikit-learn in /usr/local/lib/python3.7/dist-packages (from sklearn->-r requirements.txt (line 7)) (1.0.2)\n",
            "Requirement already satisfied: statsmodels>=0.9.0 in /usr/local/lib/python3.7/dist-packages (from category_encoders->-r requirements.txt (line 8)) (0.10.2)\n",
            "Requirement already satisfied: patsy>=0.5.1 in /usr/local/lib/python3.7/dist-packages (from category_encoders->-r requirements.txt (line 8)) (0.5.2)\n",
            "Requirement already satisfied: threadpoolctl>=2.0.0 in /usr/local/lib/python3.7/dist-packages (from scikit-learn->sklearn->-r requirements.txt (line 7)) (3.1.0)\n",
            "Requirement already satisfied: joblib>=0.11 in /usr/local/lib/python3.7/dist-packages (from scikit-learn->sklearn->-r requirements.txt (line 7)) (1.1.0)\n",
            "Requirement already satisfied: wheel in /usr/local/lib/python3.7/dist-packages (from lightgbm->-r requirements.txt (line 9)) (0.37.1)\n",
            "Requirement already satisfied: graphviz in /usr/local/lib/python3.7/dist-packages (from catboost->-r requirements.txt (line 10)) (0.10.1)\n",
            "Requirement already satisfied: plotly in /usr/local/lib/python3.7/dist-packages (from catboost->-r requirements.txt (line 10)) (5.5.0)\n",
            "Requirement already satisfied: setuptools in /usr/local/lib/python3.7/dist-packages (from python-Levenshtein->-r requirements.txt (line 12)) (57.4.0)\n",
            "Requirement already satisfied: python-slugify in /usr/local/lib/python3.7/dist-packages (from kaggle->-r requirements.txt (line 13)) (6.1.1)\n",
            "Requirement already satisfied: requests in /usr/local/lib/python3.7/dist-packages (from kaggle->-r requirements.txt (line 13)) (2.23.0)\n",
            "Requirement already satisfied: urllib3 in /usr/local/lib/python3.7/dist-packages (from kaggle->-r requirements.txt (line 13)) (1.24.3)\n",
            "Requirement already satisfied: certifi in /usr/local/lib/python3.7/dist-packages (from kaggle->-r requirements.txt (line 13)) (2021.10.8)\n",
            "Requirement already satisfied: tqdm in /usr/local/lib/python3.7/dist-packages (from kaggle->-r requirements.txt (line 13)) (4.63.0)\n",
            "Requirement already satisfied: jupyter-client in /usr/local/lib/python3.7/dist-packages (from ipykernel->jupyter->-r requirements.txt (line 1)) (5.3.5)\n",
            "Requirement already satisfied: traitlets>=4.1.0 in /usr/local/lib/python3.7/dist-packages (from ipykernel->jupyter->-r requirements.txt (line 1)) (5.1.1)\n",
            "Requirement already satisfied: tornado>=4.0 in /usr/local/lib/python3.7/dist-packages (from ipykernel->jupyter->-r requirements.txt (line 1)) (5.1.1)\n",
            "Requirement already satisfied: ipython>=4.0.0 in /usr/local/lib/python3.7/dist-packages (from ipykernel->jupyter->-r requirements.txt (line 1)) (5.5.0)\n",
            "Requirement already satisfied: pexpect in /usr/local/lib/python3.7/dist-packages (from ipython>=4.0.0->ipykernel->jupyter->-r requirements.txt (line 1)) (4.8.0)\n",
            "Requirement already satisfied: pickleshare in /usr/local/lib/python3.7/dist-packages (from ipython>=4.0.0->ipykernel->jupyter->-r requirements.txt (line 1)) (0.7.5)\n",
            "Requirement already satisfied: prompt-toolkit<2.0.0,>=1.0.4 in /usr/local/lib/python3.7/dist-packages (from ipython>=4.0.0->ipykernel->jupyter->-r requirements.txt (line 1)) (1.0.18)\n",
            "Requirement already satisfied: pygments in /usr/local/lib/python3.7/dist-packages (from ipython>=4.0.0->ipykernel->jupyter->-r requirements.txt (line 1)) (2.6.1)\n",
            "Requirement already satisfied: simplegeneric>0.8 in /usr/local/lib/python3.7/dist-packages (from ipython>=4.0.0->ipykernel->jupyter->-r requirements.txt (line 1)) (0.8.1)\n",
            "Requirement already satisfied: decorator in /usr/local/lib/python3.7/dist-packages (from ipython>=4.0.0->ipykernel->jupyter->-r requirements.txt (line 1)) (4.4.2)\n",
            "Requirement already satisfied: wcwidth in /usr/local/lib/python3.7/dist-packages (from prompt-toolkit<2.0.0,>=1.0.4->ipython>=4.0.0->ipykernel->jupyter->-r requirements.txt (line 1)) (0.2.5)\n",
            "Requirement already satisfied: ipython-genutils~=0.2.0 in /usr/local/lib/python3.7/dist-packages (from ipywidgets->jupyter->-r requirements.txt (line 1)) (0.2.0)\n",
            "Requirement already satisfied: widgetsnbextension~=3.5.0 in /usr/local/lib/python3.7/dist-packages (from ipywidgets->jupyter->-r requirements.txt (line 1)) (3.5.2)\n",
            "Requirement already satisfied: jupyterlab-widgets>=1.0.0 in /usr/local/lib/python3.7/dist-packages (from ipywidgets->jupyter->-r requirements.txt (line 1)) (1.0.2)\n",
            "Requirement already satisfied: nbformat>=4.2.0 in /usr/local/lib/python3.7/dist-packages (from ipywidgets->jupyter->-r requirements.txt (line 1)) (5.1.3)\n",
            "Requirement already satisfied: jupyter-core in /usr/local/lib/python3.7/dist-packages (from nbformat>=4.2.0->ipywidgets->jupyter->-r requirements.txt (line 1)) (4.9.2)\n",
            "Requirement already satisfied: jsonschema!=2.5.0,>=2.4 in /usr/local/lib/python3.7/dist-packages (from nbformat>=4.2.0->ipywidgets->jupyter->-r requirements.txt (line 1)) (4.3.3)\n",
            "Requirement already satisfied: importlib-metadata in /usr/local/lib/python3.7/dist-packages (from jsonschema!=2.5.0,>=2.4->nbformat>=4.2.0->ipywidgets->jupyter->-r requirements.txt (line 1)) (4.11.2)\n",
            "Requirement already satisfied: attrs>=17.4.0 in /usr/local/lib/python3.7/dist-packages (from jsonschema!=2.5.0,>=2.4->nbformat>=4.2.0->ipywidgets->jupyter->-r requirements.txt (line 1)) (21.4.0)\n",
            "Requirement already satisfied: pyrsistent!=0.17.0,!=0.17.1,!=0.17.2,>=0.14.0 in /usr/local/lib/python3.7/dist-packages (from jsonschema!=2.5.0,>=2.4->nbformat>=4.2.0->ipywidgets->jupyter->-r requirements.txt (line 1)) (0.18.1)\n",
            "Requirement already satisfied: importlib-resources>=1.4.0 in /usr/local/lib/python3.7/dist-packages (from jsonschema!=2.5.0,>=2.4->nbformat>=4.2.0->ipywidgets->jupyter->-r requirements.txt (line 1)) (5.4.0)\n",
            "Requirement already satisfied: typing-extensions in /usr/local/lib/python3.7/dist-packages (from jsonschema!=2.5.0,>=2.4->nbformat>=4.2.0->ipywidgets->jupyter->-r requirements.txt (line 1)) (3.10.0.2)\n",
            "Requirement already satisfied: zipp>=3.1.0 in /usr/local/lib/python3.7/dist-packages (from importlib-resources>=1.4.0->jsonschema!=2.5.0,>=2.4->nbformat>=4.2.0->ipywidgets->jupyter->-r requirements.txt (line 1)) (3.7.0)\n",
            "Requirement already satisfied: terminado>=0.8.1 in /usr/local/lib/python3.7/dist-packages (from notebook->jupyter->-r requirements.txt (line 1)) (0.13.3)\n",
            "Requirement already satisfied: Send2Trash in /usr/local/lib/python3.7/dist-packages (from notebook->jupyter->-r requirements.txt (line 1)) (1.8.0)\n",
            "Requirement already satisfied: jinja2 in /usr/local/lib/python3.7/dist-packages (from notebook->jupyter->-r requirements.txt (line 1)) (2.11.3)\n",
            "Requirement already satisfied: pyzmq>=13 in /usr/local/lib/python3.7/dist-packages (from jupyter-client->ipykernel->jupyter->-r requirements.txt (line 1)) (22.3.0)\n",
            "Requirement already satisfied: ptyprocess in /usr/local/lib/python3.7/dist-packages (from terminado>=0.8.1->notebook->jupyter->-r requirements.txt (line 1)) (0.7.0)\n",
            "Requirement already satisfied: MarkupSafe>=0.23 in /usr/local/lib/python3.7/dist-packages (from jinja2->notebook->jupyter->-r requirements.txt (line 1)) (2.0.1)\n",
            "Requirement already satisfied: bleach in /usr/local/lib/python3.7/dist-packages (from nbconvert->jupyter->-r requirements.txt (line 1)) (4.1.0)\n",
            "Requirement already satisfied: testpath in /usr/local/lib/python3.7/dist-packages (from nbconvert->jupyter->-r requirements.txt (line 1)) (0.6.0)\n",
            "Requirement already satisfied: mistune<2,>=0.8.1 in /usr/local/lib/python3.7/dist-packages (from nbconvert->jupyter->-r requirements.txt (line 1)) (0.8.4)\n",
            "Requirement already satisfied: pandocfilters>=1.4.1 in /usr/local/lib/python3.7/dist-packages (from nbconvert->jupyter->-r requirements.txt (line 1)) (1.5.0)\n",
            "Requirement already satisfied: entrypoints>=0.2.2 in /usr/local/lib/python3.7/dist-packages (from nbconvert->jupyter->-r requirements.txt (line 1)) (0.4)\n",
            "Requirement already satisfied: defusedxml in /usr/local/lib/python3.7/dist-packages (from nbconvert->jupyter->-r requirements.txt (line 1)) (0.7.1)\n",
            "Requirement already satisfied: packaging in /usr/local/lib/python3.7/dist-packages (from bleach->nbconvert->jupyter->-r requirements.txt (line 1)) (21.3)\n",
            "Requirement already satisfied: webencodings in /usr/local/lib/python3.7/dist-packages (from bleach->nbconvert->jupyter->-r requirements.txt (line 1)) (0.5.1)\n",
            "Requirement already satisfied: tenacity>=6.2.0 in /usr/local/lib/python3.7/dist-packages (from plotly->catboost->-r requirements.txt (line 10)) (8.0.1)\n",
            "Requirement already satisfied: text-unidecode>=1.3 in /usr/local/lib/python3.7/dist-packages (from python-slugify->kaggle->-r requirements.txt (line 13)) (1.3)\n",
            "Requirement already satisfied: qtpy in /usr/local/lib/python3.7/dist-packages (from qtconsole->jupyter->-r requirements.txt (line 1)) (2.0.1)\n",
            "Requirement already satisfied: chardet<4,>=3.0.2 in /usr/local/lib/python3.7/dist-packages (from requests->kaggle->-r requirements.txt (line 13)) (3.0.4)\n",
            "Requirement already satisfied: idna<3,>=2.5 in /usr/local/lib/python3.7/dist-packages (from requests->kaggle->-r requirements.txt (line 13)) (2.10)\n"
          ]
        }
      ]
    },
    {
      "cell_type": "code",
      "source": [
        "# set kaggle\n",
        "import os\n",
        "os.environ['KAGGLE_CONFIG_DIR'] = \"/content/gdrive/MyDrive/Personal/.kaggle\"\n",
        "# download data\n",
        "!mkdir -p data/final_project\n",
        "%cd data/final_project\n",
        "!kaggle competitions download -c competitive-data-science-predict-future-sales\n",
        "# unpack and remove zips\n",
        "import os\n",
        "import glob\n",
        "for f in glob.glob('*.{}'.format(\"zip\")):\n",
        "  os.system(\"unzip \"+f); os.system(\"rm \"+f)\n",
        "# get back\n",
        "%cd /content/gdrive/MyDrive/Colab/hse-advanced-machine-learning/02_competitive_data_science"
      ],
      "metadata": {
        "id": "BHltF4yo0kvO",
        "outputId": "8108b292-4aa0-4ea6-fe65-572bc8bda62f",
        "colab": {
          "base_uri": "https://localhost:8080/"
        }
      },
      "execution_count": 4,
      "outputs": [
        {
          "output_type": "stream",
          "name": "stdout",
          "text": [
            "/content/gdrive/MyDrive/Colab/hse-advanced-machine-learning/02_competitive_data_science/data/final_project\n",
            "Downloading competitive-data-science-predict-future-sales.zip to /content/gdrive/MyDrive/Colab/hse-advanced-machine-learning/02_competitive_data_science/data/final_project\n",
            " 99% 15.0M/15.1M [00:00<00:00, 153MB/s]\n",
            "100% 15.1M/15.1M [00:00<00:00, 148MB/s]\n",
            "/content/gdrive/MyDrive/Colab/hse-advanced-machine-learning/02_competitive_data_science\n"
          ]
        }
      ]
    },
    {
      "cell_type": "markdown",
      "metadata": {
        "id": "9Jjue_DpuT0n"
      },
      "source": [
        "## Data loading"
      ]
    },
    {
      "cell_type": "code",
      "execution_count": 57,
      "metadata": {
        "id": "OCIrLeAduT0o"
      },
      "outputs": [],
      "source": [
        "import numpy as np\n",
        "import pandas as pd\n",
        "import matplotlib.pyplot as plt\n",
        "from matplotlib.colors import rgb2hex\n",
        "import seaborn as sns\n",
        "import gc\n",
        "from itertools import product\n",
        "import re\n",
        "from fuzzywuzzy import fuzz"
      ]
    },
    {
      "cell_type": "code",
      "execution_count": 6,
      "metadata": {
        "id": "WeK70Su3uT0p",
        "outputId": "ecc8109e-734c-4112-fb3f-c045a30ef22f",
        "colab": {
          "base_uri": "https://localhost:8080/",
          "height": 300
        }
      },
      "outputs": [
        {
          "output_type": "execute_result",
          "data": {
            "text/plain": [
              "       date_block_num       shop_id       item_id    item_price  item_cnt_day\n",
              "count    2.935849e+06  2.935849e+06  2.935849e+06  2.935849e+06  2.935849e+06\n",
              "mean     1.456991e+01  3.300173e+01  1.019723e+04  8.908532e+02  1.242641e+00\n",
              "std      9.422988e+00  1.622697e+01  6.324297e+03  1.729800e+03  2.618834e+00\n",
              "min      0.000000e+00  0.000000e+00  0.000000e+00 -1.000000e+00 -2.200000e+01\n",
              "25%      7.000000e+00  2.200000e+01  4.476000e+03  2.490000e+02  1.000000e+00\n",
              "50%      1.400000e+01  3.100000e+01  9.343000e+03  3.990000e+02  1.000000e+00\n",
              "75%      2.300000e+01  4.700000e+01  1.568400e+04  9.990000e+02  1.000000e+00\n",
              "max      3.300000e+01  5.900000e+01  2.216900e+04  3.079800e+05  2.169000e+03"
            ],
            "text/html": [
              "\n",
              "  <div id=\"df-95d375df-9021-40f5-a2e3-85934a617dbe\">\n",
              "    <div class=\"colab-df-container\">\n",
              "      <div>\n",
              "<style scoped>\n",
              "    .dataframe tbody tr th:only-of-type {\n",
              "        vertical-align: middle;\n",
              "    }\n",
              "\n",
              "    .dataframe tbody tr th {\n",
              "        vertical-align: top;\n",
              "    }\n",
              "\n",
              "    .dataframe thead th {\n",
              "        text-align: right;\n",
              "    }\n",
              "</style>\n",
              "<table border=\"1\" class=\"dataframe\">\n",
              "  <thead>\n",
              "    <tr style=\"text-align: right;\">\n",
              "      <th></th>\n",
              "      <th>date_block_num</th>\n",
              "      <th>shop_id</th>\n",
              "      <th>item_id</th>\n",
              "      <th>item_price</th>\n",
              "      <th>item_cnt_day</th>\n",
              "    </tr>\n",
              "  </thead>\n",
              "  <tbody>\n",
              "    <tr>\n",
              "      <th>count</th>\n",
              "      <td>2.935849e+06</td>\n",
              "      <td>2.935849e+06</td>\n",
              "      <td>2.935849e+06</td>\n",
              "      <td>2.935849e+06</td>\n",
              "      <td>2.935849e+06</td>\n",
              "    </tr>\n",
              "    <tr>\n",
              "      <th>mean</th>\n",
              "      <td>1.456991e+01</td>\n",
              "      <td>3.300173e+01</td>\n",
              "      <td>1.019723e+04</td>\n",
              "      <td>8.908532e+02</td>\n",
              "      <td>1.242641e+00</td>\n",
              "    </tr>\n",
              "    <tr>\n",
              "      <th>std</th>\n",
              "      <td>9.422988e+00</td>\n",
              "      <td>1.622697e+01</td>\n",
              "      <td>6.324297e+03</td>\n",
              "      <td>1.729800e+03</td>\n",
              "      <td>2.618834e+00</td>\n",
              "    </tr>\n",
              "    <tr>\n",
              "      <th>min</th>\n",
              "      <td>0.000000e+00</td>\n",
              "      <td>0.000000e+00</td>\n",
              "      <td>0.000000e+00</td>\n",
              "      <td>-1.000000e+00</td>\n",
              "      <td>-2.200000e+01</td>\n",
              "    </tr>\n",
              "    <tr>\n",
              "      <th>25%</th>\n",
              "      <td>7.000000e+00</td>\n",
              "      <td>2.200000e+01</td>\n",
              "      <td>4.476000e+03</td>\n",
              "      <td>2.490000e+02</td>\n",
              "      <td>1.000000e+00</td>\n",
              "    </tr>\n",
              "    <tr>\n",
              "      <th>50%</th>\n",
              "      <td>1.400000e+01</td>\n",
              "      <td>3.100000e+01</td>\n",
              "      <td>9.343000e+03</td>\n",
              "      <td>3.990000e+02</td>\n",
              "      <td>1.000000e+00</td>\n",
              "    </tr>\n",
              "    <tr>\n",
              "      <th>75%</th>\n",
              "      <td>2.300000e+01</td>\n",
              "      <td>4.700000e+01</td>\n",
              "      <td>1.568400e+04</td>\n",
              "      <td>9.990000e+02</td>\n",
              "      <td>1.000000e+00</td>\n",
              "    </tr>\n",
              "    <tr>\n",
              "      <th>max</th>\n",
              "      <td>3.300000e+01</td>\n",
              "      <td>5.900000e+01</td>\n",
              "      <td>2.216900e+04</td>\n",
              "      <td>3.079800e+05</td>\n",
              "      <td>2.169000e+03</td>\n",
              "    </tr>\n",
              "  </tbody>\n",
              "</table>\n",
              "</div>\n",
              "      <button class=\"colab-df-convert\" onclick=\"convertToInteractive('df-95d375df-9021-40f5-a2e3-85934a617dbe')\"\n",
              "              title=\"Convert this dataframe to an interactive table.\"\n",
              "              style=\"display:none;\">\n",
              "        \n",
              "  <svg xmlns=\"http://www.w3.org/2000/svg\" height=\"24px\"viewBox=\"0 0 24 24\"\n",
              "       width=\"24px\">\n",
              "    <path d=\"M0 0h24v24H0V0z\" fill=\"none\"/>\n",
              "    <path d=\"M18.56 5.44l.94 2.06.94-2.06 2.06-.94-2.06-.94-.94-2.06-.94 2.06-2.06.94zm-11 1L8.5 8.5l.94-2.06 2.06-.94-2.06-.94L8.5 2.5l-.94 2.06-2.06.94zm10 10l.94 2.06.94-2.06 2.06-.94-2.06-.94-.94-2.06-.94 2.06-2.06.94z\"/><path d=\"M17.41 7.96l-1.37-1.37c-.4-.4-.92-.59-1.43-.59-.52 0-1.04.2-1.43.59L10.3 9.45l-7.72 7.72c-.78.78-.78 2.05 0 2.83L4 21.41c.39.39.9.59 1.41.59.51 0 1.02-.2 1.41-.59l7.78-7.78 2.81-2.81c.8-.78.8-2.07 0-2.86zM5.41 20L4 18.59l7.72-7.72 1.47 1.35L5.41 20z\"/>\n",
              "  </svg>\n",
              "      </button>\n",
              "      \n",
              "  <style>\n",
              "    .colab-df-container {\n",
              "      display:flex;\n",
              "      flex-wrap:wrap;\n",
              "      gap: 12px;\n",
              "    }\n",
              "\n",
              "    .colab-df-convert {\n",
              "      background-color: #E8F0FE;\n",
              "      border: none;\n",
              "      border-radius: 50%;\n",
              "      cursor: pointer;\n",
              "      display: none;\n",
              "      fill: #1967D2;\n",
              "      height: 32px;\n",
              "      padding: 0 0 0 0;\n",
              "      width: 32px;\n",
              "    }\n",
              "\n",
              "    .colab-df-convert:hover {\n",
              "      background-color: #E2EBFA;\n",
              "      box-shadow: 0px 1px 2px rgba(60, 64, 67, 0.3), 0px 1px 3px 1px rgba(60, 64, 67, 0.15);\n",
              "      fill: #174EA6;\n",
              "    }\n",
              "\n",
              "    [theme=dark] .colab-df-convert {\n",
              "      background-color: #3B4455;\n",
              "      fill: #D2E3FC;\n",
              "    }\n",
              "\n",
              "    [theme=dark] .colab-df-convert:hover {\n",
              "      background-color: #434B5C;\n",
              "      box-shadow: 0px 1px 3px 1px rgba(0, 0, 0, 0.15);\n",
              "      filter: drop-shadow(0px 1px 2px rgba(0, 0, 0, 0.3));\n",
              "      fill: #FFFFFF;\n",
              "    }\n",
              "  </style>\n",
              "\n",
              "      <script>\n",
              "        const buttonEl =\n",
              "          document.querySelector('#df-95d375df-9021-40f5-a2e3-85934a617dbe button.colab-df-convert');\n",
              "        buttonEl.style.display =\n",
              "          google.colab.kernel.accessAllowed ? 'block' : 'none';\n",
              "\n",
              "        async function convertToInteractive(key) {\n",
              "          const element = document.querySelector('#df-95d375df-9021-40f5-a2e3-85934a617dbe');\n",
              "          const dataTable =\n",
              "            await google.colab.kernel.invokeFunction('convertToInteractive',\n",
              "                                                     [key], {});\n",
              "          if (!dataTable) return;\n",
              "\n",
              "          const docLinkHtml = 'Like what you see? Visit the ' +\n",
              "            '<a target=\"_blank\" href=https://colab.research.google.com/notebooks/data_table.ipynb>data table notebook</a>'\n",
              "            + ' to learn more about interactive tables.';\n",
              "          element.innerHTML = '';\n",
              "          dataTable['output_type'] = 'display_data';\n",
              "          await google.colab.output.renderOutput(dataTable, element);\n",
              "          const docLink = document.createElement('div');\n",
              "          docLink.innerHTML = docLinkHtml;\n",
              "          element.appendChild(docLink);\n",
              "        }\n",
              "      </script>\n",
              "    </div>\n",
              "  </div>\n",
              "  "
            ]
          },
          "metadata": {},
          "execution_count": 6
        }
      ],
      "source": [
        "DATA_DIR = \"data/final_project/\"\n",
        "# sales\n",
        "sales_train = pd.read_csv(DATA_DIR+\"sales_train.csv\")\n",
        "sales_test = pd.read_csv(DATA_DIR+\"test.csv\")\n",
        "# addional info\n",
        "items = pd.read_csv(DATA_DIR+\"items.csv\")\n",
        "item_categories = pd.read_csv(DATA_DIR+\"item_categories.csv\")\n",
        "shops = pd.read_csv(DATA_DIR+\"shops.csv\")\n",
        "\n",
        "# basic stats related to sales tab\n",
        "sales_train.describe()"
      ]
    },
    {
      "cell_type": "markdown",
      "metadata": {
        "id": "ABC2GyM0uT0p"
      },
      "source": [
        "## Initial transformations"
      ]
    },
    {
      "cell_type": "code",
      "execution_count": 7,
      "metadata": {
        "id": "2BoH6h5QuT0p"
      },
      "outputs": [],
      "source": [
        "# downcast dataframe\n",
        "def optimize_numeric_dtypes(df):\n",
        "    import pandas as pd\n",
        "    float_cols = df.select_dtypes(\"float\").columns\n",
        "    int_cols = df.select_dtypes(\"integer\").columns\n",
        "    df[float_cols] = df[float_cols].\\\n",
        "        apply(pd.to_numeric, downcast=\"float\")\n",
        "    df[int_cols] = df[int_cols].\\\n",
        "        apply(pd.to_numeric, downcast=\"integer\")\n",
        "    return df\n",
        "\n",
        "def optimize_categories(df):\n",
        "    import pandas as pd\n",
        "    cat_cols = df.select_dtypes(\"object\").columns\n",
        "    df[cat_cols] = df[cat_cols].\\\n",
        "        apply(lambda x: x.astype(\"category\").cat.codes)\n",
        "    return df    "
      ]
    },
    {
      "cell_type": "code",
      "execution_count": 8,
      "metadata": {
        "id": "ZrmEO2dPuT0q",
        "outputId": "acbc1eb2-6f8c-4e41-e6f0-13b23f49ec18",
        "colab": {
          "base_uri": "https://localhost:8080/",
          "height": 0
        }
      },
      "outputs": [
        {
          "output_type": "execute_result",
          "data": {
            "text/plain": [
              "   item_id  shop_id  date_block_num  total_sold  sum_revenue  n_transactions\n",
              "0     5037        5               0         0.0          0.0             0.0\n",
              "1     5037        5               1         0.0          0.0             0.0\n",
              "2     5037        5               2         0.0          0.0             0.0"
            ],
            "text/html": [
              "\n",
              "  <div id=\"df-4d84db93-8db0-4563-8d7e-6b9c555f20b8\">\n",
              "    <div class=\"colab-df-container\">\n",
              "      <div>\n",
              "<style scoped>\n",
              "    .dataframe tbody tr th:only-of-type {\n",
              "        vertical-align: middle;\n",
              "    }\n",
              "\n",
              "    .dataframe tbody tr th {\n",
              "        vertical-align: top;\n",
              "    }\n",
              "\n",
              "    .dataframe thead th {\n",
              "        text-align: right;\n",
              "    }\n",
              "</style>\n",
              "<table border=\"1\" class=\"dataframe\">\n",
              "  <thead>\n",
              "    <tr style=\"text-align: right;\">\n",
              "      <th></th>\n",
              "      <th>item_id</th>\n",
              "      <th>shop_id</th>\n",
              "      <th>date_block_num</th>\n",
              "      <th>total_sold</th>\n",
              "      <th>sum_revenue</th>\n",
              "      <th>n_transactions</th>\n",
              "    </tr>\n",
              "  </thead>\n",
              "  <tbody>\n",
              "    <tr>\n",
              "      <th>0</th>\n",
              "      <td>5037</td>\n",
              "      <td>5</td>\n",
              "      <td>0</td>\n",
              "      <td>0.0</td>\n",
              "      <td>0.0</td>\n",
              "      <td>0.0</td>\n",
              "    </tr>\n",
              "    <tr>\n",
              "      <th>1</th>\n",
              "      <td>5037</td>\n",
              "      <td>5</td>\n",
              "      <td>1</td>\n",
              "      <td>0.0</td>\n",
              "      <td>0.0</td>\n",
              "      <td>0.0</td>\n",
              "    </tr>\n",
              "    <tr>\n",
              "      <th>2</th>\n",
              "      <td>5037</td>\n",
              "      <td>5</td>\n",
              "      <td>2</td>\n",
              "      <td>0.0</td>\n",
              "      <td>0.0</td>\n",
              "      <td>0.0</td>\n",
              "    </tr>\n",
              "  </tbody>\n",
              "</table>\n",
              "</div>\n",
              "      <button class=\"colab-df-convert\" onclick=\"convertToInteractive('df-4d84db93-8db0-4563-8d7e-6b9c555f20b8')\"\n",
              "              title=\"Convert this dataframe to an interactive table.\"\n",
              "              style=\"display:none;\">\n",
              "        \n",
              "  <svg xmlns=\"http://www.w3.org/2000/svg\" height=\"24px\"viewBox=\"0 0 24 24\"\n",
              "       width=\"24px\">\n",
              "    <path d=\"M0 0h24v24H0V0z\" fill=\"none\"/>\n",
              "    <path d=\"M18.56 5.44l.94 2.06.94-2.06 2.06-.94-2.06-.94-.94-2.06-.94 2.06-2.06.94zm-11 1L8.5 8.5l.94-2.06 2.06-.94-2.06-.94L8.5 2.5l-.94 2.06-2.06.94zm10 10l.94 2.06.94-2.06 2.06-.94-2.06-.94-.94-2.06-.94 2.06-2.06.94z\"/><path d=\"M17.41 7.96l-1.37-1.37c-.4-.4-.92-.59-1.43-.59-.52 0-1.04.2-1.43.59L10.3 9.45l-7.72 7.72c-.78.78-.78 2.05 0 2.83L4 21.41c.39.39.9.59 1.41.59.51 0 1.02-.2 1.41-.59l7.78-7.78 2.81-2.81c.8-.78.8-2.07 0-2.86zM5.41 20L4 18.59l7.72-7.72 1.47 1.35L5.41 20z\"/>\n",
              "  </svg>\n",
              "      </button>\n",
              "      \n",
              "  <style>\n",
              "    .colab-df-container {\n",
              "      display:flex;\n",
              "      flex-wrap:wrap;\n",
              "      gap: 12px;\n",
              "    }\n",
              "\n",
              "    .colab-df-convert {\n",
              "      background-color: #E8F0FE;\n",
              "      border: none;\n",
              "      border-radius: 50%;\n",
              "      cursor: pointer;\n",
              "      display: none;\n",
              "      fill: #1967D2;\n",
              "      height: 32px;\n",
              "      padding: 0 0 0 0;\n",
              "      width: 32px;\n",
              "    }\n",
              "\n",
              "    .colab-df-convert:hover {\n",
              "      background-color: #E2EBFA;\n",
              "      box-shadow: 0px 1px 2px rgba(60, 64, 67, 0.3), 0px 1px 3px 1px rgba(60, 64, 67, 0.15);\n",
              "      fill: #174EA6;\n",
              "    }\n",
              "\n",
              "    [theme=dark] .colab-df-convert {\n",
              "      background-color: #3B4455;\n",
              "      fill: #D2E3FC;\n",
              "    }\n",
              "\n",
              "    [theme=dark] .colab-df-convert:hover {\n",
              "      background-color: #434B5C;\n",
              "      box-shadow: 0px 1px 3px 1px rgba(0, 0, 0, 0.15);\n",
              "      filter: drop-shadow(0px 1px 2px rgba(0, 0, 0, 0.3));\n",
              "      fill: #FFFFFF;\n",
              "    }\n",
              "  </style>\n",
              "\n",
              "      <script>\n",
              "        const buttonEl =\n",
              "          document.querySelector('#df-4d84db93-8db0-4563-8d7e-6b9c555f20b8 button.colab-df-convert');\n",
              "        buttonEl.style.display =\n",
              "          google.colab.kernel.accessAllowed ? 'block' : 'none';\n",
              "\n",
              "        async function convertToInteractive(key) {\n",
              "          const element = document.querySelector('#df-4d84db93-8db0-4563-8d7e-6b9c555f20b8');\n",
              "          const dataTable =\n",
              "            await google.colab.kernel.invokeFunction('convertToInteractive',\n",
              "                                                     [key], {});\n",
              "          if (!dataTable) return;\n",
              "\n",
              "          const docLinkHtml = 'Like what you see? Visit the ' +\n",
              "            '<a target=\"_blank\" href=https://colab.research.google.com/notebooks/data_table.ipynb>data table notebook</a>'\n",
              "            + ' to learn more about interactive tables.';\n",
              "          element.innerHTML = '';\n",
              "          dataTable['output_type'] = 'display_data';\n",
              "          await google.colab.output.renderOutput(dataTable, element);\n",
              "          const docLink = document.createElement('div');\n",
              "          docLink.innerHTML = docLinkHtml;\n",
              "          element.appendChild(docLink);\n",
              "        }\n",
              "      </script>\n",
              "    </div>\n",
              "  </div>\n",
              "  "
            ]
          },
          "metadata": {},
          "execution_count": 8
        }
      ],
      "source": [
        "# duplicate shops\n",
        "shop_duplicates_map = {0: 57, 1: 58, 11: 10, 40: 39}\n",
        "sales_train[\"shop_id\"] = sales_train[\"shop_id\"].replace(shop_duplicates_map)\n",
        "# datetime\n",
        "sales_train[\"date\"] = pd.to_datetime(sales_train[\"date\"], format=\"%d.%m.%Y\")\n",
        "# filtering on test set\n",
        "sales_train = sales_train.loc[sales_train.item_id.isin(sales_test[\"item_id\"].unique()), :]\n",
        "# drop training items with extreme or negative prices or sales counts\n",
        "sales_train = sales_train[((sales_train[\"item_price\"] > 0) & (sales_train[\"item_price\"] <= 10000)) &\n",
        "    ((sales_train[\"item_cnt_day\"] > 0) & (sales_train[\"item_cnt_day\"] <= 1000))]\n",
        "# test-based cartesian product & inds\n",
        "sales_index = pd.DataFrame(product(sales_test.item_id.unique(), sales_test.shop_id.unique(),\n",
        "    range(35)),columns = [\"item_id\", \"shop_id\", \"date_block_num\"])\n",
        "sales_index = optimize_numeric_dtypes(sales_index)\n",
        "# sales table\n",
        "sales_train[\"revenue\"] = sales_train[\"item_price\"]*sales_train[\"item_cnt_day\"]\n",
        "sales = sales_train.groupby([\"shop_id\", \"item_id\", \"date_block_num\"], as_index=False).agg(\n",
        "    total_sold=(\"item_cnt_day\", sum),  sum_revenue=(\"revenue\",sum),\n",
        "    n_transactions = (\"item_cnt_day\",pd.Series.count))\\\n",
        "        .sort_values(\"date_block_num\")\n",
        "sales = sales_index.merge(sales, how=\"left\",\n",
        "    on=[\"shop_id\", \"item_id\", \"date_block_num\"])\n",
        "sales[\"date_block_num\"].fillna(34, inplace=True)\n",
        "sales.loc[sales.date_block_num<34, [\"total_sold\", \"sum_revenue\", \"n_transactions\"]]=\\\n",
        "    sales.loc[sales.date_block_num<34, [\"total_sold\", \"sum_revenue\", \"n_transactions\"]].fillna(0)\n",
        "sales = optimize_numeric_dtypes(sales)\n",
        "del sales_train, sales_test, sales_index; gc.collect(); sales.head(3) "
      ]
    },
    {
      "cell_type": "markdown",
      "metadata": {
        "id": "tF9yKrdhuT0r"
      },
      "source": [
        "## Exploration"
      ]
    },
    {
      "cell_type": "code",
      "execution_count": 9,
      "metadata": {
        "id": "XDhgUv3TuT0s",
        "outputId": "5954f4a5-67eb-4ece-d03e-60431de146e4",
        "colab": {
          "base_uri": "https://localhost:8080/",
          "height": 0
        }
      },
      "outputs": [
        {
          "output_type": "display_data",
          "data": {
            "text/plain": [
              "<Figure size 576x288 with 1 Axes>"
            ],
            "image/png": "[encoded data removed]"
          },
          "metadata": {
            "needs_background": "light"
          }
        }
      ],
      "source": [
        "fig, ax = plt.subplots(1,1,figsize=(8,4))\n",
        "hist = sns.histplot(data=sales, x=\"total_sold\", bins=10,\n",
        "    palette=sns.color_palette(\"husl\"))\n",
        "hist.set_yscale(\"log\")"
      ]
    },
    {
      "cell_type": "code",
      "execution_count": 10,
      "metadata": {
        "id": "WXatK9ZMuT0s",
        "outputId": "a5cdf3ad-4e82-4854-f4a9-b63e7ebe70f3",
        "colab": {
          "base_uri": "https://localhost:8080/"
        }
      },
      "outputs": [
        {
          "output_type": "execute_result",
          "data": {
            "text/plain": [
              "item_id\n",
              "20949    154788.0\n",
              "2808      14016.0\n",
              "3732      13630.0\n",
              "17717     13547.0\n",
              "5822      12303.0\n",
              "Name: total_sold, dtype: float32"
            ]
          },
          "metadata": {},
          "execution_count": 10
        }
      ],
      "source": [
        "# top 5 items\n",
        "sales.groupby(\"item_id\")[\"total_sold\"].sum().\\\n",
        "    sort_values(ascending=False).head(5)"
      ]
    },
    {
      "cell_type": "code",
      "execution_count": 11,
      "metadata": {
        "id": "Ei49s4qKuT0t",
        "outputId": "1a7f2c53-b3c2-49d5-edef-d8981a333ca9",
        "colab": {
          "base_uri": "https://localhost:8080/",
          "height": 0
        }
      },
      "outputs": [
        {
          "output_type": "display_data",
          "data": {
            "text/plain": [
              "<Figure size 576x288 with 1 Axes>"
            ],
            "image/png": "[encoded data removed]"
          },
          "metadata": {
            "needs_background": "light"
          }
        }
      ],
      "source": [
        "# targets per top 5 items over time\n",
        "fig, ax = plt.subplots(1,1,figsize=(8,4))\n",
        "sns.lineplot(data=sales[sales.item_id.isin([20949,2808,3732,17717,5822])].\\\n",
        "        groupby([\"item_id\",\"date_block_num\"], as_index=False)[\"total_sold\"].sum(),\n",
        "    x=\"date_block_num\", y=\"total_sold\", hue=\"item_id\",\n",
        "    palette=sns.color_palette(\"husl\", 5));    "
      ]
    },
    {
      "cell_type": "code",
      "execution_count": 12,
      "metadata": {
        "id": "X104iT32uT0t",
        "outputId": "330e733b-ec0a-4d7f-8cbd-f21b7233f611",
        "colab": {
          "base_uri": "https://localhost:8080/"
        }
      },
      "outputs": [
        {
          "output_type": "execute_result",
          "data": {
            "text/plain": [
              "shop_id\n",
              "31    159630.0\n",
              "25    123075.0\n",
              "28     99593.0\n",
              "42     82364.0\n",
              "57     69515.0\n",
              "Name: total_sold, dtype: float32"
            ]
          },
          "metadata": {},
          "execution_count": 12
        }
      ],
      "source": [
        "# top 5 shops\n",
        "sales.groupby(\"shop_id\")[\"total_sold\"].sum().\\\n",
        "    sort_values(ascending=False).head(5)"
      ]
    },
    {
      "cell_type": "code",
      "execution_count": 13,
      "metadata": {
        "id": "xX4Q5qfUuT0t",
        "outputId": "ee10fa55-3e42-404b-9eb5-438a94e59435",
        "colab": {
          "base_uri": "https://localhost:8080/",
          "height": 0
        }
      },
      "outputs": [
        {
          "output_type": "display_data",
          "data": {
            "text/plain": [
              "<Figure size 576x288 with 1 Axes>"
            ],
            "image/png": "[encoded data removed]"
          },
          "metadata": {
            "needs_background": "light"
          }
        }
      ],
      "source": [
        "# targets per top 5 items over time\n",
        "fig, ax = plt.subplots(1,1,figsize=(8,4))\n",
        "sns.lineplot(data=sales[sales.shop_id.isin([31,25,28,42,57])].\\\n",
        "        groupby([\"shop_id\",\"date_block_num\"], as_index=False)[\"total_sold\"].sum(),\n",
        "    x=\"date_block_num\", y=\"total_sold\", hue=\"shop_id\",\n",
        "    palette=sns.color_palette(\"husl\", 5));    "
      ]
    },
    {
      "cell_type": "code",
      "execution_count": 14,
      "metadata": {
        "id": "ZLJd8VRuuT0u",
        "outputId": "05ecd4e7-df8f-41c8-e1b0-21cfa5d5c2f0",
        "colab": {
          "base_uri": "https://localhost:8080/"
        }
      },
      "outputs": [
        {
          "output_type": "execute_result",
          "data": {
            "text/plain": [
              "item_category_id\n",
              "30    221393.0\n",
              "55    179639.0\n",
              "40    156374.0\n",
              "71    154788.0\n",
              "19    110244.0\n",
              "Name: total_sold, dtype: float32"
            ]
          },
          "metadata": {},
          "execution_count": 14
        }
      ],
      "source": [
        "# top 5 categories\n",
        "sales.merge(items).groupby(\"item_category_id\")[\"total_sold\"].sum().\\\n",
        "    sort_values(ascending=False).head(5)"
      ]
    },
    {
      "cell_type": "code",
      "execution_count": 15,
      "metadata": {
        "id": "5QYLdcEDuT0u",
        "outputId": "be47a651-5dbf-434b-9f16-828f56920ce3",
        "colab": {
          "base_uri": "https://localhost:8080/",
          "height": 0
        }
      },
      "outputs": [
        {
          "output_type": "display_data",
          "data": {
            "text/plain": [
              "<Figure size 576x288 with 1 Axes>"
            ],
            "image/png": "[encoded data removed]"
          },
          "metadata": {
            "needs_background": "light"
          }
        }
      ],
      "source": [
        "# price vs sales, demand almost inelastic\n",
        "df = sales[sales.item_id.isin([20949,2808,3732,17717,5822])].\\\n",
        "        groupby([\"item_id\", \"date_block_num\"], as_index=False).\\\n",
        "            agg(sum_revenue=(\"sum_revenue\",sum),\n",
        "            total_sold=(\"total_sold\",sum))\n",
        "df[\"average_price\"] = df.sum_revenue/df.total_sold\n",
        "fig, ax = plt.subplots(1,1,figsize=(8,4))\n",
        "scatter = sns.scatterplot(data=df, x=\"total_sold\", y=\"average_price\",\n",
        "    hue=\"item_id\", palette=sns.color_palette(\"husl\", 5));\n",
        "scatter.set_yscale(\"log\"); scatter.set_xscale(\"log\");"
      ]
    },
    {
      "cell_type": "markdown",
      "metadata": {
        "id": "lQ5WgMk1uT0v"
      },
      "source": [
        "## Feature engineering"
      ]
    },
    {
      "cell_type": "code",
      "execution_count": 16,
      "metadata": {
        "id": "6xEBq60fuT0v",
        "outputId": "30648176-94e8-40e2-db73-a0886b17f461",
        "colab": {
          "base_uri": "https://localhost:8080/",
          "height": 230
        }
      },
      "outputs": [
        {
          "output_type": "stream",
          "name": "stderr",
          "text": [
            "/usr/local/lib/python3.7/dist-packages/ipykernel_launcher.py:21: SettingWithCopyWarning: \n",
            "A value is trying to be set on a copy of a slice from a DataFrame.\n",
            "Try using .loc[row_indexer,col_indexer] = value instead\n",
            "\n",
            "See the caveats in the documentation: https://pandas.pydata.org/pandas-docs/stable/user_guide/indexing.html#returning-a-view-versus-a-copy\n"
          ]
        },
        {
          "output_type": "execute_result",
          "data": {
            "text/plain": [
              "   item_id                                          item_name  \\\n",
              "0        0                       ВО ВЛАСТИ НАВАЖДЕНИЯ ПЛАСТ D   \n",
              "1        1  ABBYY FineReader 12 Professional Edition Full ...   \n",
              "2        2                                В ЛУЧАХ СЛАВЫ UNV D   \n",
              "\n",
              "   item_category_id  item_sim_id  item_name_len  \n",
              "0                40            0             29  \n",
              "1                76            1             64  \n",
              "2                40            2             19  "
            ],
            "text/html": [
              "\n",
              "  <div id=\"df-c6db1604-53f5-4a6b-a209-39fa6bd6128f\">\n",
              "    <div class=\"colab-df-container\">\n",
              "      <div>\n",
              "<style scoped>\n",
              "    .dataframe tbody tr th:only-of-type {\n",
              "        vertical-align: middle;\n",
              "    }\n",
              "\n",
              "    .dataframe tbody tr th {\n",
              "        vertical-align: top;\n",
              "    }\n",
              "\n",
              "    .dataframe thead th {\n",
              "        text-align: right;\n",
              "    }\n",
              "</style>\n",
              "<table border=\"1\" class=\"dataframe\">\n",
              "  <thead>\n",
              "    <tr style=\"text-align: right;\">\n",
              "      <th></th>\n",
              "      <th>item_id</th>\n",
              "      <th>item_name</th>\n",
              "      <th>item_category_id</th>\n",
              "      <th>item_sim_id</th>\n",
              "      <th>item_name_len</th>\n",
              "    </tr>\n",
              "  </thead>\n",
              "  <tbody>\n",
              "    <tr>\n",
              "      <th>0</th>\n",
              "      <td>0</td>\n",
              "      <td>ВО ВЛАСТИ НАВАЖДЕНИЯ ПЛАСТ D</td>\n",
              "      <td>40</td>\n",
              "      <td>0</td>\n",
              "      <td>29</td>\n",
              "    </tr>\n",
              "    <tr>\n",
              "      <th>1</th>\n",
              "      <td>1</td>\n",
              "      <td>ABBYY FineReader 12 Professional Edition Full ...</td>\n",
              "      <td>76</td>\n",
              "      <td>1</td>\n",
              "      <td>64</td>\n",
              "    </tr>\n",
              "    <tr>\n",
              "      <th>2</th>\n",
              "      <td>2</td>\n",
              "      <td>В ЛУЧАХ СЛАВЫ UNV D</td>\n",
              "      <td>40</td>\n",
              "      <td>2</td>\n",
              "      <td>19</td>\n",
              "    </tr>\n",
              "  </tbody>\n",
              "</table>\n",
              "</div>\n",
              "      <button class=\"colab-df-convert\" onclick=\"convertToInteractive('df-c6db1604-53f5-4a6b-a209-39fa6bd6128f')\"\n",
              "              title=\"Convert this dataframe to an interactive table.\"\n",
              "              style=\"display:none;\">\n",
              "        \n",
              "  <svg xmlns=\"http://www.w3.org/2000/svg\" height=\"24px\"viewBox=\"0 0 24 24\"\n",
              "       width=\"24px\">\n",
              "    <path d=\"M0 0h24v24H0V0z\" fill=\"none\"/>\n",
              "    <path d=\"M18.56 5.44l.94 2.06.94-2.06 2.06-.94-2.06-.94-.94-2.06-.94 2.06-2.06.94zm-11 1L8.5 8.5l.94-2.06 2.06-.94-2.06-.94L8.5 2.5l-.94 2.06-2.06.94zm10 10l.94 2.06.94-2.06 2.06-.94-2.06-.94-.94-2.06-.94 2.06-2.06.94z\"/><path d=\"M17.41 7.96l-1.37-1.37c-.4-.4-.92-.59-1.43-.59-.52 0-1.04.2-1.43.59L10.3 9.45l-7.72 7.72c-.78.78-.78 2.05 0 2.83L4 21.41c.39.39.9.59 1.41.59.51 0 1.02-.2 1.41-.59l7.78-7.78 2.81-2.81c.8-.78.8-2.07 0-2.86zM5.41 20L4 18.59l7.72-7.72 1.47 1.35L5.41 20z\"/>\n",
              "  </svg>\n",
              "      </button>\n",
              "      \n",
              "  <style>\n",
              "    .colab-df-container {\n",
              "      display:flex;\n",
              "      flex-wrap:wrap;\n",
              "      gap: 12px;\n",
              "    }\n",
              "\n",
              "    .colab-df-convert {\n",
              "      background-color: #E8F0FE;\n",
              "      border: none;\n",
              "      border-radius: 50%;\n",
              "      cursor: pointer;\n",
              "      display: none;\n",
              "      fill: #1967D2;\n",
              "      height: 32px;\n",
              "      padding: 0 0 0 0;\n",
              "      width: 32px;\n",
              "    }\n",
              "\n",
              "    .colab-df-convert:hover {\n",
              "      background-color: #E2EBFA;\n",
              "      box-shadow: 0px 1px 2px rgba(60, 64, 67, 0.3), 0px 1px 3px 1px rgba(60, 64, 67, 0.15);\n",
              "      fill: #174EA6;\n",
              "    }\n",
              "\n",
              "    [theme=dark] .colab-df-convert {\n",
              "      background-color: #3B4455;\n",
              "      fill: #D2E3FC;\n",
              "    }\n",
              "\n",
              "    [theme=dark] .colab-df-convert:hover {\n",
              "      background-color: #434B5C;\n",
              "      box-shadow: 0px 1px 3px 1px rgba(0, 0, 0, 0.15);\n",
              "      filter: drop-shadow(0px 1px 2px rgba(0, 0, 0, 0.3));\n",
              "      fill: #FFFFFF;\n",
              "    }\n",
              "  </style>\n",
              "\n",
              "      <script>\n",
              "        const buttonEl =\n",
              "          document.querySelector('#df-c6db1604-53f5-4a6b-a209-39fa6bd6128f button.colab-df-convert');\n",
              "        buttonEl.style.display =\n",
              "          google.colab.kernel.accessAllowed ? 'block' : 'none';\n",
              "\n",
              "        async function convertToInteractive(key) {\n",
              "          const element = document.querySelector('#df-c6db1604-53f5-4a6b-a209-39fa6bd6128f');\n",
              "          const dataTable =\n",
              "            await google.colab.kernel.invokeFunction('convertToInteractive',\n",
              "                                                     [key], {});\n",
              "          if (!dataTable) return;\n",
              "\n",
              "          const docLinkHtml = 'Like what you see? Visit the ' +\n",
              "            '<a target=\"_blank\" href=https://colab.research.google.com/notebooks/data_table.ipynb>data table notebook</a>'\n",
              "            + ' to learn more about interactive tables.';\n",
              "          element.innerHTML = '';\n",
              "          dataTable['output_type'] = 'display_data';\n",
              "          await google.colab.output.renderOutput(dataTable, element);\n",
              "          const docLink = document.createElement('div');\n",
              "          docLink.innerHTML = docLinkHtml;\n",
              "          element.appendChild(docLink);\n",
              "        }\n",
              "      </script>\n",
              "    </div>\n",
              "  </div>\n",
              "  "
            ]
          },
          "metadata": {},
          "execution_count": 16
        }
      ],
      "source": [
        "# item groups based on adjacency and label similarity\n",
        "items.item_name = items.item_name.apply(lambda x: re.sub(\"[^A-ZА-Яa-zа-я0-9 ]\",\"\", x))\n",
        "items.item_name = items.item_name.apply(lambda x: re.sub(\"\\\\s+\",\" \", x))\n",
        "item_names = pd.concat([items.item_id, items.item_name,\n",
        "    items.item_id.shift().fillna(0), items.item_name.shift().fillna(\"\")], axis=1)\n",
        "item_names.columns = [\"item_id\", \"item_name\", \"previous_item_id\", \"previous_item_name\"]\n",
        "item_names[\"similarity\"] = item_names.apply(\\\n",
        "     lambda x: fuzz.ratio(x[\"item_name\"],x[\"previous_item_name\"]), axis=1)\n",
        "item_names[\"group_start\"] = item_names[\"similarity\"] <= 75\n",
        "item_group_map = item_names.loc[item_names.group_start, [\"item_id\"]]\n",
        "item_group_map.columns = [\"group_start\"]\n",
        "item_group_map[\"group_end\"] = item_group_map[\"group_start\"].shift(-1).\\\n",
        "    fillna(item_group_map[\"group_start\"].max()+1).astype(\"int\")\n",
        "item_group_map[\"item_sim_id\"] = list(range(len(item_group_map)))\n",
        "# remap\n",
        "items = items.merge(item_group_map, how=\"left\",\n",
        "    left_on=[\"item_id\"], right_on=[\"group_start\"])\n",
        "items = items.sort_values(\"item_id\")\n",
        "items[\"item_sim_id\"] = items[\"item_sim_id\"].fillna(method=\"ffill\").astype(\"int\")\n",
        "del item_names, item_group_map; gc.collect()\n",
        "items = items[[\"item_id\",\"item_name\", \"item_category_id\", \"item_sim_id\"]]\n",
        "# name length\n",
        "items[\"item_name_len\"] = items.item_name.apply(len).astype(\"int16\")\n",
        "items.head(3)"
      ]
    },
    {
      "cell_type": "code",
      "execution_count": 17,
      "metadata": {
        "id": "lGT4N-eJuT0v",
        "outputId": "a7434f75-f0cf-4be6-d851-b48524b09caa",
        "colab": {
          "base_uri": "https://localhost:8080/",
          "height": 248
        }
      },
      "outputs": [
        {
          "output_type": "stream",
          "name": "stderr",
          "text": [
            "/usr/local/lib/python3.7/dist-packages/pandas/core/frame.py:3641: SettingWithCopyWarning: \n",
            "A value is trying to be set on a copy of a slice from a DataFrame.\n",
            "Try using .loc[row_indexer,col_indexer] = value instead\n",
            "\n",
            "See the caveats in the documentation: https://pandas.pydata.org/pandas-docs/stable/user_guide/indexing.html#returning-a-view-versus-a-copy\n",
            "  self[k1] = value[k2]\n"
          ]
        },
        {
          "output_type": "execute_result",
          "data": {
            "text/plain": [
              "   item_id  shop_id  date_block_num  total_sold  sum_revenue  n_transactions  \\\n",
              "0     5037        5               0         0.0          0.0             0.0   \n",
              "1     5037        5               1         0.0          0.0             0.0   \n",
              "2     5037        5               2         0.0          0.0             0.0   \n",
              "\n",
              "   item_category_id  item_sim_id  item_name_len  parent_cat  child_cat  \n",
              "0                19         3286             27           5         13  \n",
              "1                19         3286             27           5         13  \n",
              "2                19         3286             27           5         13  "
            ],
            "text/html": [
              "\n",
              "  <div id=\"df-9f1e489b-8956-468b-9002-d970162d5a1e\">\n",
              "    <div class=\"colab-df-container\">\n",
              "      <div>\n",
              "<style scoped>\n",
              "    .dataframe tbody tr th:only-of-type {\n",
              "        vertical-align: middle;\n",
              "    }\n",
              "\n",
              "    .dataframe tbody tr th {\n",
              "        vertical-align: top;\n",
              "    }\n",
              "\n",
              "    .dataframe thead th {\n",
              "        text-align: right;\n",
              "    }\n",
              "</style>\n",
              "<table border=\"1\" class=\"dataframe\">\n",
              "  <thead>\n",
              "    <tr style=\"text-align: right;\">\n",
              "      <th></th>\n",
              "      <th>item_id</th>\n",
              "      <th>shop_id</th>\n",
              "      <th>date_block_num</th>\n",
              "      <th>total_sold</th>\n",
              "      <th>sum_revenue</th>\n",
              "      <th>n_transactions</th>\n",
              "      <th>item_category_id</th>\n",
              "      <th>item_sim_id</th>\n",
              "      <th>item_name_len</th>\n",
              "      <th>parent_cat</th>\n",
              "      <th>child_cat</th>\n",
              "    </tr>\n",
              "  </thead>\n",
              "  <tbody>\n",
              "    <tr>\n",
              "      <th>0</th>\n",
              "      <td>5037</td>\n",
              "      <td>5</td>\n",
              "      <td>0</td>\n",
              "      <td>0.0</td>\n",
              "      <td>0.0</td>\n",
              "      <td>0.0</td>\n",
              "      <td>19</td>\n",
              "      <td>3286</td>\n",
              "      <td>27</td>\n",
              "      <td>5</td>\n",
              "      <td>13</td>\n",
              "    </tr>\n",
              "    <tr>\n",
              "      <th>1</th>\n",
              "      <td>5037</td>\n",
              "      <td>5</td>\n",
              "      <td>1</td>\n",
              "      <td>0.0</td>\n",
              "      <td>0.0</td>\n",
              "      <td>0.0</td>\n",
              "      <td>19</td>\n",
              "      <td>3286</td>\n",
              "      <td>27</td>\n",
              "      <td>5</td>\n",
              "      <td>13</td>\n",
              "    </tr>\n",
              "    <tr>\n",
              "      <th>2</th>\n",
              "      <td>5037</td>\n",
              "      <td>5</td>\n",
              "      <td>2</td>\n",
              "      <td>0.0</td>\n",
              "      <td>0.0</td>\n",
              "      <td>0.0</td>\n",
              "      <td>19</td>\n",
              "      <td>3286</td>\n",
              "      <td>27</td>\n",
              "      <td>5</td>\n",
              "      <td>13</td>\n",
              "    </tr>\n",
              "  </tbody>\n",
              "</table>\n",
              "</div>\n",
              "      <button class=\"colab-df-convert\" onclick=\"convertToInteractive('df-9f1e489b-8956-468b-9002-d970162d5a1e')\"\n",
              "              title=\"Convert this dataframe to an interactive table.\"\n",
              "              style=\"display:none;\">\n",
              "        \n",
              "  <svg xmlns=\"http://www.w3.org/2000/svg\" height=\"24px\"viewBox=\"0 0 24 24\"\n",
              "       width=\"24px\">\n",
              "    <path d=\"M0 0h24v24H0V0z\" fill=\"none\"/>\n",
              "    <path d=\"M18.56 5.44l.94 2.06.94-2.06 2.06-.94-2.06-.94-.94-2.06-.94 2.06-2.06.94zm-11 1L8.5 8.5l.94-2.06 2.06-.94-2.06-.94L8.5 2.5l-.94 2.06-2.06.94zm10 10l.94 2.06.94-2.06 2.06-.94-2.06-.94-.94-2.06-.94 2.06-2.06.94z\"/><path d=\"M17.41 7.96l-1.37-1.37c-.4-.4-.92-.59-1.43-.59-.52 0-1.04.2-1.43.59L10.3 9.45l-7.72 7.72c-.78.78-.78 2.05 0 2.83L4 21.41c.39.39.9.59 1.41.59.51 0 1.02-.2 1.41-.59l7.78-7.78 2.81-2.81c.8-.78.8-2.07 0-2.86zM5.41 20L4 18.59l7.72-7.72 1.47 1.35L5.41 20z\"/>\n",
              "  </svg>\n",
              "      </button>\n",
              "      \n",
              "  <style>\n",
              "    .colab-df-container {\n",
              "      display:flex;\n",
              "      flex-wrap:wrap;\n",
              "      gap: 12px;\n",
              "    }\n",
              "\n",
              "    .colab-df-convert {\n",
              "      background-color: #E8F0FE;\n",
              "      border: none;\n",
              "      border-radius: 50%;\n",
              "      cursor: pointer;\n",
              "      display: none;\n",
              "      fill: #1967D2;\n",
              "      height: 32px;\n",
              "      padding: 0 0 0 0;\n",
              "      width: 32px;\n",
              "    }\n",
              "\n",
              "    .colab-df-convert:hover {\n",
              "      background-color: #E2EBFA;\n",
              "      box-shadow: 0px 1px 2px rgba(60, 64, 67, 0.3), 0px 1px 3px 1px rgba(60, 64, 67, 0.15);\n",
              "      fill: #174EA6;\n",
              "    }\n",
              "\n",
              "    [theme=dark] .colab-df-convert {\n",
              "      background-color: #3B4455;\n",
              "      fill: #D2E3FC;\n",
              "    }\n",
              "\n",
              "    [theme=dark] .colab-df-convert:hover {\n",
              "      background-color: #434B5C;\n",
              "      box-shadow: 0px 1px 3px 1px rgba(0, 0, 0, 0.15);\n",
              "      filter: drop-shadow(0px 1px 2px rgba(0, 0, 0, 0.3));\n",
              "      fill: #FFFFFF;\n",
              "    }\n",
              "  </style>\n",
              "\n",
              "      <script>\n",
              "        const buttonEl =\n",
              "          document.querySelector('#df-9f1e489b-8956-468b-9002-d970162d5a1e button.colab-df-convert');\n",
              "        buttonEl.style.display =\n",
              "          google.colab.kernel.accessAllowed ? 'block' : 'none';\n",
              "\n",
              "        async function convertToInteractive(key) {\n",
              "          const element = document.querySelector('#df-9f1e489b-8956-468b-9002-d970162d5a1e');\n",
              "          const dataTable =\n",
              "            await google.colab.kernel.invokeFunction('convertToInteractive',\n",
              "                                                     [key], {});\n",
              "          if (!dataTable) return;\n",
              "\n",
              "          const docLinkHtml = 'Like what you see? Visit the ' +\n",
              "            '<a target=\"_blank\" href=https://colab.research.google.com/notebooks/data_table.ipynb>data table notebook</a>'\n",
              "            + ' to learn more about interactive tables.';\n",
              "          element.innerHTML = '';\n",
              "          dataTable['output_type'] = 'display_data';\n",
              "          await google.colab.output.renderOutput(dataTable, element);\n",
              "          const docLink = document.createElement('div');\n",
              "          docLink.innerHTML = docLinkHtml;\n",
              "          element.appendChild(docLink);\n",
              "        }\n",
              "      </script>\n",
              "    </div>\n",
              "  </div>\n",
              "  "
            ]
          },
          "metadata": {},
          "execution_count": 17
        }
      ],
      "source": [
        "# categories\n",
        "cat_splits = item_categories.item_category_name.apply(lambda x: x.split(\" - \"))\n",
        "item_categories = pd.concat([item_categories,\n",
        "    pd.DataFrame([c if len(c)>1 else [c[0],\"\"] for c in cat_splits],\n",
        "        columns=[\"parent_cat\",\"child_cat\"])], axis=1)\n",
        "items = items.merge(item_categories, how=\"inner\")\n",
        "# return categorical encoding\n",
        "items = optimize_categories(items[[\"item_id\", \"item_category_id\", \"item_sim_id\",\n",
        "    \"item_name_len\", \"parent_cat\", \"child_cat\"]])\n",
        "# add categories\n",
        "sales = sales.merge(items, how=\"inner\", on=\"item_id\")\n",
        "del item_categories, items; gc.collect(); sales.head(3)"
      ]
    },
    {
      "cell_type": "code",
      "execution_count": 18,
      "metadata": {
        "id": "g3SZ_6AWuT0w",
        "outputId": "96db3021-33b7-455e-fdbe-8754a7697bd5",
        "colab": {
          "base_uri": "https://localhost:8080/",
          "height": 143
        }
      },
      "outputs": [
        {
          "output_type": "execute_result",
          "data": {
            "text/plain": [
              "         item_id  shop_id  date_block_num  total_sold  sum_revenue  \\\n",
              "7496997      969       44              34         NaN          NaN   \n",
              "7496998      969       39              34         NaN          NaN   \n",
              "7496999      969       45              34         NaN          NaN   \n",
              "\n",
              "         n_transactions  item_category_id  item_sim_id  item_name_len  \\\n",
              "7496997             NaN                37          646             20   \n",
              "7496998             NaN                37          646             20   \n",
              "7496999             NaN                37          646             20   \n",
              "\n",
              "         parent_cat  child_cat  year  month  total_days  working_days  \\\n",
              "7496997          11          2  2015     11          30            21   \n",
              "7496998          11          2  2015     11          30            21   \n",
              "7496999          11          2  2015     11          30            21   \n",
              "\n",
              "         weekend_days  \n",
              "7496997             9  \n",
              "7496998             9  \n",
              "7496999             9  "
            ],
            "text/html": [
              "\n",
              "  <div id=\"df-442fe022-7af2-4bb3-b974-07f6b824f467\">\n",
              "    <div class=\"colab-df-container\">\n",
              "      <div>\n",
              "<style scoped>\n",
              "    .dataframe tbody tr th:only-of-type {\n",
              "        vertical-align: middle;\n",
              "    }\n",
              "\n",
              "    .dataframe tbody tr th {\n",
              "        vertical-align: top;\n",
              "    }\n",
              "\n",
              "    .dataframe thead th {\n",
              "        text-align: right;\n",
              "    }\n",
              "</style>\n",
              "<table border=\"1\" class=\"dataframe\">\n",
              "  <thead>\n",
              "    <tr style=\"text-align: right;\">\n",
              "      <th></th>\n",
              "      <th>item_id</th>\n",
              "      <th>shop_id</th>\n",
              "      <th>date_block_num</th>\n",
              "      <th>total_sold</th>\n",
              "      <th>sum_revenue</th>\n",
              "      <th>n_transactions</th>\n",
              "      <th>item_category_id</th>\n",
              "      <th>item_sim_id</th>\n",
              "      <th>item_name_len</th>\n",
              "      <th>parent_cat</th>\n",
              "      <th>child_cat</th>\n",
              "      <th>year</th>\n",
              "      <th>month</th>\n",
              "      <th>total_days</th>\n",
              "      <th>working_days</th>\n",
              "      <th>weekend_days</th>\n",
              "    </tr>\n",
              "  </thead>\n",
              "  <tbody>\n",
              "    <tr>\n",
              "      <th>7496997</th>\n",
              "      <td>969</td>\n",
              "      <td>44</td>\n",
              "      <td>34</td>\n",
              "      <td>NaN</td>\n",
              "      <td>NaN</td>\n",
              "      <td>NaN</td>\n",
              "      <td>37</td>\n",
              "      <td>646</td>\n",
              "      <td>20</td>\n",
              "      <td>11</td>\n",
              "      <td>2</td>\n",
              "      <td>2015</td>\n",
              "      <td>11</td>\n",
              "      <td>30</td>\n",
              "      <td>21</td>\n",
              "      <td>9</td>\n",
              "    </tr>\n",
              "    <tr>\n",
              "      <th>7496998</th>\n",
              "      <td>969</td>\n",
              "      <td>39</td>\n",
              "      <td>34</td>\n",
              "      <td>NaN</td>\n",
              "      <td>NaN</td>\n",
              "      <td>NaN</td>\n",
              "      <td>37</td>\n",
              "      <td>646</td>\n",
              "      <td>20</td>\n",
              "      <td>11</td>\n",
              "      <td>2</td>\n",
              "      <td>2015</td>\n",
              "      <td>11</td>\n",
              "      <td>30</td>\n",
              "      <td>21</td>\n",
              "      <td>9</td>\n",
              "    </tr>\n",
              "    <tr>\n",
              "      <th>7496999</th>\n",
              "      <td>969</td>\n",
              "      <td>45</td>\n",
              "      <td>34</td>\n",
              "      <td>NaN</td>\n",
              "      <td>NaN</td>\n",
              "      <td>NaN</td>\n",
              "      <td>37</td>\n",
              "      <td>646</td>\n",
              "      <td>20</td>\n",
              "      <td>11</td>\n",
              "      <td>2</td>\n",
              "      <td>2015</td>\n",
              "      <td>11</td>\n",
              "      <td>30</td>\n",
              "      <td>21</td>\n",
              "      <td>9</td>\n",
              "    </tr>\n",
              "  </tbody>\n",
              "</table>\n",
              "</div>\n",
              "      <button class=\"colab-df-convert\" onclick=\"convertToInteractive('df-442fe022-7af2-4bb3-b974-07f6b824f467')\"\n",
              "              title=\"Convert this dataframe to an interactive table.\"\n",
              "              style=\"display:none;\">\n",
              "        \n",
              "  <svg xmlns=\"http://www.w3.org/2000/svg\" height=\"24px\"viewBox=\"0 0 24 24\"\n",
              "       width=\"24px\">\n",
              "    <path d=\"M0 0h24v24H0V0z\" fill=\"none\"/>\n",
              "    <path d=\"M18.56 5.44l.94 2.06.94-2.06 2.06-.94-2.06-.94-.94-2.06-.94 2.06-2.06.94zm-11 1L8.5 8.5l.94-2.06 2.06-.94-2.06-.94L8.5 2.5l-.94 2.06-2.06.94zm10 10l.94 2.06.94-2.06 2.06-.94-2.06-.94-.94-2.06-.94 2.06-2.06.94z\"/><path d=\"M17.41 7.96l-1.37-1.37c-.4-.4-.92-.59-1.43-.59-.52 0-1.04.2-1.43.59L10.3 9.45l-7.72 7.72c-.78.78-.78 2.05 0 2.83L4 21.41c.39.39.9.59 1.41.59.51 0 1.02-.2 1.41-.59l7.78-7.78 2.81-2.81c.8-.78.8-2.07 0-2.86zM5.41 20L4 18.59l7.72-7.72 1.47 1.35L5.41 20z\"/>\n",
              "  </svg>\n",
              "      </button>\n",
              "      \n",
              "  <style>\n",
              "    .colab-df-container {\n",
              "      display:flex;\n",
              "      flex-wrap:wrap;\n",
              "      gap: 12px;\n",
              "    }\n",
              "\n",
              "    .colab-df-convert {\n",
              "      background-color: #E8F0FE;\n",
              "      border: none;\n",
              "      border-radius: 50%;\n",
              "      cursor: pointer;\n",
              "      display: none;\n",
              "      fill: #1967D2;\n",
              "      height: 32px;\n",
              "      padding: 0 0 0 0;\n",
              "      width: 32px;\n",
              "    }\n",
              "\n",
              "    .colab-df-convert:hover {\n",
              "      background-color: #E2EBFA;\n",
              "      box-shadow: 0px 1px 2px rgba(60, 64, 67, 0.3), 0px 1px 3px 1px rgba(60, 64, 67, 0.15);\n",
              "      fill: #174EA6;\n",
              "    }\n",
              "\n",
              "    [theme=dark] .colab-df-convert {\n",
              "      background-color: #3B4455;\n",
              "      fill: #D2E3FC;\n",
              "    }\n",
              "\n",
              "    [theme=dark] .colab-df-convert:hover {\n",
              "      background-color: #434B5C;\n",
              "      box-shadow: 0px 1px 3px 1px rgba(0, 0, 0, 0.15);\n",
              "      filter: drop-shadow(0px 1px 2px rgba(0, 0, 0, 0.3));\n",
              "      fill: #FFFFFF;\n",
              "    }\n",
              "  </style>\n",
              "\n",
              "      <script>\n",
              "        const buttonEl =\n",
              "          document.querySelector('#df-442fe022-7af2-4bb3-b974-07f6b824f467 button.colab-df-convert');\n",
              "        buttonEl.style.display =\n",
              "          google.colab.kernel.accessAllowed ? 'block' : 'none';\n",
              "\n",
              "        async function convertToInteractive(key) {\n",
              "          const element = document.querySelector('#df-442fe022-7af2-4bb3-b974-07f6b824f467');\n",
              "          const dataTable =\n",
              "            await google.colab.kernel.invokeFunction('convertToInteractive',\n",
              "                                                     [key], {});\n",
              "          if (!dataTable) return;\n",
              "\n",
              "          const docLinkHtml = 'Like what you see? Visit the ' +\n",
              "            '<a target=\"_blank\" href=https://colab.research.google.com/notebooks/data_table.ipynb>data table notebook</a>'\n",
              "            + ' to learn more about interactive tables.';\n",
              "          element.innerHTML = '';\n",
              "          dataTable['output_type'] = 'display_data';\n",
              "          await google.colab.output.renderOutput(dataTable, element);\n",
              "          const docLink = document.createElement('div');\n",
              "          docLink.innerHTML = docLinkHtml;\n",
              "          element.appendChild(docLink);\n",
              "        }\n",
              "      </script>\n",
              "    </div>\n",
              "  </div>\n",
              "  "
            ]
          },
          "metadata": {},
          "execution_count": 18
        }
      ],
      "source": [
        "# date features\n",
        "def working_days_count(from_date, to_date=None):\n",
        "    import pandas as pd\n",
        "    if to_date is None:\n",
        "        to_date=from_date+pd.DateOffset(months=1)\n",
        "    temp_date=from_date\n",
        "    cnt=0\n",
        "    while temp_date<to_date:\n",
        "        if temp_date.weekday()<5:\n",
        "            cnt+=1\n",
        "        temp_date+=pd.DateOffset(days=1)\n",
        "    return ((to_date-from_date).days, cnt, (to_date-from_date).days-cnt)\n",
        "dates = pd.DataFrame(sales.date_block_num.unique(), columns=[\"date_block_num\"])\n",
        "dates[\"date\"] = dates[\"date_block_num\"].apply(lambda x: pd.to_datetime(\"01/01/2013\")+\\\n",
        "    pd.DateOffset(months=x))\n",
        "dates[\"year\"] = dates.date.dt.year\n",
        "dates[\"month\"] = dates.date.dt.month\n",
        "dates = optimize_numeric_dtypes(pd.concat([dates, pd.DataFrame.from_records(\n",
        "        dates[\"date\"].apply(lambda x: working_days_count(x)),\n",
        "    columns=[\"total_days\", \"working_days\", \"weekend_days\"])], axis=1))\n",
        "sales = sales.merge(dates[[\"date_block_num\",\"year\",\"month\",\"total_days\", \"working_days\",\n",
        "    \"weekend_days\"]], how=\"inner\", on=\"date_block_num\")\n",
        "del dates; gc.collect(); sales.tail(3)    "
      ]
    },
    {
      "cell_type": "code",
      "execution_count": 19,
      "metadata": {
        "id": "yb-CfA1puT0w",
        "outputId": "6e17f90a-79d8-4580-ee70-aa281ab09c1b",
        "colab": {
          "base_uri": "https://localhost:8080/",
          "height": 292
        }
      },
      "outputs": [
        {
          "output_type": "stream",
          "name": "stderr",
          "text": [
            "/usr/local/lib/python3.7/dist-packages/pandas/core/frame.py:3641: SettingWithCopyWarning: \n",
            "A value is trying to be set on a copy of a slice from a DataFrame.\n",
            "Try using .loc[row_indexer,col_indexer] = value instead\n",
            "\n",
            "See the caveats in the documentation: https://pandas.pydata.org/pandas-docs/stable/user_guide/indexing.html#returning-a-view-versus-a-copy\n",
            "  self[k1] = value[k2]\n"
          ]
        },
        {
          "output_type": "execute_result",
          "data": {
            "text/plain": [
              "         item_id  shop_id  date_block_num  total_sold  sum_revenue  \\\n",
              "7496997      969       44              34         NaN          NaN   \n",
              "7496998      969       39              34         NaN          NaN   \n",
              "7496999      969       45              34         NaN          NaN   \n",
              "\n",
              "         n_transactions  item_category_id  item_sim_id  item_name_len  \\\n",
              "7496997             NaN                37          646             20   \n",
              "7496998             NaN                37          646             20   \n",
              "7496999             NaN                37          646             20   \n",
              "\n",
              "         parent_cat  child_cat  year  month  total_days  working_days  \\\n",
              "7496997          11          2  2015     11          30            21   \n",
              "7496998          11          2  2015     11          30            21   \n",
              "7496999          11          2  2015     11          30            21   \n",
              "\n",
              "         weekend_days  price_change  price_perc  \n",
              "7496997             9           NaN         NaN  \n",
              "7496998             9           NaN         NaN  \n",
              "7496999             9           NaN         NaN  "
            ],
            "text/html": [
              "\n",
              "  <div id=\"df-c056e342-daa5-4c86-b0a9-828aadc5a9c8\">\n",
              "    <div class=\"colab-df-container\">\n",
              "      <div>\n",
              "<style scoped>\n",
              "    .dataframe tbody tr th:only-of-type {\n",
              "        vertical-align: middle;\n",
              "    }\n",
              "\n",
              "    .dataframe tbody tr th {\n",
              "        vertical-align: top;\n",
              "    }\n",
              "\n",
              "    .dataframe thead th {\n",
              "        text-align: right;\n",
              "    }\n",
              "</style>\n",
              "<table border=\"1\" class=\"dataframe\">\n",
              "  <thead>\n",
              "    <tr style=\"text-align: right;\">\n",
              "      <th></th>\n",
              "      <th>item_id</th>\n",
              "      <th>shop_id</th>\n",
              "      <th>date_block_num</th>\n",
              "      <th>total_sold</th>\n",
              "      <th>sum_revenue</th>\n",
              "      <th>n_transactions</th>\n",
              "      <th>item_category_id</th>\n",
              "      <th>item_sim_id</th>\n",
              "      <th>item_name_len</th>\n",
              "      <th>parent_cat</th>\n",
              "      <th>child_cat</th>\n",
              "      <th>year</th>\n",
              "      <th>month</th>\n",
              "      <th>total_days</th>\n",
              "      <th>working_days</th>\n",
              "      <th>weekend_days</th>\n",
              "      <th>price_change</th>\n",
              "      <th>price_perc</th>\n",
              "    </tr>\n",
              "  </thead>\n",
              "  <tbody>\n",
              "    <tr>\n",
              "      <th>7496997</th>\n",
              "      <td>969</td>\n",
              "      <td>44</td>\n",
              "      <td>34</td>\n",
              "      <td>NaN</td>\n",
              "      <td>NaN</td>\n",
              "      <td>NaN</td>\n",
              "      <td>37</td>\n",
              "      <td>646</td>\n",
              "      <td>20</td>\n",
              "      <td>11</td>\n",
              "      <td>2</td>\n",
              "      <td>2015</td>\n",
              "      <td>11</td>\n",
              "      <td>30</td>\n",
              "      <td>21</td>\n",
              "      <td>9</td>\n",
              "      <td>NaN</td>\n",
              "      <td>NaN</td>\n",
              "    </tr>\n",
              "    <tr>\n",
              "      <th>7496998</th>\n",
              "      <td>969</td>\n",
              "      <td>39</td>\n",
              "      <td>34</td>\n",
              "      <td>NaN</td>\n",
              "      <td>NaN</td>\n",
              "      <td>NaN</td>\n",
              "      <td>37</td>\n",
              "      <td>646</td>\n",
              "      <td>20</td>\n",
              "      <td>11</td>\n",
              "      <td>2</td>\n",
              "      <td>2015</td>\n",
              "      <td>11</td>\n",
              "      <td>30</td>\n",
              "      <td>21</td>\n",
              "      <td>9</td>\n",
              "      <td>NaN</td>\n",
              "      <td>NaN</td>\n",
              "    </tr>\n",
              "    <tr>\n",
              "      <th>7496999</th>\n",
              "      <td>969</td>\n",
              "      <td>45</td>\n",
              "      <td>34</td>\n",
              "      <td>NaN</td>\n",
              "      <td>NaN</td>\n",
              "      <td>NaN</td>\n",
              "      <td>37</td>\n",
              "      <td>646</td>\n",
              "      <td>20</td>\n",
              "      <td>11</td>\n",
              "      <td>2</td>\n",
              "      <td>2015</td>\n",
              "      <td>11</td>\n",
              "      <td>30</td>\n",
              "      <td>21</td>\n",
              "      <td>9</td>\n",
              "      <td>NaN</td>\n",
              "      <td>NaN</td>\n",
              "    </tr>\n",
              "  </tbody>\n",
              "</table>\n",
              "</div>\n",
              "      <button class=\"colab-df-convert\" onclick=\"convertToInteractive('df-c056e342-daa5-4c86-b0a9-828aadc5a9c8')\"\n",
              "              title=\"Convert this dataframe to an interactive table.\"\n",
              "              style=\"display:none;\">\n",
              "        \n",
              "  <svg xmlns=\"http://www.w3.org/2000/svg\" height=\"24px\"viewBox=\"0 0 24 24\"\n",
              "       width=\"24px\">\n",
              "    <path d=\"M0 0h24v24H0V0z\" fill=\"none\"/>\n",
              "    <path d=\"M18.56 5.44l.94 2.06.94-2.06 2.06-.94-2.06-.94-.94-2.06-.94 2.06-2.06.94zm-11 1L8.5 8.5l.94-2.06 2.06-.94-2.06-.94L8.5 2.5l-.94 2.06-2.06.94zm10 10l.94 2.06.94-2.06 2.06-.94-2.06-.94-.94-2.06-.94 2.06-2.06.94z\"/><path d=\"M17.41 7.96l-1.37-1.37c-.4-.4-.92-.59-1.43-.59-.52 0-1.04.2-1.43.59L10.3 9.45l-7.72 7.72c-.78.78-.78 2.05 0 2.83L4 21.41c.39.39.9.59 1.41.59.51 0 1.02-.2 1.41-.59l7.78-7.78 2.81-2.81c.8-.78.8-2.07 0-2.86zM5.41 20L4 18.59l7.72-7.72 1.47 1.35L5.41 20z\"/>\n",
              "  </svg>\n",
              "      </button>\n",
              "      \n",
              "  <style>\n",
              "    .colab-df-container {\n",
              "      display:flex;\n",
              "      flex-wrap:wrap;\n",
              "      gap: 12px;\n",
              "    }\n",
              "\n",
              "    .colab-df-convert {\n",
              "      background-color: #E8F0FE;\n",
              "      border: none;\n",
              "      border-radius: 50%;\n",
              "      cursor: pointer;\n",
              "      display: none;\n",
              "      fill: #1967D2;\n",
              "      height: 32px;\n",
              "      padding: 0 0 0 0;\n",
              "      width: 32px;\n",
              "    }\n",
              "\n",
              "    .colab-df-convert:hover {\n",
              "      background-color: #E2EBFA;\n",
              "      box-shadow: 0px 1px 2px rgba(60, 64, 67, 0.3), 0px 1px 3px 1px rgba(60, 64, 67, 0.15);\n",
              "      fill: #174EA6;\n",
              "    }\n",
              "\n",
              "    [theme=dark] .colab-df-convert {\n",
              "      background-color: #3B4455;\n",
              "      fill: #D2E3FC;\n",
              "    }\n",
              "\n",
              "    [theme=dark] .colab-df-convert:hover {\n",
              "      background-color: #434B5C;\n",
              "      box-shadow: 0px 1px 3px 1px rgba(0, 0, 0, 0.15);\n",
              "      filter: drop-shadow(0px 1px 2px rgba(0, 0, 0, 0.3));\n",
              "      fill: #FFFFFF;\n",
              "    }\n",
              "  </style>\n",
              "\n",
              "      <script>\n",
              "        const buttonEl =\n",
              "          document.querySelector('#df-c056e342-daa5-4c86-b0a9-828aadc5a9c8 button.colab-df-convert');\n",
              "        buttonEl.style.display =\n",
              "          google.colab.kernel.accessAllowed ? 'block' : 'none';\n",
              "\n",
              "        async function convertToInteractive(key) {\n",
              "          const element = document.querySelector('#df-c056e342-daa5-4c86-b0a9-828aadc5a9c8');\n",
              "          const dataTable =\n",
              "            await google.colab.kernel.invokeFunction('convertToInteractive',\n",
              "                                                     [key], {});\n",
              "          if (!dataTable) return;\n",
              "\n",
              "          const docLinkHtml = 'Like what you see? Visit the ' +\n",
              "            '<a target=\"_blank\" href=https://colab.research.google.com/notebooks/data_table.ipynb>data table notebook</a>'\n",
              "            + ' to learn more about interactive tables.';\n",
              "          element.innerHTML = '';\n",
              "          dataTable['output_type'] = 'display_data';\n",
              "          await google.colab.output.renderOutput(dataTable, element);\n",
              "          const docLink = document.createElement('div');\n",
              "          docLink.innerHTML = docLinkHtml;\n",
              "          element.appendChild(docLink);\n",
              "        }\n",
              "      </script>\n",
              "    </div>\n",
              "  </div>\n",
              "  "
            ]
          },
          "metadata": {},
          "execution_count": 19
        }
      ],
      "source": [
        "# pricing overall and inside cat\n",
        "item_pricing = sales.groupby([\"date_block_num\",\"item_id\",\"item_category_id\"], as_index=False).\\\n",
        "    agg(total_sold=(\"total_sold\", sum),  sum_revenue=(\"sum_revenue\",sum))\n",
        "train_ind = item_pricing.date_block_num<34\n",
        "item_pricing.loc[train_ind,\"average_price\"] = item_pricing[\"sum_revenue\"]/item_pricing[\"total_sold\"]\n",
        "item_pricing.loc[train_ind,\"average_price\"]  = item_pricing.groupby([\"item_id\"])[\"average_price\"].\\\n",
        "    apply(lambda x: x.fillna(method=\"ffill\").fillna(method=\"bfill\"))\n",
        "# add price changes\n",
        "item_pricing.loc[train_ind,\"price_change\"] = item_pricing.groupby([\"item_id\"])[\"average_price\"].\\\n",
        "    apply(lambda x: x/x.shift()).fillna(-1)\n",
        "# add position within the category\n",
        "item_pricing.loc[train_ind,\"price_perc\"] = item_pricing.groupby([\"item_category_id\", \"date_block_num\"])\\\n",
        "    [\"average_price\"].apply(lambda x: x.rank(pct=True)).fillna(-1)\n",
        "item_pricing = optimize_numeric_dtypes(item_pricing[[\"date_block_num\", \"item_id\", \"price_change\",\n",
        "    \"price_perc\"]])\n",
        "sales = sales.merge(item_pricing, how=\"left\",\n",
        "    on=[\"date_block_num\", \"item_id\"])\n",
        "del item_pricing; gc.collect(); sales.tail(3)"
      ]
    },
    {
      "cell_type": "code",
      "execution_count": 20,
      "metadata": {
        "id": "_1YW5fUcuT0w",
        "outputId": "738d46cd-c925-4184-c6d9-91d35bc6ddc1",
        "colab": {
          "base_uri": "https://localhost:8080/",
          "height": 312
        }
      },
      "outputs": [
        {
          "output_type": "stream",
          "name": "stderr",
          "text": [
            "/usr/local/lib/python3.7/dist-packages/pandas/core/frame.py:3641: SettingWithCopyWarning: \n",
            "A value is trying to be set on a copy of a slice from a DataFrame.\n",
            "Try using .loc[row_indexer,col_indexer] = value instead\n",
            "\n",
            "See the caveats in the documentation: https://pandas.pydata.org/pandas-docs/stable/user_guide/indexing.html#returning-a-view-versus-a-copy\n",
            "  self[k1] = value[k2]\n"
          ]
        },
        {
          "output_type": "execute_result",
          "data": {
            "text/plain": [
              "         item_id  shop_id  date_block_num  total_sold  sum_revenue  \\\n",
              "7496997    15757       45              34         NaN          NaN   \n",
              "7496998    19648       45              34         NaN          NaN   \n",
              "7496999      969       45              34         NaN          NaN   \n",
              "\n",
              "         n_transactions  item_category_id  item_sim_id  item_name_len  \\\n",
              "7496997             NaN                55        10515             33   \n",
              "7496998             NaN                40        13125             25   \n",
              "7496999             NaN                37          646             20   \n",
              "\n",
              "         parent_cat  child_cat  year  month  total_days  working_days  \\\n",
              "7496997          13          5  2015     11          30            21   \n",
              "7496998          11          7  2015     11          30            21   \n",
              "7496999          11          2  2015     11          30            21   \n",
              "\n",
              "         weekend_days  price_change  price_perc  city_id  \n",
              "7496997             9           NaN         NaN       20  \n",
              "7496998             9           NaN         NaN       20  \n",
              "7496999             9           NaN         NaN       20  "
            ],
            "text/html": [
              "\n",
              "  <div id=\"df-5148a893-ec8d-43d6-8bac-7b1eaac6fd8d\">\n",
              "    <div class=\"colab-df-container\">\n",
              "      <div>\n",
              "<style scoped>\n",
              "    .dataframe tbody tr th:only-of-type {\n",
              "        vertical-align: middle;\n",
              "    }\n",
              "\n",
              "    .dataframe tbody tr th {\n",
              "        vertical-align: top;\n",
              "    }\n",
              "\n",
              "    .dataframe thead th {\n",
              "        text-align: right;\n",
              "    }\n",
              "</style>\n",
              "<table border=\"1\" class=\"dataframe\">\n",
              "  <thead>\n",
              "    <tr style=\"text-align: right;\">\n",
              "      <th></th>\n",
              "      <th>item_id</th>\n",
              "      <th>shop_id</th>\n",
              "      <th>date_block_num</th>\n",
              "      <th>total_sold</th>\n",
              "      <th>sum_revenue</th>\n",
              "      <th>n_transactions</th>\n",
              "      <th>item_category_id</th>\n",
              "      <th>item_sim_id</th>\n",
              "      <th>item_name_len</th>\n",
              "      <th>parent_cat</th>\n",
              "      <th>child_cat</th>\n",
              "      <th>year</th>\n",
              "      <th>month</th>\n",
              "      <th>total_days</th>\n",
              "      <th>working_days</th>\n",
              "      <th>weekend_days</th>\n",
              "      <th>price_change</th>\n",
              "      <th>price_perc</th>\n",
              "      <th>city_id</th>\n",
              "    </tr>\n",
              "  </thead>\n",
              "  <tbody>\n",
              "    <tr>\n",
              "      <th>7496997</th>\n",
              "      <td>15757</td>\n",
              "      <td>45</td>\n",
              "      <td>34</td>\n",
              "      <td>NaN</td>\n",
              "      <td>NaN</td>\n",
              "      <td>NaN</td>\n",
              "      <td>55</td>\n",
              "      <td>10515</td>\n",
              "      <td>33</td>\n",
              "      <td>13</td>\n",
              "      <td>5</td>\n",
              "      <td>2015</td>\n",
              "      <td>11</td>\n",
              "      <td>30</td>\n",
              "      <td>21</td>\n",
              "      <td>9</td>\n",
              "      <td>NaN</td>\n",
              "      <td>NaN</td>\n",
              "      <td>20</td>\n",
              "    </tr>\n",
              "    <tr>\n",
              "      <th>7496998</th>\n",
              "      <td>19648</td>\n",
              "      <td>45</td>\n",
              "      <td>34</td>\n",
              "      <td>NaN</td>\n",
              "      <td>NaN</td>\n",
              "      <td>NaN</td>\n",
              "      <td>40</td>\n",
              "      <td>13125</td>\n",
              "      <td>25</td>\n",
              "      <td>11</td>\n",
              "      <td>7</td>\n",
              "      <td>2015</td>\n",
              "      <td>11</td>\n",
              "      <td>30</td>\n",
              "      <td>21</td>\n",
              "      <td>9</td>\n",
              "      <td>NaN</td>\n",
              "      <td>NaN</td>\n",
              "      <td>20</td>\n",
              "    </tr>\n",
              "    <tr>\n",
              "      <th>7496999</th>\n",
              "      <td>969</td>\n",
              "      <td>45</td>\n",
              "      <td>34</td>\n",
              "      <td>NaN</td>\n",
              "      <td>NaN</td>\n",
              "      <td>NaN</td>\n",
              "      <td>37</td>\n",
              "      <td>646</td>\n",
              "      <td>20</td>\n",
              "      <td>11</td>\n",
              "      <td>2</td>\n",
              "      <td>2015</td>\n",
              "      <td>11</td>\n",
              "      <td>30</td>\n",
              "      <td>21</td>\n",
              "      <td>9</td>\n",
              "      <td>NaN</td>\n",
              "      <td>NaN</td>\n",
              "      <td>20</td>\n",
              "    </tr>\n",
              "  </tbody>\n",
              "</table>\n",
              "</div>\n",
              "      <button class=\"colab-df-convert\" onclick=\"convertToInteractive('df-5148a893-ec8d-43d6-8bac-7b1eaac6fd8d')\"\n",
              "              title=\"Convert this dataframe to an interactive table.\"\n",
              "              style=\"display:none;\">\n",
              "        \n",
              "  <svg xmlns=\"http://www.w3.org/2000/svg\" height=\"24px\"viewBox=\"0 0 24 24\"\n",
              "       width=\"24px\">\n",
              "    <path d=\"M0 0h24v24H0V0z\" fill=\"none\"/>\n",
              "    <path d=\"M18.56 5.44l.94 2.06.94-2.06 2.06-.94-2.06-.94-.94-2.06-.94 2.06-2.06.94zm-11 1L8.5 8.5l.94-2.06 2.06-.94-2.06-.94L8.5 2.5l-.94 2.06-2.06.94zm10 10l.94 2.06.94-2.06 2.06-.94-2.06-.94-.94-2.06-.94 2.06-2.06.94z\"/><path d=\"M17.41 7.96l-1.37-1.37c-.4-.4-.92-.59-1.43-.59-.52 0-1.04.2-1.43.59L10.3 9.45l-7.72 7.72c-.78.78-.78 2.05 0 2.83L4 21.41c.39.39.9.59 1.41.59.51 0 1.02-.2 1.41-.59l7.78-7.78 2.81-2.81c.8-.78.8-2.07 0-2.86zM5.41 20L4 18.59l7.72-7.72 1.47 1.35L5.41 20z\"/>\n",
              "  </svg>\n",
              "      </button>\n",
              "      \n",
              "  <style>\n",
              "    .colab-df-container {\n",
              "      display:flex;\n",
              "      flex-wrap:wrap;\n",
              "      gap: 12px;\n",
              "    }\n",
              "\n",
              "    .colab-df-convert {\n",
              "      background-color: #E8F0FE;\n",
              "      border: none;\n",
              "      border-radius: 50%;\n",
              "      cursor: pointer;\n",
              "      display: none;\n",
              "      fill: #1967D2;\n",
              "      height: 32px;\n",
              "      padding: 0 0 0 0;\n",
              "      width: 32px;\n",
              "    }\n",
              "\n",
              "    .colab-df-convert:hover {\n",
              "      background-color: #E2EBFA;\n",
              "      box-shadow: 0px 1px 2px rgba(60, 64, 67, 0.3), 0px 1px 3px 1px rgba(60, 64, 67, 0.15);\n",
              "      fill: #174EA6;\n",
              "    }\n",
              "\n",
              "    [theme=dark] .colab-df-convert {\n",
              "      background-color: #3B4455;\n",
              "      fill: #D2E3FC;\n",
              "    }\n",
              "\n",
              "    [theme=dark] .colab-df-convert:hover {\n",
              "      background-color: #434B5C;\n",
              "      box-shadow: 0px 1px 3px 1px rgba(0, 0, 0, 0.15);\n",
              "      filter: drop-shadow(0px 1px 2px rgba(0, 0, 0, 0.3));\n",
              "      fill: #FFFFFF;\n",
              "    }\n",
              "  </style>\n",
              "\n",
              "      <script>\n",
              "        const buttonEl =\n",
              "          document.querySelector('#df-5148a893-ec8d-43d6-8bac-7b1eaac6fd8d button.colab-df-convert');\n",
              "        buttonEl.style.display =\n",
              "          google.colab.kernel.accessAllowed ? 'block' : 'none';\n",
              "\n",
              "        async function convertToInteractive(key) {\n",
              "          const element = document.querySelector('#df-5148a893-ec8d-43d6-8bac-7b1eaac6fd8d');\n",
              "          const dataTable =\n",
              "            await google.colab.kernel.invokeFunction('convertToInteractive',\n",
              "                                                     [key], {});\n",
              "          if (!dataTable) return;\n",
              "\n",
              "          const docLinkHtml = 'Like what you see? Visit the ' +\n",
              "            '<a target=\"_blank\" href=https://colab.research.google.com/notebooks/data_table.ipynb>data table notebook</a>'\n",
              "            + ' to learn more about interactive tables.';\n",
              "          element.innerHTML = '';\n",
              "          dataTable['output_type'] = 'display_data';\n",
              "          await google.colab.output.renderOutput(dataTable, element);\n",
              "          const docLink = document.createElement('div');\n",
              "          docLink.innerHTML = docLinkHtml;\n",
              "          element.appendChild(docLink);\n",
              "        }\n",
              "      </script>\n",
              "    </div>\n",
              "  </div>\n",
              "  "
            ]
          },
          "metadata": {},
          "execution_count": 20
        }
      ],
      "source": [
        "# shop location\n",
        "shops[\"city_id\"] = shops.shop_name.apply(lambda x:\\\n",
        "    re.sub(\"[^A-ZА-Яa-zа-я0-9 ]\",\"\", x.split(\" \")[0]))\n",
        "shops = optimize_categories(shops[[\"shop_id\", \"city_id\"]])\n",
        "sales = sales.merge(shops, how=\"inner\", on=\"shop_id\")\n",
        "del shops; gc.collect(); sales.tail(3)"
      ]
    },
    {
      "cell_type": "code",
      "execution_count": 21,
      "metadata": {
        "id": "hw-Rko7AuT0x",
        "outputId": "c307670d-3a8a-4d33-e7b3-3d8d727a6284",
        "colab": {
          "base_uri": "https://localhost:8080/",
          "height": 237
        }
      },
      "outputs": [
        {
          "output_type": "execute_result",
          "data": {
            "text/plain": [
              "         item_id  shop_id  date_block_num  total_sold  sum_revenue  \\\n",
              "7496997    15757       45              34         NaN          NaN   \n",
              "7496998    19648       45              34         NaN          NaN   \n",
              "7496999      969       45              34         NaN          NaN   \n",
              "\n",
              "         n_transactions  item_category_id  item_sim_id  item_name_len  \\\n",
              "7496997             NaN                55        10515             33   \n",
              "7496998             NaN                40        13125             25   \n",
              "7496999             NaN                37          646             20   \n",
              "\n",
              "         parent_cat  ...  price_change  price_perc  city_id  city_demand  \\\n",
              "7496997          13  ...           NaN         NaN       20          NaN   \n",
              "7496998          11  ...           NaN         NaN       20          NaN   \n",
              "7496999          11  ...           NaN         NaN       20          NaN   \n",
              "\n",
              "         shop_demand  cat_demand0  cat_demand1  cat_demand2  item_demand  \\\n",
              "7496997          NaN          NaN          NaN          NaN          NaN   \n",
              "7496998          NaN          NaN          NaN          NaN          NaN   \n",
              "7496999          NaN          NaN          NaN          NaN          NaN   \n",
              "\n",
              "         item_maturity  \n",
              "7496997           34.0  \n",
              "7496998           11.0  \n",
              "7496999           17.0  \n",
              "\n",
              "[3 rows x 26 columns]"
            ],
            "text/html": [
              "\n",
              "  <div id=\"df-1b4d5a4c-af15-4145-acab-ba960815b85f\">\n",
              "    <div class=\"colab-df-container\">\n",
              "      <div>\n",
              "<style scoped>\n",
              "    .dataframe tbody tr th:only-of-type {\n",
              "        vertical-align: middle;\n",
              "    }\n",
              "\n",
              "    .dataframe tbody tr th {\n",
              "        vertical-align: top;\n",
              "    }\n",
              "\n",
              "    .dataframe thead th {\n",
              "        text-align: right;\n",
              "    }\n",
              "</style>\n",
              "<table border=\"1\" class=\"dataframe\">\n",
              "  <thead>\n",
              "    <tr style=\"text-align: right;\">\n",
              "      <th></th>\n",
              "      <th>item_id</th>\n",
              "      <th>shop_id</th>\n",
              "      <th>date_block_num</th>\n",
              "      <th>total_sold</th>\n",
              "      <th>sum_revenue</th>\n",
              "      <th>n_transactions</th>\n",
              "      <th>item_category_id</th>\n",
              "      <th>item_sim_id</th>\n",
              "      <th>item_name_len</th>\n",
              "      <th>parent_cat</th>\n",
              "      <th>...</th>\n",
              "      <th>price_change</th>\n",
              "      <th>price_perc</th>\n",
              "      <th>city_id</th>\n",
              "      <th>city_demand</th>\n",
              "      <th>shop_demand</th>\n",
              "      <th>cat_demand0</th>\n",
              "      <th>cat_demand1</th>\n",
              "      <th>cat_demand2</th>\n",
              "      <th>item_demand</th>\n",
              "      <th>item_maturity</th>\n",
              "    </tr>\n",
              "  </thead>\n",
              "  <tbody>\n",
              "    <tr>\n",
              "      <th>7496997</th>\n",
              "      <td>15757</td>\n",
              "      <td>45</td>\n",
              "      <td>34</td>\n",
              "      <td>NaN</td>\n",
              "      <td>NaN</td>\n",
              "      <td>NaN</td>\n",
              "      <td>55</td>\n",
              "      <td>10515</td>\n",
              "      <td>33</td>\n",
              "      <td>13</td>\n",
              "      <td>...</td>\n",
              "      <td>NaN</td>\n",
              "      <td>NaN</td>\n",
              "      <td>20</td>\n",
              "      <td>NaN</td>\n",
              "      <td>NaN</td>\n",
              "      <td>NaN</td>\n",
              "      <td>NaN</td>\n",
              "      <td>NaN</td>\n",
              "      <td>NaN</td>\n",
              "      <td>34.0</td>\n",
              "    </tr>\n",
              "    <tr>\n",
              "      <th>7496998</th>\n",
              "      <td>19648</td>\n",
              "      <td>45</td>\n",
              "      <td>34</td>\n",
              "      <td>NaN</td>\n",
              "      <td>NaN</td>\n",
              "      <td>NaN</td>\n",
              "      <td>40</td>\n",
              "      <td>13125</td>\n",
              "      <td>25</td>\n",
              "      <td>11</td>\n",
              "      <td>...</td>\n",
              "      <td>NaN</td>\n",
              "      <td>NaN</td>\n",
              "      <td>20</td>\n",
              "      <td>NaN</td>\n",
              "      <td>NaN</td>\n",
              "      <td>NaN</td>\n",
              "      <td>NaN</td>\n",
              "      <td>NaN</td>\n",
              "      <td>NaN</td>\n",
              "      <td>11.0</td>\n",
              "    </tr>\n",
              "    <tr>\n",
              "      <th>7496999</th>\n",
              "      <td>969</td>\n",
              "      <td>45</td>\n",
              "      <td>34</td>\n",
              "      <td>NaN</td>\n",
              "      <td>NaN</td>\n",
              "      <td>NaN</td>\n",
              "      <td>37</td>\n",
              "      <td>646</td>\n",
              "      <td>20</td>\n",
              "      <td>11</td>\n",
              "      <td>...</td>\n",
              "      <td>NaN</td>\n",
              "      <td>NaN</td>\n",
              "      <td>20</td>\n",
              "      <td>NaN</td>\n",
              "      <td>NaN</td>\n",
              "      <td>NaN</td>\n",
              "      <td>NaN</td>\n",
              "      <td>NaN</td>\n",
              "      <td>NaN</td>\n",
              "      <td>17.0</td>\n",
              "    </tr>\n",
              "  </tbody>\n",
              "</table>\n",
              "<p>3 rows × 26 columns</p>\n",
              "</div>\n",
              "      <button class=\"colab-df-convert\" onclick=\"convertToInteractive('df-1b4d5a4c-af15-4145-acab-ba960815b85f')\"\n",
              "              title=\"Convert this dataframe to an interactive table.\"\n",
              "              style=\"display:none;\">\n",
              "        \n",
              "  <svg xmlns=\"http://www.w3.org/2000/svg\" height=\"24px\"viewBox=\"0 0 24 24\"\n",
              "       width=\"24px\">\n",
              "    <path d=\"M0 0h24v24H0V0z\" fill=\"none\"/>\n",
              "    <path d=\"M18.56 5.44l.94 2.06.94-2.06 2.06-.94-2.06-.94-.94-2.06-.94 2.06-2.06.94zm-11 1L8.5 8.5l.94-2.06 2.06-.94-2.06-.94L8.5 2.5l-.94 2.06-2.06.94zm10 10l.94 2.06.94-2.06 2.06-.94-2.06-.94-.94-2.06-.94 2.06-2.06.94z\"/><path d=\"M17.41 7.96l-1.37-1.37c-.4-.4-.92-.59-1.43-.59-.52 0-1.04.2-1.43.59L10.3 9.45l-7.72 7.72c-.78.78-.78 2.05 0 2.83L4 21.41c.39.39.9.59 1.41.59.51 0 1.02-.2 1.41-.59l7.78-7.78 2.81-2.81c.8-.78.8-2.07 0-2.86zM5.41 20L4 18.59l7.72-7.72 1.47 1.35L5.41 20z\"/>\n",
              "  </svg>\n",
              "      </button>\n",
              "      \n",
              "  <style>\n",
              "    .colab-df-container {\n",
              "      display:flex;\n",
              "      flex-wrap:wrap;\n",
              "      gap: 12px;\n",
              "    }\n",
              "\n",
              "    .colab-df-convert {\n",
              "      background-color: #E8F0FE;\n",
              "      border: none;\n",
              "      border-radius: 50%;\n",
              "      cursor: pointer;\n",
              "      display: none;\n",
              "      fill: #1967D2;\n",
              "      height: 32px;\n",
              "      padding: 0 0 0 0;\n",
              "      width: 32px;\n",
              "    }\n",
              "\n",
              "    .colab-df-convert:hover {\n",
              "      background-color: #E2EBFA;\n",
              "      box-shadow: 0px 1px 2px rgba(60, 64, 67, 0.3), 0px 1px 3px 1px rgba(60, 64, 67, 0.15);\n",
              "      fill: #174EA6;\n",
              "    }\n",
              "\n",
              "    [theme=dark] .colab-df-convert {\n",
              "      background-color: #3B4455;\n",
              "      fill: #D2E3FC;\n",
              "    }\n",
              "\n",
              "    [theme=dark] .colab-df-convert:hover {\n",
              "      background-color: #434B5C;\n",
              "      box-shadow: 0px 1px 3px 1px rgba(0, 0, 0, 0.15);\n",
              "      filter: drop-shadow(0px 1px 2px rgba(0, 0, 0, 0.3));\n",
              "      fill: #FFFFFF;\n",
              "    }\n",
              "  </style>\n",
              "\n",
              "      <script>\n",
              "        const buttonEl =\n",
              "          document.querySelector('#df-1b4d5a4c-af15-4145-acab-ba960815b85f button.colab-df-convert');\n",
              "        buttonEl.style.display =\n",
              "          google.colab.kernel.accessAllowed ? 'block' : 'none';\n",
              "\n",
              "        async function convertToInteractive(key) {\n",
              "          const element = document.querySelector('#df-1b4d5a4c-af15-4145-acab-ba960815b85f');\n",
              "          const dataTable =\n",
              "            await google.colab.kernel.invokeFunction('convertToInteractive',\n",
              "                                                     [key], {});\n",
              "          if (!dataTable) return;\n",
              "\n",
              "          const docLinkHtml = 'Like what you see? Visit the ' +\n",
              "            '<a target=\"_blank\" href=https://colab.research.google.com/notebooks/data_table.ipynb>data table notebook</a>'\n",
              "            + ' to learn more about interactive tables.';\n",
              "          element.innerHTML = '';\n",
              "          dataTable['output_type'] = 'display_data';\n",
              "          await google.colab.output.renderOutput(dataTable, element);\n",
              "          const docLink = document.createElement('div');\n",
              "          docLink.innerHTML = docLinkHtml;\n",
              "          element.appendChild(docLink);\n",
              "        }\n",
              "      </script>\n",
              "    </div>\n",
              "  </div>\n",
              "  "
            ]
          },
          "metadata": {},
          "execution_count": 21
        }
      ],
      "source": [
        "# time-series\n",
        "# smoothed demand across various perspectives\n",
        "train_ind = sales.date_block_num<34\n",
        "# city\n",
        "sales.loc[train_ind, \"city_demand\"] = sales[train_ind].\\\n",
        "    groupby([\"city_id\",\"date_block_num\"])[\"total_sold\"].apply(lambda x:\n",
        "        x.ewm(span=3, min_periods=3).mean()).fillna(0)#.astype(\"float32\")\n",
        "# shop\n",
        "sales.loc[train_ind, \"shop_demand\"] = sales[train_ind].\\\n",
        "    groupby([\"shop_id\",\"date_block_num\"])[\"total_sold\"].apply(lambda x:\n",
        "        x.ewm(span=3, min_periods=3).mean()).fillna(0)#.astype(\"float32\")\n",
        "# categories\n",
        "sales.loc[train_ind, \"cat_demand0\"] = sales[train_ind].\\\n",
        "    groupby([\"parent_cat\",\"date_block_num\"])[\"total_sold\"].apply(lambda x:\n",
        "        x.ewm(span=3, min_periods=3).mean()).fillna(0)#.astype(\"float32\")\n",
        "# categories\n",
        "sales.loc[train_ind, \"cat_demand1\"] = sales[train_ind].\\\n",
        "    groupby([\"child_cat\",\"date_block_num\"])[\"total_sold\"].apply(lambda x:\n",
        "        x.ewm(span=3, min_periods=3).mean()).fillna(0)#.astype(\"float32\")      \n",
        "# categories\n",
        "sales.loc[train_ind, \"cat_demand2\"] = sales[train_ind].\\\n",
        "    groupby([\"item_sim_id\",\"date_block_num\"])[\"total_sold\"].apply(lambda x:\n",
        "        x.ewm(span=3, min_periods=3).mean()).fillna(0)#.astype(\"float32\")        \n",
        "# item\n",
        "sales.loc[train_ind, \"item_demand\"] = sales[train_ind].\\\n",
        "    groupby([\"item_id\",\"date_block_num\"])[\"total_sold\"].apply(lambda x:\n",
        "        x.ewm(span=3, min_periods=3).mean()).fillna(0)#.astype(\"float32\")\n",
        "# item maturity\n",
        "sales[\"item_maturity\"] = (sales[\"date_block_num\"] - sales[[\"item_id\",\"date_block_num\"]].merge(\\\n",
        "    sales[sales.n_transactions>0].groupby(\"item_id\", as_index=False).\\\n",
        "        agg(date_block_num_min=(\"date_block_num\",min)),\n",
        "            how=\"left\")[\"date_block_num_min\"]).clip(-1,34).fillna(-1)\n",
        "del train_ind; gc.collect();\n",
        "sales = optimize_numeric_dtypes(sales)\n",
        "sales.tail(3)"
      ]
    },
    {
      "cell_type": "code",
      "execution_count": 22,
      "metadata": {
        "id": "K9UJqa7_uT0x",
        "outputId": "85c51a4b-b484-4236-8ea1-db44fbf46add",
        "colab": {
          "base_uri": "https://localhost:8080/",
          "height": 237
        }
      },
      "outputs": [
        {
          "output_type": "execute_result",
          "data": {
            "text/plain": [
              "   item_id  shop_id  date_block_num  total_sold  item_category_id  \\\n",
              "0     5037        5               0         0.0                19   \n",
              "1     5320        5               0         0.0                55   \n",
              "2     5233        5               0         0.0                19   \n",
              "\n",
              "   item_sim_id  item_name_len  parent_cat  child_cat  year  ...  \\\n",
              "0         3286             27           5         13  2013  ...   \n",
              "1         3489             28          13          5  2013  ...   \n",
              "2         3438             51           5         13  2013  ...   \n",
              "\n",
              "   lag3_sum_revenue  lag3_n_transactions  lag3_price_change  lag3_price_perc  \\\n",
              "0               0.0                  0.0                1.0             -1.0   \n",
              "1               0.0                  0.0                1.0             -1.0   \n",
              "2               0.0                  0.0                1.0             -1.0   \n",
              "\n",
              "   lag3_city_demand  lag3_shop_demand  lag3_cat_demand0  lag3_cat_demand1  \\\n",
              "0               0.0               0.0               0.0               0.0   \n",
              "1               0.0               0.0               0.0               0.0   \n",
              "2               0.0               0.0               0.0               0.0   \n",
              "\n",
              "   lag3_cat_demand2  lag3_item_demand  \n",
              "0               0.0               0.0  \n",
              "1               0.0               0.0  \n",
              "2               0.0               0.0  \n",
              "\n",
              "[3 rows x 49 columns]"
            ],
            "text/html": [
              "\n",
              "  <div id=\"df-2ae3b485-329c-4cf2-a550-1dbba63fa0b3\">\n",
              "    <div class=\"colab-df-container\">\n",
              "      <div>\n",
              "<style scoped>\n",
              "    .dataframe tbody tr th:only-of-type {\n",
              "        vertical-align: middle;\n",
              "    }\n",
              "\n",
              "    .dataframe tbody tr th {\n",
              "        vertical-align: top;\n",
              "    }\n",
              "\n",
              "    .dataframe thead th {\n",
              "        text-align: right;\n",
              "    }\n",
              "</style>\n",
              "<table border=\"1\" class=\"dataframe\">\n",
              "  <thead>\n",
              "    <tr style=\"text-align: right;\">\n",
              "      <th></th>\n",
              "      <th>item_id</th>\n",
              "      <th>shop_id</th>\n",
              "      <th>date_block_num</th>\n",
              "      <th>total_sold</th>\n",
              "      <th>item_category_id</th>\n",
              "      <th>item_sim_id</th>\n",
              "      <th>item_name_len</th>\n",
              "      <th>parent_cat</th>\n",
              "      <th>child_cat</th>\n",
              "      <th>year</th>\n",
              "      <th>...</th>\n",
              "      <th>lag3_sum_revenue</th>\n",
              "      <th>lag3_n_transactions</th>\n",
              "      <th>lag3_price_change</th>\n",
              "      <th>lag3_price_perc</th>\n",
              "      <th>lag3_city_demand</th>\n",
              "      <th>lag3_shop_demand</th>\n",
              "      <th>lag3_cat_demand0</th>\n",
              "      <th>lag3_cat_demand1</th>\n",
              "      <th>lag3_cat_demand2</th>\n",
              "      <th>lag3_item_demand</th>\n",
              "    </tr>\n",
              "  </thead>\n",
              "  <tbody>\n",
              "    <tr>\n",
              "      <th>0</th>\n",
              "      <td>5037</td>\n",
              "      <td>5</td>\n",
              "      <td>0</td>\n",
              "      <td>0.0</td>\n",
              "      <td>19</td>\n",
              "      <td>3286</td>\n",
              "      <td>27</td>\n",
              "      <td>5</td>\n",
              "      <td>13</td>\n",
              "      <td>2013</td>\n",
              "      <td>...</td>\n",
              "      <td>0.0</td>\n",
              "      <td>0.0</td>\n",
              "      <td>1.0</td>\n",
              "      <td>-1.0</td>\n",
              "      <td>0.0</td>\n",
              "      <td>0.0</td>\n",
              "      <td>0.0</td>\n",
              "      <td>0.0</td>\n",
              "      <td>0.0</td>\n",
              "      <td>0.0</td>\n",
              "    </tr>\n",
              "    <tr>\n",
              "      <th>1</th>\n",
              "      <td>5320</td>\n",
              "      <td>5</td>\n",
              "      <td>0</td>\n",
              "      <td>0.0</td>\n",
              "      <td>55</td>\n",
              "      <td>3489</td>\n",
              "      <td>28</td>\n",
              "      <td>13</td>\n",
              "      <td>5</td>\n",
              "      <td>2013</td>\n",
              "      <td>...</td>\n",
              "      <td>0.0</td>\n",
              "      <td>0.0</td>\n",
              "      <td>1.0</td>\n",
              "      <td>-1.0</td>\n",
              "      <td>0.0</td>\n",
              "      <td>0.0</td>\n",
              "      <td>0.0</td>\n",
              "      <td>0.0</td>\n",
              "      <td>0.0</td>\n",
              "      <td>0.0</td>\n",
              "    </tr>\n",
              "    <tr>\n",
              "      <th>2</th>\n",
              "      <td>5233</td>\n",
              "      <td>5</td>\n",
              "      <td>0</td>\n",
              "      <td>0.0</td>\n",
              "      <td>19</td>\n",
              "      <td>3438</td>\n",
              "      <td>51</td>\n",
              "      <td>5</td>\n",
              "      <td>13</td>\n",
              "      <td>2013</td>\n",
              "      <td>...</td>\n",
              "      <td>0.0</td>\n",
              "      <td>0.0</td>\n",
              "      <td>1.0</td>\n",
              "      <td>-1.0</td>\n",
              "      <td>0.0</td>\n",
              "      <td>0.0</td>\n",
              "      <td>0.0</td>\n",
              "      <td>0.0</td>\n",
              "      <td>0.0</td>\n",
              "      <td>0.0</td>\n",
              "    </tr>\n",
              "  </tbody>\n",
              "</table>\n",
              "<p>3 rows × 49 columns</p>\n",
              "</div>\n",
              "      <button class=\"colab-df-convert\" onclick=\"convertToInteractive('df-2ae3b485-329c-4cf2-a550-1dbba63fa0b3')\"\n",
              "              title=\"Convert this dataframe to an interactive table.\"\n",
              "              style=\"display:none;\">\n",
              "        \n",
              "  <svg xmlns=\"http://www.w3.org/2000/svg\" height=\"24px\"viewBox=\"0 0 24 24\"\n",
              "       width=\"24px\">\n",
              "    <path d=\"M0 0h24v24H0V0z\" fill=\"none\"/>\n",
              "    <path d=\"M18.56 5.44l.94 2.06.94-2.06 2.06-.94-2.06-.94-.94-2.06-.94 2.06-2.06.94zm-11 1L8.5 8.5l.94-2.06 2.06-.94-2.06-.94L8.5 2.5l-.94 2.06-2.06.94zm10 10l.94 2.06.94-2.06 2.06-.94-2.06-.94-.94-2.06-.94 2.06-2.06.94z\"/><path d=\"M17.41 7.96l-1.37-1.37c-.4-.4-.92-.59-1.43-.59-.52 0-1.04.2-1.43.59L10.3 9.45l-7.72 7.72c-.78.78-.78 2.05 0 2.83L4 21.41c.39.39.9.59 1.41.59.51 0 1.02-.2 1.41-.59l7.78-7.78 2.81-2.81c.8-.78.8-2.07 0-2.86zM5.41 20L4 18.59l7.72-7.72 1.47 1.35L5.41 20z\"/>\n",
              "  </svg>\n",
              "      </button>\n",
              "      \n",
              "  <style>\n",
              "    .colab-df-container {\n",
              "      display:flex;\n",
              "      flex-wrap:wrap;\n",
              "      gap: 12px;\n",
              "    }\n",
              "\n",
              "    .colab-df-convert {\n",
              "      background-color: #E8F0FE;\n",
              "      border: none;\n",
              "      border-radius: 50%;\n",
              "      cursor: pointer;\n",
              "      display: none;\n",
              "      fill: #1967D2;\n",
              "      height: 32px;\n",
              "      padding: 0 0 0 0;\n",
              "      width: 32px;\n",
              "    }\n",
              "\n",
              "    .colab-df-convert:hover {\n",
              "      background-color: #E2EBFA;\n",
              "      box-shadow: 0px 1px 2px rgba(60, 64, 67, 0.3), 0px 1px 3px 1px rgba(60, 64, 67, 0.15);\n",
              "      fill: #174EA6;\n",
              "    }\n",
              "\n",
              "    [theme=dark] .colab-df-convert {\n",
              "      background-color: #3B4455;\n",
              "      fill: #D2E3FC;\n",
              "    }\n",
              "\n",
              "    [theme=dark] .colab-df-convert:hover {\n",
              "      background-color: #434B5C;\n",
              "      box-shadow: 0px 1px 3px 1px rgba(0, 0, 0, 0.15);\n",
              "      filter: drop-shadow(0px 1px 2px rgba(0, 0, 0, 0.3));\n",
              "      fill: #FFFFFF;\n",
              "    }\n",
              "  </style>\n",
              "\n",
              "      <script>\n",
              "        const buttonEl =\n",
              "          document.querySelector('#df-2ae3b485-329c-4cf2-a550-1dbba63fa0b3 button.colab-df-convert');\n",
              "        buttonEl.style.display =\n",
              "          google.colab.kernel.accessAllowed ? 'block' : 'none';\n",
              "\n",
              "        async function convertToInteractive(key) {\n",
              "          const element = document.querySelector('#df-2ae3b485-329c-4cf2-a550-1dbba63fa0b3');\n",
              "          const dataTable =\n",
              "            await google.colab.kernel.invokeFunction('convertToInteractive',\n",
              "                                                     [key], {});\n",
              "          if (!dataTable) return;\n",
              "\n",
              "          const docLinkHtml = 'Like what you see? Visit the ' +\n",
              "            '<a target=\"_blank\" href=https://colab.research.google.com/notebooks/data_table.ipynb>data table notebook</a>'\n",
              "            + ' to learn more about interactive tables.';\n",
              "          element.innerHTML = '';\n",
              "          dataTable['output_type'] = 'display_data';\n",
              "          await google.colab.output.renderOutput(dataTable, element);\n",
              "          const docLink = document.createElement('div');\n",
              "          docLink.innerHTML = docLinkHtml;\n",
              "          element.appendChild(docLink);\n",
              "        }\n",
              "      </script>\n",
              "    </div>\n",
              "  </div>\n",
              "  "
            ]
          },
          "metadata": {},
          "execution_count": 22
        }
      ],
      "source": [
        "lag_steps = [1,2,3]\n",
        "lag_fill = {\"total_sold\":0, \"sum_revenue\":0, \"n_transactions\":0, \"price_change\":1, \"price_perc\":-1,\n",
        "    \"city_demand\":0, \"shop_demand\":0, \"cat_demand0\":0,\"cat_demand1\":0,\"cat_demand2\":0, \"item_demand\":0}\n",
        "for l in lag_steps:\n",
        "    for c in lag_fill.keys():\n",
        "        sales.loc[:,\"lag\"+str(l)+\"_\"+c] = sales.groupby([sales.shop_id,sales.item_id])\\\n",
        "            [c].shift(l).fillna(lag_fill[c])\n",
        "\n",
        "target = \"total_sold\"\n",
        "col_fil = [c for c in sales.columns if (c not in lag_fill.keys()) or (c ==target)]\n",
        "sales = optimize_numeric_dtypes(sales.loc[:,col_fil])\n",
        "sales.head(3)"
      ]
    },
    {
      "cell_type": "code",
      "source": [
        "# col filters\n",
        "target = \"total_sold\"\n",
        "cat_cols = [\"item_name_len\", \"item_sim_id\", \"parent_cat\", \"child_cat\",\n",
        "    \"year\", \"month\", \"total_days\", \"working_days\", \"weekend_days\", \"city_id\"]\n",
        "num_cols = [f for f in sales.columns if (f not in cat_cols) &\\\n",
        "  (f not in [target, \"item_id\", \"shop_id\", \"date_block_num\"])]\n",
        "features = cat_cols + num_cols\n",
        "# target clippin\n",
        "sales[target] = sales[target].clip(0,20)"
      ],
      "metadata": {
        "id": "Etjr2uNjS6yb"
      },
      "execution_count": 23,
      "outputs": []
    },
    {
      "cell_type": "code",
      "source": [
        "# add kfold-based mean encoding\n",
        "from category_encoders.leave_one_out import LeaveOneOutEncoder\n",
        "from category_encoders.wrapper import NestedCVWrapper\n",
        "te = LeaveOneOutEncoder(cols=cat_cols, sigma=0.05) # for robustness\n",
        "cvte = NestedCVWrapper(te, cv=5, shuffle=True, random_state=2022)\n",
        "_ = cvte.fit_transform(sales.loc[sales.date_block_num<34,cat_cols],\n",
        "  sales.loc[sales.date_block_num<34,target])\n",
        "encoded = cvte.transform(sales.loc[:,cat_cols])\n",
        "sales = sales.loc[:,[c for c in sales.columns if c not in cat_cols]].\\\n",
        "  merge(encoded, left_index=True, right_index=True)\n",
        "del te, cvte, encoded; gc.collect();   "
      ],
      "metadata": {
        "id": "H3YAwZ4UfBfQ",
        "outputId": "0e539fea-88e1-472c-9d31-905c051b124c",
        "colab": {
          "base_uri": "https://localhost:8080/"
        }
      },
      "execution_count": 24,
      "outputs": [
        {
          "output_type": "stream",
          "name": "stderr",
          "text": [
            "/usr/local/lib/python3.7/dist-packages/statsmodels/tools/_testing.py:19: FutureWarning: pandas.util.testing is deprecated. Use the functions in the public API at pandas.testing instead.\n",
            "  import pandas.util.testing as tm\n"
          ]
        }
      ]
    },
    {
      "cell_type": "code",
      "source": [
        "from collections import defaultdict\n",
        "import matplotlib.pyplot as plt\n",
        "from scipy.stats import spearmanr\n",
        "from scipy.cluster import hierarchy\n",
        "from scipy.spatial.distance import squareform"
      ],
      "metadata": {
        "id": "GIL2lOJx_wM9"
      },
      "execution_count": 28,
      "outputs": []
    },
    {
      "cell_type": "code",
      "source": [
        "corr_mat=sales.loc[:,features].corr()"
      ],
      "metadata": {
        "id": "i6Ghi6xoAGac"
      },
      "execution_count": 70,
      "outputs": []
    },
    {
      "cell_type": "code",
      "source": [
        "corr_linkage = hierarchy.ward(corr_mat)\n",
        "fig, axs = plt.subplots(1, 2, figsize=(24, 10),\n",
        "  gridspec_kw={\"width_ratios\": [1, 1.15], \"wspace\":0.15})\n",
        "color_links = [rgb2hex(c) for c in sns.color_palette(\"rocket\", n_colors=3)]\n",
        "hierarchy.set_link_color_palette(color_links)\n",
        "dendro = hierarchy.dendrogram(corr_linkage, labels=corr_mat.columns,\n",
        "    ax=axs[0], leaf_font_size=10, leaf_rotation=90,\n",
        "    above_threshold_color=color_links[2])\n",
        "hierarchy.set_link_color_palette(None)    \n",
        "for s in axs[0].spines.keys():\n",
        "    axs[0].spines[s].set_visible(False)\n",
        "dendro_idx = np.arange(0, len(dendro[\"ivl\"]))\n",
        "mask = np.zeros_like(corr_mat)\n",
        "mask[np.triu_indices_from(mask)] = True \n",
        "sns.heatmap(corr_mat.iloc[dendro[\"leaves\"], :].iloc[:, dendro[\"leaves\"]],\n",
        "    ax=axs[1], vmin=-1, vmax=1, mask=mask, square=True,\n",
        "    cbar_kws={\"aspect\":50, \"shrink\":0.5, \"pad\":-0.025,\n",
        "      \"ticks\":[-1,-.75,-0.5,-0.25,0,0.25,0.5,.75,1]}, annot_kws={\"size\":10})\n",
        "axs[1].set_ylabel(\"\"); axs[1].set_xlabel(\"\");\n",
        "plt.show();"
      ],
      "metadata": {
        "id": "oUJVfBKzCf-6",
        "outputId": "30bb3036-8c93-450f-badf-fe5b5bafec75",
        "colab": {
          "base_uri": "https://localhost:8080/",
          "height": 681
        }
      },
      "execution_count": 75,
      "outputs": [
        {
          "output_type": "display_data",
          "data": {
            "text/plain": [
              "<Figure size 1728x720 with 3 Axes>"
            ],
            "image/png": "[encoded data removed]"
          },
          "metadata": {
            "needs_background": "light"
          }
        }
      ]
    },
    {
      "cell_type": "code",
      "source": [
        "cluster_ids = hierarchy.fcluster(corr_linkage, .15, criterion=\"distance\")\n",
        "cluster_id_to_feature_ids = defaultdict(list)\n",
        "for idx, cluster_id in enumerate(cluster_ids):\n",
        "    cluster_id_to_feature_ids[cluster_id].append(idx)\n",
        "fs = [v[0] for v in cluster_id_to_feature_ids.values()]\n",
        "corr_mat.columns[fs]"
      ],
      "metadata": {
        "id": "NQ0_fYIKKs4Z",
        "outputId": "5223bc09-9b11-44e0-facd-382c33dbc040",
        "colab": {
          "base_uri": "https://localhost:8080/"
        }
      },
      "execution_count": 91,
      "outputs": [
        {
          "output_type": "execute_result",
          "data": {
            "text/plain": [
              "Index(['item_name_len', 'item_sim_id', 'parent_cat', 'child_cat', 'year',\n",
              "       'month', 'total_days', 'working_days', 'weekend_days', 'city_id',\n",
              "       'item_category_id', 'item_maturity', 'lag1_total_sold',\n",
              "       'lag1_sum_revenue', 'lag1_n_transactions', 'lag1_price_change',\n",
              "       'lag1_price_perc', 'lag1_city_demand', 'lag1_cat_demand0',\n",
              "       'lag1_cat_demand1', 'lag2_total_sold', 'lag2_sum_revenue',\n",
              "       'lag2_n_transactions', 'lag2_price_change', 'lag2_price_perc',\n",
              "       'lag2_city_demand', 'lag2_cat_demand0', 'lag2_cat_demand1',\n",
              "       'lag3_total_sold', 'lag3_sum_revenue', 'lag3_n_transactions',\n",
              "       'lag3_price_change', 'lag3_price_perc', 'lag3_city_demand',\n",
              "       'lag3_cat_demand0', 'lag3_cat_demand1'],\n",
              "      dtype='object')"
            ]
          },
          "metadata": {},
          "execution_count": 91
        }
      ]
    },
    {
      "cell_type": "code",
      "source": [
        "features = corr_mat.columns[fs]"
      ],
      "metadata": {
        "id": "EP098_TDNDVj"
      },
      "execution_count": 92,
      "outputs": []
    },
    {
      "cell_type": "code",
      "source": [
        "# check variability\n",
        "sales[features].var().sort_values()"
      ],
      "metadata": {
        "id": "8Qg7IfFUCB6r",
        "outputId": "4372aa17-7087-4dda-df23-f1b9b3e343b3",
        "colab": {
          "base_uri": "https://localhost:8080/"
        }
      },
      "execution_count": 93,
      "outputs": [
        {
          "output_type": "execute_result",
          "data": {
            "text/plain": [
              "weekend_days           5.479973e-05\n",
              "working_days           1.007449e-04\n",
              "total_days             1.159543e-04\n",
              "month                  1.409395e-03\n",
              "year                   2.205792e-03\n",
              "item_name_len          5.146523e-03\n",
              "city_id                8.902004e-03\n",
              "parent_cat             2.602426e-02\n",
              "child_cat              9.436299e-02\n",
              "item_sim_id            1.834997e-01\n",
              "lag1_price_perc        2.809305e-01\n",
              "lag2_price_perc        3.306813e-01\n",
              "lag3_price_change      3.529457e-01\n",
              "lag2_price_change      3.599857e-01\n",
              "lag3_price_perc        3.642579e-01\n",
              "lag1_price_change      3.675595e-01\n",
              "lag3_n_transactions    6.751779e-01\n",
              "lag2_n_transactions    6.942078e-01\n",
              "lag1_n_transactions    7.146029e-01\n",
              "lag3_city_demand       3.325531e+00\n",
              "lag2_city_demand       3.392207e+00\n",
              "lag3_cat_demand0       3.417052e+00\n",
              "lag1_city_demand       3.464478e+00\n",
              "lag2_cat_demand0       3.487577e+00\n",
              "lag1_cat_demand0       3.561522e+00\n",
              "lag3_cat_demand1       5.656855e+00\n",
              "lag2_cat_demand1       5.751359e+00\n",
              "lag1_cat_demand1       5.865323e+00\n",
              "lag3_total_sold        9.610695e+00\n",
              "lag2_total_sold        9.784209e+00\n",
              "lag1_total_sold        9.981623e+00\n",
              "item_maturity          8.548925e+01\n",
              "item_category_id       2.794428e+02\n",
              "lag3_sum_revenue       9.186774e+06\n",
              "lag2_sum_revenue       9.692886e+06\n",
              "lag1_sum_revenue       9.986945e+06\n",
              "dtype: float64"
            ]
          },
          "metadata": {},
          "execution_count": 93
        }
      ]
    },
    {
      "cell_type": "code",
      "source": [
        "sales = sales[sales.date_block_num>1] # just remove the bullshit"
      ],
      "metadata": {
        "id": "122B-_D3Vjtz"
      },
      "execution_count": 94,
      "outputs": []
    },
    {
      "cell_type": "markdown",
      "metadata": {
        "id": "LftUEX9AuT0y"
      },
      "source": [
        "## Modeling pipeline"
      ]
    },
    {
      "cell_type": "code",
      "execution_count": 95,
      "metadata": {
        "id": "KBf-FbARuT0y"
      },
      "outputs": [],
      "source": [
        "import lightgbm as lgbm\n",
        "import catboost as cat\n",
        "from xgboost import XGBRegressor\n",
        "from sklearn.linear_model import LinearRegression"
      ]
    },
    {
      "cell_type": "code",
      "execution_count": 96,
      "metadata": {
        "id": "8Oc7eBnCuT0y"
      },
      "outputs": [],
      "source": [
        "# stage filters\n",
        "b_ind =  sales.date_block_num==32 # 2nd stage \n",
        "c_ind =  sales.date_block_num==33 # eval\n",
        "test_ind =  sales.date_block_num==34 # prediction\n",
        "a_ind = ~b_ind & ~c_ind & ~test_ind # 1st stage"
      ]
    },
    {
      "cell_type": "code",
      "source": [
        "# operationalize filters\n",
        "#b_ind =  sales.date_block_num==33 # 2nd stage \n",
        "#c_ind =  sales.date_block_num==33 # eval\n",
        "#test_ind =  sales.date_block_num==34 # prediction\n",
        "#a_ind = ~b_ind & ~c_ind & ~test_ind # 1st stage"
      ],
      "metadata": {
        "id": "R2IQ69x9qVwV"
      },
      "execution_count": 30,
      "outputs": []
    },
    {
      "cell_type": "markdown",
      "metadata": {
        "id": "JYTd13sSuT0y"
      },
      "source": [
        "### First stage models"
      ]
    },
    {
      "cell_type": "code",
      "source": [
        "# lightgbm\n",
        "lgbm_model = lgbm.LGBMRegressor(n_estimators=250, learning_rate=.01,\n",
        "  objective=\"rmse\", device=\"gpu\")\n",
        "lgbm_model.fit(sales.loc[a_ind,features], sales.loc[a_ind,target],\n",
        "  eval_set=(sales.loc[c_ind,features], sales.loc[c_ind,target]),\n",
        "  callbacks=[lgbm.early_stopping(stopping_rounds=25)])\n",
        "\n",
        "# pushout preds\n",
        "lgbm_b_feature = lgbm_model.predict(sales.loc[b_ind,features]).clip(0,20)\n",
        "lgbm_c_feature = lgbm_model.predict(sales.loc[c_ind,features]).clip(0,20)\n",
        "lgbm_test_feature = lgbm_model.predict(sales.loc[test_ind,features]).clip(0,20)"
      ],
      "metadata": {
        "colab": {
          "base_uri": "https://localhost:8080/"
        },
        "id": "lW_av2LeTUEY",
        "outputId": "318f4a24-91fa-48d9-d4b3-41ff75364fa9"
      },
      "execution_count": 100,
      "outputs": [
        {
          "output_type": "stream",
          "name": "stdout",
          "text": [
            "Training until validation scores don't improve for 25 rounds\n",
            "Did not meet early stopping. Best iteration is:\n",
            "[248]\tvalid_0's rmse: 0.85733\n"
          ]
        }
      ]
    },
    {
      "cell_type": "code",
      "source": [
        "# light rf\n",
        "rf_model = lgbm.LGBMRegressor(n_estimators=250,\n",
        "  boosting_type=\"rf\", subsample_freq=10, subsample=.632,\n",
        "  objective=\"rmse\", device=\"gpu\")\n",
        "rf_model.fit(sales.loc[a_ind,features], sales.loc[a_ind,target],\n",
        "  eval_set=(sales.loc[c_ind,features], sales.loc[c_ind,target]),\n",
        "  callbacks=[lgbm.early_stopping(stopping_rounds=25)])\n",
        "\n",
        "# pushout preds\n",
        "rf_b_feature = rf_model.predict(sales.loc[b_ind,features]).clip(0,20)\n",
        "rf_c_feature = rf_model.predict(sales.loc[c_ind,features]).clip(0,20)\n",
        "rf_test_feature = rf_model.predict(sales.loc[test_ind,features]).clip(0,20)"
      ],
      "metadata": {
        "colab": {
          "base_uri": "https://localhost:8080/"
        },
        "id": "FXYFtvHfkq3e",
        "outputId": "501060e9-914f-4bc4-af95-39c94b51aa58"
      },
      "execution_count": 99,
      "outputs": [
        {
          "output_type": "stream",
          "name": "stdout",
          "text": [
            "Training until validation scores don't improve for 25 rounds\n",
            "Early stopping, best iteration is:\n",
            "[80]\tvalid_0's rmse: 0.900512\n"
          ]
        }
      ]
    },
    {
      "cell_type": "code",
      "execution_count": 101,
      "metadata": {
        "id": "EyvCpppxuT0y",
        "outputId": "13f76652-0ef2-4996-c4ca-996eed5e8ecf",
        "colab": {
          "base_uri": "https://localhost:8080/"
        }
      },
      "outputs": [
        {
          "output_type": "stream",
          "name": "stdout",
          "text": [
            "0:\tlearn: 1.0464356\ttest: 1.0863736\tbest: 1.0863736 (0)\ttotal: 35.7ms\tremaining: 17.8s\n",
            "100:\tlearn: 0.8103981\ttest: 0.9191378\tbest: 0.9191378 (100)\ttotal: 3.24s\tremaining: 12.8s\n",
            "200:\tlearn: 0.7438639\ttest: 0.8769566\tbest: 0.8769566 (200)\ttotal: 6.59s\tremaining: 9.8s\n",
            "300:\tlearn: 0.7149839\ttest: 0.8619091\tbest: 0.8619091 (300)\ttotal: 9.9s\tremaining: 6.54s\n",
            "400:\tlearn: 0.6972516\ttest: 0.8522595\tbest: 0.8521595 (399)\ttotal: 13.1s\tremaining: 3.24s\n",
            "499:\tlearn: 0.6859216\ttest: 0.8469910\tbest: 0.8469910 (499)\ttotal: 16.3s\tremaining: 0us\n",
            "bestTest = 0.8469909786\n",
            "bestIteration = 499\n"
          ]
        }
      ],
      "source": [
        "# catboost on raw data\n",
        "cat_model = cat.CatBoostRegressor(iterations=500,\n",
        "  learning_rate=.01, verbose=100,\n",
        "  eval_metric=\"RMSE\", early_stopping_rounds=25, task_type=\"GPU\")\n",
        "cat_model.fit(sales.loc[a_ind,features], sales.loc[a_ind,target],\n",
        "  eval_set=(sales.loc[c_ind,features], sales.loc[c_ind,target]))\n",
        "\n",
        "# pushout preds\n",
        "cat_b_feature = cat_model.predict(sales.loc[b_ind,features]).clip(0,20)\n",
        "cat_c_feature = cat_model.predict(sales.loc[c_ind,features]).clip(0,20)\n",
        "cat_test_feature = cat_model.predict(sales.loc[test_ind,features]).clip(0,20)"
      ]
    },
    {
      "cell_type": "code",
      "source": [
        "# keras\n",
        "import tensorflow as tf\n",
        "import tensorflow.keras as k\n",
        "import tensorflow.keras.layers as l\n",
        "\n",
        "input_layer = k.Input(shape=len(features))\n",
        "pre = l.Normalization()(input_layer)\n",
        "dl0 = l.Dense(64, activation=l.LeakyReLU())(pre)\n",
        "bnl0 = l.BatchNormalization()(dl0)\n",
        "dl1 = l.Dense(8, activation=l.LeakyReLU())(bnl0)\n",
        "bnl0 = l.BatchNormalization()(dl1)\n",
        "output_layer = l.Dense(1, activation=l.LeakyReLU())(bnl0)\n",
        "\n",
        "mlp_model = tf.keras.Model(input_layer, output_layer, name=\"mlp_regressor\")\n",
        "mlp_model.compile(loss=tf.keras.losses.MeanSquaredError())\n",
        "mlp_model.summary()"
      ],
      "metadata": {
        "id": "rQ-QQJpw17f-",
        "outputId": "40ad5ad0-ce08-4ff6-8f9e-69d83fdf4f47",
        "colab": {
          "base_uri": "https://localhost:8080/"
        }
      },
      "execution_count": 104,
      "outputs": [
        {
          "output_type": "stream",
          "name": "stdout",
          "text": [
            "Model: \"mlp_regressor\"\n",
            "_________________________________________________________________\n",
            " Layer (type)                Output Shape              Param #   \n",
            "=================================================================\n",
            " input_2 (InputLayer)        [(None, 36)]              0         \n",
            "                                                                 \n",
            " normalization_1 (Normalizat  (None, 36)               73        \n",
            " ion)                                                            \n",
            "                                                                 \n",
            " dense_3 (Dense)             (None, 64)                2368      \n",
            "                                                                 \n",
            " batch_normalization_2 (Batc  (None, 64)               256       \n",
            " hNormalization)                                                 \n",
            "                                                                 \n",
            " dense_4 (Dense)             (None, 8)                 520       \n",
            "                                                                 \n",
            " batch_normalization_3 (Batc  (None, 8)                32        \n",
            " hNormalization)                                                 \n",
            "                                                                 \n",
            " dense_5 (Dense)             (None, 1)                 9         \n",
            "                                                                 \n",
            "=================================================================\n",
            "Total params: 3,258\n",
            "Trainable params: 3,041\n",
            "Non-trainable params: 217\n",
            "_________________________________________________________________\n"
          ]
        }
      ]
    },
    {
      "cell_type": "code",
      "source": [
        "es = k.callbacks.EarlyStopping(patience=5, monitor=\"val_loss\",\n",
        "    min_delta=.001, mode=\"min\", restore_best_weights=False)\n",
        "training_history = mlp_model.fit(sales.loc[a_ind,features],\n",
        "  sales.loc[a_ind, target], batch_size=1024,\n",
        "  epochs=25, validation_data=(sales.loc[c_ind,features],\n",
        "  sales.loc[c_ind,target]), callbacks=[es])"
      ],
      "metadata": {
        "id": "PjWgwR66DdyT",
        "outputId": "6ea25f7d-fd99-4da9-c9ff-fd15c0d331d0",
        "colab": {
          "base_uri": "https://localhost:8080/"
        }
      },
      "execution_count": 106,
      "outputs": [
        {
          "output_type": "stream",
          "name": "stdout",
          "text": [
            "Epoch 1/25\n",
            "6276/6276 [==============================] - 23s 4ms/step - loss: 0.5843 - val_loss: 0.9792\n",
            "Epoch 2/25\n",
            "6276/6276 [==============================] - 23s 4ms/step - loss: 0.5679 - val_loss: 0.8336\n",
            "Epoch 3/25\n",
            "6276/6276 [==============================] - 23s 4ms/step - loss: 0.5626 - val_loss: 0.7906\n",
            "Epoch 4/25\n",
            "6276/6276 [==============================] - 23s 4ms/step - loss: 0.5569 - val_loss: 0.7600\n",
            "Epoch 5/25\n",
            "6276/6276 [==============================] - 23s 4ms/step - loss: 0.5526 - val_loss: 0.8951\n",
            "Epoch 6/25\n",
            "6276/6276 [==============================] - 23s 4ms/step - loss: 0.5509 - val_loss: 0.7809\n",
            "Epoch 7/25\n",
            "6276/6276 [==============================] - 23s 4ms/step - loss: 0.5474 - val_loss: 0.7606\n",
            "Epoch 8/25\n",
            "6276/6276 [==============================] - 23s 4ms/step - loss: 0.5458 - val_loss: 0.7860\n",
            "Epoch 9/25\n",
            "6276/6276 [==============================] - 23s 4ms/step - loss: 0.5427 - val_loss: 0.7860\n"
          ]
        }
      ]
    },
    {
      "cell_type": "code",
      "source": [
        "def plot_metric(df, metric, ax):\n",
        "    ax.plot(df[metric], label=\"training \"+metric)\n",
        "    ax.plot(df[\"val_\"+metric], label=\"val \"+metric)\n",
        "    ax.legend(loc=\"upper right\")\n",
        "    ax.set_ylabel(metric)\n",
        "    return ax\n",
        "\n",
        "import pandas as pd\n",
        "import re\n",
        "diag_df = pd.DataFrame(training_history.history)\n",
        "diag_df.columns = [re.sub(r\"_[0-9]+\",\"\",c) for c in diag_df.columns]\n",
        "\n",
        "fs, axs = plt.subplots(1,1, figsize=(10,5))\n",
        "#metrics = [\"accuracy\", \"loss\"]\n",
        "#for ax, m in zip(axs.flatten(), metrics):\n",
        "#    plot_metric(diag_df, m, ax);\n",
        "plot_metric(diag_df, \"loss\", axs);"
      ],
      "metadata": {
        "id": "oEB3yY3q0f3M",
        "outputId": "fad350da-18b0-4494-f1cf-fe454e3ea5fc",
        "colab": {
          "base_uri": "https://localhost:8080/",
          "height": 323
        }
      },
      "execution_count": 111,
      "outputs": [
        {
          "output_type": "display_data",
          "data": {
            "text/plain": [
              "<Figure size 720x360 with 1 Axes>"
            ],
            "image/png": "[encoded data removed]"
          },
          "metadata": {
            "needs_background": "light"
          }
        }
      ]
    },
    {
      "cell_type": "code",
      "source": [
        "mlp_b_feature = mlp_model.predict(sales.loc[b_ind,features]).reshape(1,-1)[0].clip(0,20)\n",
        "mlp_c_feature = mlp_model.predict(sales.loc[c_ind,features]).reshape(1,-1)[0].clip(0,20)\n",
        "mlp_test_feature = mlp_model.predict(sales.loc[test_ind,features]).reshape(1,-1)[0].clip(0,20)"
      ],
      "metadata": {
        "id": "mW-A6P7uuA74"
      },
      "execution_count": 112,
      "outputs": []
    },
    {
      "cell_type": "code",
      "source": [
        "# catboost clf\n",
        "clf_target = (sales.loc[:,target]>1).fillna(0).astype(\"int\")\n",
        "catclf_model = cat.CatBoostClassifier(iterations=500,\n",
        "  learning_rate=.01, verbose=100, early_stopping_rounds=50,\n",
        "  task_type=\"GPU\")\n",
        "catclf_model.fit(sales.loc[a_ind,features], clf_target[a_ind],\n",
        "  eval_set=(sales.loc[c_ind,features], clf_target[c_ind]))\n",
        "\n",
        "# pushout preds\n",
        "catclf_b_feature = catclf_model.predict(sales.loc[b_ind,features]).reshape(1,-1)[0]\n",
        "catclf_c_feature = catclf_model.predict(sales.loc[c_ind,features]).reshape(1,-1)[0]\n",
        "catclf_test_feature = catclf_model.predict(sales.loc[test_ind,features]).reshape(1,-1)[0]"
      ],
      "metadata": {
        "colab": {
          "base_uri": "https://localhost:8080/"
        },
        "id": "gxmOXyExtzay",
        "outputId": "dec84622-fad2-4dac-9c80-49d4e88f9143"
      },
      "execution_count": 113,
      "outputs": [
        {
          "output_type": "stream",
          "name": "stderr",
          "text": [
            "Warning: less than 75% gpu memory available for training. Free: 7591.75 Total: 16280.875\n"
          ]
        },
        {
          "output_type": "stream",
          "name": "stdout",
          "text": [
            "0:\tlearn: 0.6714587\ttest: 0.6726989\tbest: 0.6726989 (0)\ttotal: 43ms\tremaining: 21.4s\n",
            "100:\tlearn: 0.0873721\ttest: 0.1506071\tbest: 0.1506071 (100)\ttotal: 3.91s\tremaining: 15.5s\n",
            "200:\tlearn: 0.0711797\ttest: 0.1198794\tbest: 0.1198794 (200)\ttotal: 7.83s\tremaining: 11.6s\n",
            "300:\tlearn: 0.0680652\ttest: 0.1143854\tbest: 0.1143854 (300)\ttotal: 11.9s\tremaining: 7.86s\n",
            "400:\tlearn: 0.0668613\ttest: 0.1126094\tbest: 0.1126094 (400)\ttotal: 15.9s\tremaining: 3.93s\n",
            "499:\tlearn: 0.0661928\ttest: 0.1117390\tbest: 0.1117390 (499)\ttotal: 19.9s\tremaining: 0us\n",
            "bestTest = 0.1117389651\n",
            "bestIteration = 499\n"
          ]
        }
      ]
    },
    {
      "cell_type": "code",
      "execution_count": null,
      "metadata": {
        "id": "sRdLYh6cuT0z"
      },
      "outputs": [],
      "source": [
        "# reformulate as rank/multiclass\n",
        "#lgbmc_model = lgbm.LGBMRanker(n_estimators=1000, learning_rate=.01,\n",
        "#  device=\"gpu\")\n",
        "#lgbmc_model.fit(sales.loc[a_ind,features], sales.loc[a_ind,target],\n",
        "#  eval_set=(sales.loc[b_ind,features], sales.loc[b_ind,target]),\n",
        "#  callbacks=[lgbm.early_stopping(stopping_rounds=10)])\n",
        "\n",
        "#clf_target = (sales[target]>1).astype(\"int\")\n",
        "#clf_target = (sales.loc[a_ind,target].rank(pct=True).round(1)*10).astype(\"int\")\n",
        "#lgbmc_model.fit(sales.loc[a_ind,features], clf_target[a_ind])\n",
        "\n",
        "# pushout preds\n",
        "#lgbmc_b_feature = lgbmc_model.predict(sales.loc[b_ind,features])\n",
        "#lgbmc_c_feature = lgbmc_model.predict(sales.loc[c_ind,features])\n",
        "#lgbmc_test_feature = lgbmc_model.predict(sales.loc[test_ind,features])"
      ]
    },
    {
      "cell_type": "markdown",
      "metadata": {
        "id": "3LsEz_SQuT0z"
      },
      "source": [
        "### Second stage model"
      ]
    },
    {
      "cell_type": "code",
      "source": [
        "from sklearn.linear_model import RidgeCV"
      ],
      "metadata": {
        "id": "FzO0ZcUVbLWt"
      },
      "execution_count": 117,
      "outputs": []
    },
    {
      "cell_type": "code",
      "execution_count": 118,
      "metadata": {
        "id": "I4ys5hM5uT0z",
        "outputId": "15552517-3f7d-4663-848e-eefa8bafaac6",
        "colab": {
          "base_uri": "https://localhost:8080/"
        }
      },
      "outputs": [
        {
          "output_type": "stream",
          "name": "stdout",
          "text": [
            "Stacked pipeline> RMSE on train set: 0.8292861311259889; on val set: 0.8558925547764611\n"
          ]
        }
      ],
      "source": [
        "b_features = np.stack([rf_b_feature, lgbm_b_feature,\n",
        "    cat_b_feature, catclf_b_feature, mlp_b_feature], axis=1)\n",
        "c_features = np.stack([rf_c_feature, lgbm_c_feature,\n",
        "    cat_c_feature, catclf_c_feature, mlp_c_feature], axis=1)\n",
        "test_features = np.stack([rf_test_feature, lgbm_test_feature,\n",
        "    cat_test_feature, catclf_test_feature, mlp_test_feature], axis=1)\n",
        "\n",
        "lr_model = RidgeCV()\n",
        "lr_model.fit(b_features, sales.loc[b_ind,target])\n",
        "\n",
        "train_rsme = np.mean((lr_model.predict(b_features).clip(0,20)-sales.loc[b_ind,target])**2)**(1/2)\n",
        "val_rsme = np.mean((lr_model.predict(c_features).clip(0,20)-sales.loc[c_ind,target])**2)**(1/2)\n",
        "print(\"Stacked pipeline> RMSE on train set: {}; on val set: {}\".format(train_rsme, val_rsme))"
      ]
    },
    {
      "cell_type": "code",
      "source": [
        "lr_model.alpha_"
      ],
      "metadata": {
        "id": "zwV2h-lm9PHy",
        "outputId": "46d6940a-79ef-4ecc-f753-426334099df8",
        "colab": {
          "base_uri": "https://localhost:8080/"
        }
      },
      "execution_count": 122,
      "outputs": [
        {
          "output_type": "execute_result",
          "data": {
            "text/plain": [
              "10.0"
            ]
          },
          "metadata": {},
          "execution_count": 122
        }
      ]
    },
    {
      "cell_type": "code",
      "execution_count": 123,
      "metadata": {
        "id": "ykY8z6AnuT0z"
      },
      "outputs": [],
      "source": [
        "test_mapping = pd.read_csv(DATA_DIR+\"test.csv\")\n",
        "test_predictions = sales.loc[test_ind,[\"item_id\", \"shop_id\"]]\n",
        "test_predictions[\"item_cnt_month\"] = lr_model.predict(test_features).clip(0,20)\n",
        "test_predictions = test_mapping.merge(test_predictions, on=[\"item_id\", \"shop_id\"],how=\"left\").fillna(0)\n",
        "test_predictions[[\"ID\", \"item_cnt_month\"]].to_csv(\"data/submissions/submission.csv\", index=False)\n",
        "#!kaggle competitions submit -c competitive-data-science-predict-future-sales -f data/submissions/submission.csv -m \"Meh, but now with MLP.\""
      ]
    },
    {
      "cell_type": "markdown",
      "metadata": {
        "id": "10mMLItOuT0z"
      },
      "source": [
        "## Submission"
      ]
    }
  ],
  "metadata": {
    "interpreter": {
      "hash": "fe955f705e5e305f9f1f02456b3a54982590d8b1fc3c3fbafb7ab752acef3d16"
    },
    "kernelspec": {
      "display_name": "Python 3.8.10 ('py-env': venv)",
      "language": "python",
      "name": "python3"
    },
    "language_info": {
      "codemirror_mode": {
        "name": "ipython",
        "version": 3
      },
      "file_extension": ".py",
      "mimetype": "text/x-python",
      "name": "python",
      "nbconvert_exporter": "python",
      "pygments_lexer": "ipython3",
      "version": "3.8.10"
    },
    "orig_nbformat": 4,
    "colab": {
      "name": "final_project.ipynb",
      "provenance": [],
      "machine_shape": "hm"
    },
    "accelerator": "GPU"
  },
  "nbformat": 4,
  "nbformat_minor": 0
}